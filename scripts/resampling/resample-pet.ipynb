{
 "cells": [
  {
   "attachments": {},
   "cell_type": "markdown",
   "metadata": {},
   "source": [
    "# MOD16A2数据重采样\n",
    "\n",
    "尝试对MOD16A2数据进行重采样。这里使用广泛被采用的最大值合成法。"
   ]
  },
  {
   "attachments": {},
   "cell_type": "markdown",
   "metadata": {},
   "source": [
    "## 最大值合成法\n",
    "\n",
    "记$\\{PET_i\\}$为一个栅格中的降雨量时间序列，则在该时间范围内，这一栅格中的降雨量值可以用序列中的最大值$\\mathrm{max}(\\{PET_i\\})$代替。\n",
    "\n",
    "$$ PET=\\mathrm{max}(\\{PET_i\\}) $$"
   ]
  },
  {
   "attachments": {},
   "cell_type": "markdown",
   "metadata": {},
   "source": [
    "扩展到二维形式，使用循环解决\n",
    "```python\n",
    "import numpy as np\n",
    "PET_sequence = np.array([[[PET_tij for j in range(0,j)]for i in range(0,i)]for t in range(0,t)])\n",
    "\n",
    "PET = []\n",
    "for t in range(0,t):\n",
    "    PET_ij = []\n",
    "    for i in range(0,i):\n",
    "        PET_i = []\n",
    "        for j in range(0,j):\n",
    "            PET_std = max([PET_sequence[i][j] for t in range(0,t)])\n",
    "            PET_i.append(PET_std)\n",
    "        PET_ij.append(PET_i)\n",
    "    PET.append(PET_ij)\n",
    "\n",
    "PET = np.array(PET)\n",
    "```\n",
    "使用了四重嵌套循环进行合成，效率相当的低。\n",
    "能否进行一些优化？"
   ]
  },
  {
   "attachments": {},
   "cell_type": "markdown",
   "metadata": {},
   "source": [
    "可以使用`xarray`库[自带](https://docs.xarray.dev/en/stable/generated/xarray.Dataset.max.html)的方法取最大值。`numpy`好像[也有](https://numpy.org/doc/stable/reference/generated/numpy.amax.html#numpy.amax)?"
   ]
  },
  {
   "attachments": {},
   "cell_type": "markdown",
   "metadata": {},
   "source": [
    "比如\n",
    "\n",
    "~~~python\n",
    "import numpy as np\n",
    "a = np.array([[1, 2, 3], [4, 5, 6], [7, 8, 5]])\n",
    "b = np.array([[4, 5, 1], [2, 3, 6], [7, 8, 9]])\n",
    "\n",
    "np.amax([a, b], axis=0)\n",
    "~~~\n"
   ]
  },
  {
   "attachments": {},
   "cell_type": "markdown",
   "metadata": {},
   "source": [
    "MODIS数据是8天一个样品，有必要根据日进行划分\n",
    "根据时间间隔，将8天的采样频率平均划分给12个月，如下表：\n",
    "\n",
    "| **Month** | **Start_date** | **End_date** | **Length** | **Start_date_filename** | **End_date_filename** |\n",
    "|-----------|----------------|--------------|------------|-------------------------|------------------------|\n",
    "| **1**     | 1              | 32           | 31         | 1                       | 25                     |\n",
    "| **2**     | 33             | 56           | 23         | 33                      | 49                     |\n",
    "| **3**     | 57             | 88           | 31         | 57                      | 81                     |\n",
    "| **4**     | 89             | 120          | 31         | 89                      | 113                    |\n",
    "| **5**     | 121            | 152          | 31         | 121                     | 145                    |\n",
    "| **6**     | 153            | 184          | 31         | 153                     | 177                    |\n",
    "| **7**     | 185            | 216          | 31         | 185                     | 209                    |\n",
    "| **8**     | 209            | 240          | 31         | 209                     | 233                    |\n",
    "| **9**     | 241            | 272          | 31         | 241                     | 265                    |\n"
   ]
  },
  {
   "cell_type": "code",
   "execution_count": 14,
   "metadata": {},
   "outputs": [],
   "source": [
    "import numpy as np\n",
    "import scipy as sp\n",
    "import pandas as pd\n",
    "import geopandas as gpd\n",
    "import matplotlib.pyplot as plt\n",
    "import xarray as xr\n",
    "import shapely\n",
    "import rioxarray as rxr\n",
    "import rasterio\n",
    "from affine import Affine\n",
    "import multiprocessing\n"
   ]
  },
  {
   "attachments": {},
   "cell_type": "markdown",
   "metadata": {},
   "source": [
    "定义生成文件名字典的函数"
   ]
  },
  {
   "cell_type": "code",
   "execution_count": 15,
   "metadata": {},
   "outputs": [],
   "source": [
    "def generate_filename_map(year:str)->dict:\n",
    "    \n",
    "    def generate_filename(year:str,date:str)->str:\n",
    "        preifx = 'MOD16A2GF.006_PET_500m_doy'\n",
    "        suffix = '_aid0001.tif'\n",
    "        return preifx+year+date+suffix\n",
    "    \n",
    "    def calc_days(start:int,end:int)->list:\n",
    "        length = end-start\n",
    "        counts = length//8\n",
    "        days = []\n",
    "        for i in range(counts):\n",
    "            days.append(start+i*8)\n",
    "        days.append(end)\n",
    "        return days\n",
    "    \n",
    "    months = [1,2,3,4,5,6,7,8,9,10,11,12]\n",
    "    months_start_date_lst = [1,33,57,89,121,153,185,209,241,273,305,337]\n",
    "    months_end_date_lst = [25,49,81,113,145,177,209,233,265,297,329,361]\n",
    "\n",
    "    filename_map = {}\n",
    "\n",
    "    for i in range(len(months)):\n",
    "        start = months_start_date_lst[i]\n",
    "        end = months_end_date_lst[i]\n",
    "        days = calc_days(start,end)\n",
    "        filename_map[months[i]] = []\n",
    "        for day in days:\n",
    "            filename_map[months[i]].append(generate_filename(year,str(day).zfill(3)))\n",
    "\n",
    "    return filename_map"
   ]
  },
  {
   "attachments": {},
   "cell_type": "markdown",
   "metadata": {},
   "source": [
    "测试一下求最大值"
   ]
  },
  {
   "cell_type": "code",
   "execution_count": 16,
   "metadata": {},
   "outputs": [],
   "source": [
    "base_dir = '../datas/MODIS/MODIS16A2GF/PET/'\n",
    "\n",
    "test_frame_0 = xr.open_dataset(r\"../datas/MODIS/MODIS16A2GF/PET/MOD16A2GF.006_PET_500m_doy2000001_aid0001.tif\").squeeze(\"band\",drop=True)\n",
    "\n",
    "\n",
    "test_frame_1 = xr.open_dataset(r\"../datas/MODIS/MODIS16A2GF/PET/MOD16A2GF.006_PET_500m_doy2000009_aid0001.tif\").squeeze(\"band\",drop=True)\n",
    "\n",
    "\n",
    "test_frame_2 = xr.open_dataset(r\"../datas/MODIS/MODIS16A2GF/PET/MOD16A2GF.006_PET_500m_doy2000017_aid0001.tif\").squeeze(\"band\",drop=True)\n",
    "\n",
    "\n",
    "test_frame = xr.concat([test_frame_0,test_frame_1,test_frame_2],dim=\"time\",data_vars=[\"band_data\"])"
   ]
  },
  {
   "cell_type": "code",
   "execution_count": 17,
   "metadata": {},
   "outputs": [],
   "source": [
    "test_frame=test_frame.max(dim=\"time\")"
   ]
  },
  {
   "attachments": {},
   "cell_type": "markdown",
   "metadata": {},
   "source": [
    "MODIS16A2的空间分辨率为500m，为与降雨量数据精度匹配，需要将其重采样至1km。"
   ]
  },
  {
   "cell_type": "code",
   "execution_count": 18,
   "metadata": {},
   "outputs": [
    {
     "data": {
      "text/html": [
       "<div><svg style=\"position: absolute; width: 0; height: 0; overflow: hidden\">\n",
       "<defs>\n",
       "<symbol id=\"icon-database\" viewBox=\"0 0 32 32\">\n",
       "<path d=\"M16 0c-8.837 0-16 2.239-16 5v4c0 2.761 7.163 5 16 5s16-2.239 16-5v-4c0-2.761-7.163-5-16-5z\"></path>\n",
       "<path d=\"M16 17c-8.837 0-16-2.239-16-5v6c0 2.761 7.163 5 16 5s16-2.239 16-5v-6c0 2.761-7.163 5-16 5z\"></path>\n",
       "<path d=\"M16 26c-8.837 0-16-2.239-16-5v6c0 2.761 7.163 5 16 5s16-2.239 16-5v-6c0 2.761-7.163 5-16 5z\"></path>\n",
       "</symbol>\n",
       "<symbol id=\"icon-file-text2\" viewBox=\"0 0 32 32\">\n",
       "<path d=\"M28.681 7.159c-0.694-0.947-1.662-2.053-2.724-3.116s-2.169-2.030-3.116-2.724c-1.612-1.182-2.393-1.319-2.841-1.319h-15.5c-1.378 0-2.5 1.121-2.5 2.5v27c0 1.378 1.122 2.5 2.5 2.5h23c1.378 0 2.5-1.122 2.5-2.5v-19.5c0-0.448-0.137-1.23-1.319-2.841zM24.543 5.457c0.959 0.959 1.712 1.825 2.268 2.543h-4.811v-4.811c0.718 0.556 1.584 1.309 2.543 2.268zM28 29.5c0 0.271-0.229 0.5-0.5 0.5h-23c-0.271 0-0.5-0.229-0.5-0.5v-27c0-0.271 0.229-0.5 0.5-0.5 0 0 15.499-0 15.5 0v7c0 0.552 0.448 1 1 1h7v19.5z\"></path>\n",
       "<path d=\"M23 26h-14c-0.552 0-1-0.448-1-1s0.448-1 1-1h14c0.552 0 1 0.448 1 1s-0.448 1-1 1z\"></path>\n",
       "<path d=\"M23 22h-14c-0.552 0-1-0.448-1-1s0.448-1 1-1h14c0.552 0 1 0.448 1 1s-0.448 1-1 1z\"></path>\n",
       "<path d=\"M23 18h-14c-0.552 0-1-0.448-1-1s0.448-1 1-1h14c0.552 0 1 0.448 1 1s-0.448 1-1 1z\"></path>\n",
       "</symbol>\n",
       "</defs>\n",
       "</svg>\n",
       "<style>/* CSS stylesheet for displaying xarray objects in jupyterlab.\n",
       " *\n",
       " */\n",
       "\n",
       ":root {\n",
       "  --xr-font-color0: var(--jp-content-font-color0, rgba(0, 0, 0, 1));\n",
       "  --xr-font-color2: var(--jp-content-font-color2, rgba(0, 0, 0, 0.54));\n",
       "  --xr-font-color3: var(--jp-content-font-color3, rgba(0, 0, 0, 0.38));\n",
       "  --xr-border-color: var(--jp-border-color2, #e0e0e0);\n",
       "  --xr-disabled-color: var(--jp-layout-color3, #bdbdbd);\n",
       "  --xr-background-color: var(--jp-layout-color0, white);\n",
       "  --xr-background-color-row-even: var(--jp-layout-color1, white);\n",
       "  --xr-background-color-row-odd: var(--jp-layout-color2, #eeeeee);\n",
       "}\n",
       "\n",
       "html[theme=dark],\n",
       "body[data-theme=dark],\n",
       "body.vscode-dark {\n",
       "  --xr-font-color0: rgba(255, 255, 255, 1);\n",
       "  --xr-font-color2: rgba(255, 255, 255, 0.54);\n",
       "  --xr-font-color3: rgba(255, 255, 255, 0.38);\n",
       "  --xr-border-color: #1F1F1F;\n",
       "  --xr-disabled-color: #515151;\n",
       "  --xr-background-color: #111111;\n",
       "  --xr-background-color-row-even: #111111;\n",
       "  --xr-background-color-row-odd: #313131;\n",
       "}\n",
       "\n",
       ".xr-wrap {\n",
       "  display: block !important;\n",
       "  min-width: 300px;\n",
       "  max-width: 700px;\n",
       "}\n",
       "\n",
       ".xr-text-repr-fallback {\n",
       "  /* fallback to plain text repr when CSS is not injected (untrusted notebook) */\n",
       "  display: none;\n",
       "}\n",
       "\n",
       ".xr-header {\n",
       "  padding-top: 6px;\n",
       "  padding-bottom: 6px;\n",
       "  margin-bottom: 4px;\n",
       "  border-bottom: solid 1px var(--xr-border-color);\n",
       "}\n",
       "\n",
       ".xr-header > div,\n",
       ".xr-header > ul {\n",
       "  display: inline;\n",
       "  margin-top: 0;\n",
       "  margin-bottom: 0;\n",
       "}\n",
       "\n",
       ".xr-obj-type,\n",
       ".xr-array-name {\n",
       "  margin-left: 2px;\n",
       "  margin-right: 10px;\n",
       "}\n",
       "\n",
       ".xr-obj-type {\n",
       "  color: var(--xr-font-color2);\n",
       "}\n",
       "\n",
       ".xr-sections {\n",
       "  padding-left: 0 !important;\n",
       "  display: grid;\n",
       "  grid-template-columns: 150px auto auto 1fr 20px 20px;\n",
       "}\n",
       "\n",
       ".xr-section-item {\n",
       "  display: contents;\n",
       "}\n",
       "\n",
       ".xr-section-item input {\n",
       "  display: none;\n",
       "}\n",
       "\n",
       ".xr-section-item input + label {\n",
       "  color: var(--xr-disabled-color);\n",
       "}\n",
       "\n",
       ".xr-section-item input:enabled + label {\n",
       "  cursor: pointer;\n",
       "  color: var(--xr-font-color2);\n",
       "}\n",
       "\n",
       ".xr-section-item input:enabled + label:hover {\n",
       "  color: var(--xr-font-color0);\n",
       "}\n",
       "\n",
       ".xr-section-summary {\n",
       "  grid-column: 1;\n",
       "  color: var(--xr-font-color2);\n",
       "  font-weight: 500;\n",
       "}\n",
       "\n",
       ".xr-section-summary > span {\n",
       "  display: inline-block;\n",
       "  padding-left: 0.5em;\n",
       "}\n",
       "\n",
       ".xr-section-summary-in:disabled + label {\n",
       "  color: var(--xr-font-color2);\n",
       "}\n",
       "\n",
       ".xr-section-summary-in + label:before {\n",
       "  display: inline-block;\n",
       "  content: '►';\n",
       "  font-size: 11px;\n",
       "  width: 15px;\n",
       "  text-align: center;\n",
       "}\n",
       "\n",
       ".xr-section-summary-in:disabled + label:before {\n",
       "  color: var(--xr-disabled-color);\n",
       "}\n",
       "\n",
       ".xr-section-summary-in:checked + label:before {\n",
       "  content: '▼';\n",
       "}\n",
       "\n",
       ".xr-section-summary-in:checked + label > span {\n",
       "  display: none;\n",
       "}\n",
       "\n",
       ".xr-section-summary,\n",
       ".xr-section-inline-details {\n",
       "  padding-top: 4px;\n",
       "  padding-bottom: 4px;\n",
       "}\n",
       "\n",
       ".xr-section-inline-details {\n",
       "  grid-column: 2 / -1;\n",
       "}\n",
       "\n",
       ".xr-section-details {\n",
       "  display: none;\n",
       "  grid-column: 1 / -1;\n",
       "  margin-bottom: 5px;\n",
       "}\n",
       "\n",
       ".xr-section-summary-in:checked ~ .xr-section-details {\n",
       "  display: contents;\n",
       "}\n",
       "\n",
       ".xr-array-wrap {\n",
       "  grid-column: 1 / -1;\n",
       "  display: grid;\n",
       "  grid-template-columns: 20px auto;\n",
       "}\n",
       "\n",
       ".xr-array-wrap > label {\n",
       "  grid-column: 1;\n",
       "  vertical-align: top;\n",
       "}\n",
       "\n",
       ".xr-preview {\n",
       "  color: var(--xr-font-color3);\n",
       "}\n",
       "\n",
       ".xr-array-preview,\n",
       ".xr-array-data {\n",
       "  padding: 0 5px !important;\n",
       "  grid-column: 2;\n",
       "}\n",
       "\n",
       ".xr-array-data,\n",
       ".xr-array-in:checked ~ .xr-array-preview {\n",
       "  display: none;\n",
       "}\n",
       "\n",
       ".xr-array-in:checked ~ .xr-array-data,\n",
       ".xr-array-preview {\n",
       "  display: inline-block;\n",
       "}\n",
       "\n",
       ".xr-dim-list {\n",
       "  display: inline-block !important;\n",
       "  list-style: none;\n",
       "  padding: 0 !important;\n",
       "  margin: 0;\n",
       "}\n",
       "\n",
       ".xr-dim-list li {\n",
       "  display: inline-block;\n",
       "  padding: 0;\n",
       "  margin: 0;\n",
       "}\n",
       "\n",
       ".xr-dim-list:before {\n",
       "  content: '(';\n",
       "}\n",
       "\n",
       ".xr-dim-list:after {\n",
       "  content: ')';\n",
       "}\n",
       "\n",
       ".xr-dim-list li:not(:last-child):after {\n",
       "  content: ',';\n",
       "  padding-right: 5px;\n",
       "}\n",
       "\n",
       ".xr-has-index {\n",
       "  font-weight: bold;\n",
       "}\n",
       "\n",
       ".xr-var-list,\n",
       ".xr-var-item {\n",
       "  display: contents;\n",
       "}\n",
       "\n",
       ".xr-var-item > div,\n",
       ".xr-var-item label,\n",
       ".xr-var-item > .xr-var-name span {\n",
       "  background-color: var(--xr-background-color-row-even);\n",
       "  margin-bottom: 0;\n",
       "}\n",
       "\n",
       ".xr-var-item > .xr-var-name:hover span {\n",
       "  padding-right: 5px;\n",
       "}\n",
       "\n",
       ".xr-var-list > li:nth-child(odd) > div,\n",
       ".xr-var-list > li:nth-child(odd) > label,\n",
       ".xr-var-list > li:nth-child(odd) > .xr-var-name span {\n",
       "  background-color: var(--xr-background-color-row-odd);\n",
       "}\n",
       "\n",
       ".xr-var-name {\n",
       "  grid-column: 1;\n",
       "}\n",
       "\n",
       ".xr-var-dims {\n",
       "  grid-column: 2;\n",
       "}\n",
       "\n",
       ".xr-var-dtype {\n",
       "  grid-column: 3;\n",
       "  text-align: right;\n",
       "  color: var(--xr-font-color2);\n",
       "}\n",
       "\n",
       ".xr-var-preview {\n",
       "  grid-column: 4;\n",
       "}\n",
       "\n",
       ".xr-index-preview {\n",
       "  grid-column: 2 / 5;\n",
       "  color: var(--xr-font-color2);\n",
       "}\n",
       "\n",
       ".xr-var-name,\n",
       ".xr-var-dims,\n",
       ".xr-var-dtype,\n",
       ".xr-preview,\n",
       ".xr-attrs dt {\n",
       "  white-space: nowrap;\n",
       "  overflow: hidden;\n",
       "  text-overflow: ellipsis;\n",
       "  padding-right: 10px;\n",
       "}\n",
       "\n",
       ".xr-var-name:hover,\n",
       ".xr-var-dims:hover,\n",
       ".xr-var-dtype:hover,\n",
       ".xr-attrs dt:hover {\n",
       "  overflow: visible;\n",
       "  width: auto;\n",
       "  z-index: 1;\n",
       "}\n",
       "\n",
       ".xr-var-attrs,\n",
       ".xr-var-data,\n",
       ".xr-index-data {\n",
       "  display: none;\n",
       "  background-color: var(--xr-background-color) !important;\n",
       "  padding-bottom: 5px !important;\n",
       "}\n",
       "\n",
       ".xr-var-attrs-in:checked ~ .xr-var-attrs,\n",
       ".xr-var-data-in:checked ~ .xr-var-data,\n",
       ".xr-index-data-in:checked ~ .xr-index-data {\n",
       "  display: block;\n",
       "}\n",
       "\n",
       ".xr-var-data > table {\n",
       "  float: right;\n",
       "}\n",
       "\n",
       ".xr-var-name span,\n",
       ".xr-var-data,\n",
       ".xr-index-name div,\n",
       ".xr-index-data,\n",
       ".xr-attrs {\n",
       "  padding-left: 25px !important;\n",
       "}\n",
       "\n",
       ".xr-attrs,\n",
       ".xr-var-attrs,\n",
       ".xr-var-data,\n",
       ".xr-index-data {\n",
       "  grid-column: 1 / -1;\n",
       "}\n",
       "\n",
       "dl.xr-attrs {\n",
       "  padding: 0;\n",
       "  margin: 0;\n",
       "  display: grid;\n",
       "  grid-template-columns: 125px auto;\n",
       "}\n",
       "\n",
       ".xr-attrs dt,\n",
       ".xr-attrs dd {\n",
       "  padding: 0;\n",
       "  margin: 0;\n",
       "  float: left;\n",
       "  padding-right: 10px;\n",
       "  width: auto;\n",
       "}\n",
       "\n",
       ".xr-attrs dt {\n",
       "  font-weight: normal;\n",
       "  grid-column: 1;\n",
       "}\n",
       "\n",
       ".xr-attrs dt:hover span {\n",
       "  display: inline-block;\n",
       "  background: var(--xr-background-color);\n",
       "  padding-right: 10px;\n",
       "}\n",
       "\n",
       ".xr-attrs dd {\n",
       "  grid-column: 2;\n",
       "  white-space: pre-wrap;\n",
       "  word-break: break-all;\n",
       "}\n",
       "\n",
       ".xr-icon-database,\n",
       ".xr-icon-file-text2,\n",
       ".xr-no-icon {\n",
       "  display: inline-block;\n",
       "  vertical-align: middle;\n",
       "  width: 1em;\n",
       "  height: 1.5em !important;\n",
       "  stroke-width: 0;\n",
       "  stroke: currentColor;\n",
       "  fill: currentColor;\n",
       "}\n",
       "</style><pre class='xr-text-repr-fallback'>&lt;xarray.Dataset&gt;\n",
       "Dimensions:      (x: 1681, y: 1921)\n",
       "Coordinates:\n",
       "  * x            (x) float64 114.0 114.0 114.0 114.0 ... 121.0 121.0 121.0 121.0\n",
       "  * y            (y) float64 40.0 40.0 39.99 39.99 ... 32.01 32.01 32.01 32.0\n",
       "    spatial_ref  int64 0\n",
       "Data variables:\n",
       "    band_data    (y, x) float32 8.6 8.6 8.6 8.6 8.6 ... 12.6 12.6 12.5 12.4 12.5</pre><div class='xr-wrap' style='display:none'><div class='xr-header'><div class='xr-obj-type'>xarray.Dataset</div></div><ul class='xr-sections'><li class='xr-section-item'><input id='section-d5cfb574-dd3f-4b6e-9732-786624418c95' class='xr-section-summary-in' type='checkbox' disabled ><label for='section-d5cfb574-dd3f-4b6e-9732-786624418c95' class='xr-section-summary'  title='Expand/collapse section'>Dimensions:</label><div class='xr-section-inline-details'><ul class='xr-dim-list'><li><span class='xr-has-index'>x</span>: 1681</li><li><span class='xr-has-index'>y</span>: 1921</li></ul></div><div class='xr-section-details'></div></li><li class='xr-section-item'><input id='section-a9e0e561-f5c2-4e9b-9169-2229455218b7' class='xr-section-summary-in' type='checkbox'  checked><label for='section-a9e0e561-f5c2-4e9b-9169-2229455218b7' class='xr-section-summary' >Coordinates: <span>(3)</span></label><div class='xr-section-inline-details'></div><div class='xr-section-details'><ul class='xr-var-list'><li class='xr-var-item'><div class='xr-var-name'><span class='xr-has-index'>x</span></div><div class='xr-var-dims'>(x)</div><div class='xr-var-dtype'>float64</div><div class='xr-var-preview xr-preview'>114.0 114.0 114.0 ... 121.0 121.0</div><input id='attrs-a51aa170-3d92-455e-b1d2-f94170984794' class='xr-var-attrs-in' type='checkbox' disabled><label for='attrs-a51aa170-3d92-455e-b1d2-f94170984794' title='Show/Hide attributes'><svg class='icon xr-icon-file-text2'><use xlink:href='#icon-file-text2'></use></svg></label><input id='data-44775065-fefd-419b-8569-fd9467cdf8d1' class='xr-var-data-in' type='checkbox'><label for='data-44775065-fefd-419b-8569-fd9467cdf8d1' title='Show/Hide data repr'><svg class='icon xr-icon-database'><use xlink:href='#icon-database'></use></svg></label><div class='xr-var-attrs'><dl class='xr-attrs'></dl></div><div class='xr-var-data'><pre>array([114.002083, 114.00625 , 114.010417, ..., 120.99375 , 120.997917,\n",
       "       121.002083])</pre></div></li><li class='xr-var-item'><div class='xr-var-name'><span class='xr-has-index'>y</span></div><div class='xr-var-dims'>(y)</div><div class='xr-var-dtype'>float64</div><div class='xr-var-preview xr-preview'>40.0 40.0 39.99 ... 32.01 32.0</div><input id='attrs-e8b7320a-edc5-4b59-b9e3-5441d557d3ff' class='xr-var-attrs-in' type='checkbox' disabled><label for='attrs-e8b7320a-edc5-4b59-b9e3-5441d557d3ff' title='Show/Hide attributes'><svg class='icon xr-icon-file-text2'><use xlink:href='#icon-file-text2'></use></svg></label><input id='data-fcd8672b-ae3f-49a1-98f5-86290f2bda8b' class='xr-var-data-in' type='checkbox'><label for='data-fcd8672b-ae3f-49a1-98f5-86290f2bda8b' title='Show/Hide data repr'><svg class='icon xr-icon-database'><use xlink:href='#icon-database'></use></svg></label><div class='xr-var-attrs'><dl class='xr-attrs'></dl></div><div class='xr-var-data'><pre>array([40.002083, 39.997917, 39.99375 , ..., 32.010417, 32.00625 , 32.002083])</pre></div></li><li class='xr-var-item'><div class='xr-var-name'><span>spatial_ref</span></div><div class='xr-var-dims'>()</div><div class='xr-var-dtype'>int64</div><div class='xr-var-preview xr-preview'>0</div><input id='attrs-2d767069-52dc-464c-82cb-d52d142e0115' class='xr-var-attrs-in' type='checkbox' ><label for='attrs-2d767069-52dc-464c-82cb-d52d142e0115' title='Show/Hide attributes'><svg class='icon xr-icon-file-text2'><use xlink:href='#icon-file-text2'></use></svg></label><input id='data-662562b0-fa39-4587-ab05-f40e04b461b0' class='xr-var-data-in' type='checkbox'><label for='data-662562b0-fa39-4587-ab05-f40e04b461b0' title='Show/Hide data repr'><svg class='icon xr-icon-database'><use xlink:href='#icon-database'></use></svg></label><div class='xr-var-attrs'><dl class='xr-attrs'><dt><span>crs_wkt :</span></dt><dd>GEOGCS[&quot;WGS 84&quot;,DATUM[&quot;WGS_1984&quot;,SPHEROID[&quot;WGS 84&quot;,6378137,298.257223563,AUTHORITY[&quot;EPSG&quot;,&quot;7030&quot;]],AUTHORITY[&quot;EPSG&quot;,&quot;6326&quot;]],PRIMEM[&quot;Greenwich&quot;,0,AUTHORITY[&quot;EPSG&quot;,&quot;8901&quot;]],UNIT[&quot;degree&quot;,0.0174532925199433,AUTHORITY[&quot;EPSG&quot;,&quot;9122&quot;]],AXIS[&quot;Latitude&quot;,NORTH],AXIS[&quot;Longitude&quot;,EAST],AUTHORITY[&quot;EPSG&quot;,&quot;4326&quot;]]</dd><dt><span>semi_major_axis :</span></dt><dd>6378137.0</dd><dt><span>semi_minor_axis :</span></dt><dd>6356752.314245179</dd><dt><span>inverse_flattening :</span></dt><dd>298.257223563</dd><dt><span>reference_ellipsoid_name :</span></dt><dd>WGS 84</dd><dt><span>longitude_of_prime_meridian :</span></dt><dd>0.0</dd><dt><span>prime_meridian_name :</span></dt><dd>Greenwich</dd><dt><span>geographic_crs_name :</span></dt><dd>WGS 84</dd><dt><span>grid_mapping_name :</span></dt><dd>latitude_longitude</dd><dt><span>spatial_ref :</span></dt><dd>GEOGCS[&quot;WGS 84&quot;,DATUM[&quot;WGS_1984&quot;,SPHEROID[&quot;WGS 84&quot;,6378137,298.257223563,AUTHORITY[&quot;EPSG&quot;,&quot;7030&quot;]],AUTHORITY[&quot;EPSG&quot;,&quot;6326&quot;]],PRIMEM[&quot;Greenwich&quot;,0,AUTHORITY[&quot;EPSG&quot;,&quot;8901&quot;]],UNIT[&quot;degree&quot;,0.0174532925199433,AUTHORITY[&quot;EPSG&quot;,&quot;9122&quot;]],AXIS[&quot;Latitude&quot;,NORTH],AXIS[&quot;Longitude&quot;,EAST],AUTHORITY[&quot;EPSG&quot;,&quot;4326&quot;]]</dd><dt><span>GeoTransform :</span></dt><dd>113.99999998978728 0.004166666666293395 0.0 40.004166663082884 0.0 -0.004166666666293395</dd></dl></div><div class='xr-var-data'><pre>array(0)</pre></div></li></ul></div></li><li class='xr-section-item'><input id='section-3212dc23-0402-4c30-a48a-13e09f3a8214' class='xr-section-summary-in' type='checkbox'  checked><label for='section-3212dc23-0402-4c30-a48a-13e09f3a8214' class='xr-section-summary' >Data variables: <span>(1)</span></label><div class='xr-section-inline-details'></div><div class='xr-section-details'><ul class='xr-var-list'><li class='xr-var-item'><div class='xr-var-name'><span>band_data</span></div><div class='xr-var-dims'>(y, x)</div><div class='xr-var-dtype'>float32</div><div class='xr-var-preview xr-preview'>8.6 8.6 8.6 8.6 ... 12.5 12.4 12.5</div><input id='attrs-c960b149-36aa-432c-8f85-0d2bc59cc302' class='xr-var-attrs-in' type='checkbox' disabled><label for='attrs-c960b149-36aa-432c-8f85-0d2bc59cc302' title='Show/Hide attributes'><svg class='icon xr-icon-file-text2'><use xlink:href='#icon-file-text2'></use></svg></label><input id='data-b41b4c73-0918-4d34-8249-9e7f0240e13b' class='xr-var-data-in' type='checkbox'><label for='data-b41b4c73-0918-4d34-8249-9e7f0240e13b' title='Show/Hide data repr'><svg class='icon xr-icon-database'><use xlink:href='#icon-database'></use></svg></label><div class='xr-var-attrs'><dl class='xr-attrs'></dl></div><div class='xr-var-data'><pre>array([[   8.6     ,    8.6     ,    8.6     , ..., 3276.6     ,\n",
       "        3276.6     , 3276.6     ],\n",
       "       [   8.6     ,    8.6     ,    8.6     , ..., 3276.6     ,\n",
       "        3276.6     , 3276.6     ],\n",
       "       [   8.6     ,    8.6     ,    8.6     , ..., 3276.6     ,\n",
       "        3276.6     , 3276.6     ],\n",
       "       ...,\n",
       "       [  11.900001,   11.7     ,   11.7     , ...,   12.8     ,\n",
       "          12.900001,   12.900001],\n",
       "       [  11.2     ,   11.7     ,   11.8     , ...,   12.5     ,\n",
       "          12.6     ,   12.6     ],\n",
       "       [  12.      ,   12.      ,   11.8     , ...,   12.5     ,\n",
       "          12.400001,   12.5     ]], dtype=float32)</pre></div></li></ul></div></li><li class='xr-section-item'><input id='section-e801b5a4-ba8a-4124-9b16-a1af799df445' class='xr-section-summary-in' type='checkbox'  ><label for='section-e801b5a4-ba8a-4124-9b16-a1af799df445' class='xr-section-summary' >Indexes: <span>(2)</span></label><div class='xr-section-inline-details'></div><div class='xr-section-details'><ul class='xr-var-list'><li class='xr-var-item'><div class='xr-index-name'><div>x</div></div><div class='xr-index-preview'>PandasIndex</div><div></div><input id='index-1bf58ae9-2610-4f4a-883e-336df55cfbf1' class='xr-index-data-in' type='checkbox'/><label for='index-1bf58ae9-2610-4f4a-883e-336df55cfbf1' title='Show/Hide index repr'><svg class='icon xr-icon-database'><use xlink:href='#icon-database'></use></svg></label><div class='xr-index-data'><pre>PandasIndex(Float64Index([114.00208332312043, 114.00624998978672, 114.01041665645302,\n",
       "              114.01458332311931,  114.0187499897856,  114.0229166564519,\n",
       "              114.02708332311819, 114.03124998978448, 114.03541665645078,\n",
       "              114.03958332311707,\n",
       "              ...\n",
       "               120.9645833224967, 120.96874998916299, 120.97291665582928,\n",
       "              120.97708332249557, 120.98124998916187, 120.98541665582816,\n",
       "              120.98958332249445, 120.99374998916075, 120.99791665582704,\n",
       "              121.00208332249333],\n",
       "             dtype=&#x27;float64&#x27;, name=&#x27;x&#x27;, length=1681))</pre></div></li><li class='xr-var-item'><div class='xr-index-name'><div>y</div></div><div class='xr-index-preview'>PandasIndex</div><div></div><input id='index-22bbe1d5-d0b8-45b7-a49a-195610555da1' class='xr-index-data-in' type='checkbox'/><label for='index-22bbe1d5-d0b8-45b7-a49a-195610555da1' title='Show/Hide index repr'><svg class='icon xr-icon-database'><use xlink:href='#icon-database'></use></svg></label><div class='xr-index-data'><pre>PandasIndex(Float64Index([ 40.00208332974974, 39.997916663083444,  39.99374999641715,\n",
       "               39.98958332975086, 39.985416663084564,  39.98124999641827,\n",
       "               39.97708332975198, 39.972916663085684,  39.96874999641939,\n",
       "                39.9645833297531,\n",
       "              ...\n",
       "               32.03958333046306,  32.03541666379677,  32.03124999713047,\n",
       "               32.02708333046418, 32.022916663797886,  32.01874999713159,\n",
       "                32.0145833304653, 32.010416663799006,  32.00624999713271,\n",
       "               32.00208333046642],\n",
       "             dtype=&#x27;float64&#x27;, name=&#x27;y&#x27;, length=1921))</pre></div></li></ul></div></li><li class='xr-section-item'><input id='section-5ae7abef-e689-4aac-94c8-9692da2aa14f' class='xr-section-summary-in' type='checkbox' disabled ><label for='section-5ae7abef-e689-4aac-94c8-9692da2aa14f' class='xr-section-summary'  title='Expand/collapse section'>Attributes: <span>(0)</span></label><div class='xr-section-inline-details'></div><div class='xr-section-details'><dl class='xr-attrs'></dl></div></li></ul></div></div>"
      ],
      "text/plain": [
       "<xarray.Dataset>\n",
       "Dimensions:      (x: 1681, y: 1921)\n",
       "Coordinates:\n",
       "  * x            (x) float64 114.0 114.0 114.0 114.0 ... 121.0 121.0 121.0 121.0\n",
       "  * y            (y) float64 40.0 40.0 39.99 39.99 ... 32.01 32.01 32.01 32.0\n",
       "    spatial_ref  int64 0\n",
       "Data variables:\n",
       "    band_data    (y, x) float32 8.6 8.6 8.6 8.6 8.6 ... 12.6 12.6 12.5 12.4 12.5"
      ]
     },
     "execution_count": 18,
     "metadata": {},
     "output_type": "execute_result"
    }
   ],
   "source": [
    "test_frame"
   ]
  },
  {
   "attachments": {},
   "cell_type": "markdown",
   "metadata": {},
   "source": [
    "这是降雨量的数据"
   ]
  },
  {
   "cell_type": "code",
   "execution_count": 19,
   "metadata": {},
   "outputs": [
    {
     "data": {
      "text/plain": [
       "(960, 840)"
      ]
     },
     "execution_count": 19,
     "metadata": {},
     "output_type": "execute_result"
    }
   ],
   "source": [
    "precip_test = xr.open_dataset(r\"../outputs/precip-cutted/_2000_2002_1.tif\")\n",
    "precip_test = precip_test.squeeze(\"band\",drop=True)\n",
    "precip_test.band_data.to_numpy().shape"
   ]
  },
  {
   "attachments": {},
   "cell_type": "markdown",
   "metadata": {},
   "source": [
    "将PET数据使用双线性重采样到$1km\\times 1km$分辨率"
   ]
  },
  {
   "cell_type": "code",
   "execution_count": 20,
   "metadata": {},
   "outputs": [
    {
     "data": {
      "text/plain": [
       "(960, 840)"
      ]
     },
     "execution_count": 20,
     "metadata": {},
     "output_type": "execute_result"
    }
   ],
   "source": [
    "test_frame_resampled= test_frame.rio.reproject(test_frame.rio.crs,shape=(960,840),resampling=rasterio.enums.Resampling.bilinear)\n",
    "test_frame_resampled.band_data.to_numpy().shape"
   ]
  },
  {
   "attachments": {},
   "cell_type": "markdown",
   "metadata": {},
   "source": [
    "分别读取每一年的对应数据，并且合成单独的文件"
   ]
  },
  {
   "attachments": {},
   "cell_type": "markdown",
   "metadata": {},
   "source": [
    "理论上来说，`rioxarray`库会在保存到geotiff文件时自动加入`band`条带。这是正常现象。"
   ]
  },
  {
   "cell_type": "code",
   "execution_count": 21,
   "metadata": {},
   "outputs": [],
   "source": [
    "def resample_pet(year:str)->None:\n",
    "    \n",
    "    filename_map = generate_filename_map(year)\n",
    "    \n",
    "    for month in filename_map.keys():\n",
    "        print(\"Processing month: \",month)\n",
    "        month_frames = []\n",
    "        for filename in filename_map[month]:\n",
    "            print(\"Processing file: \",filename)\n",
    "            frame = xr.open_dataset(base_dir+filename)\n",
    "            frame = frame.squeeze(\"band\",drop=True)\n",
    "            month_frames.append(frame)\n",
    "        month_frames = xr.concat(month_frames,dim=\"time\",data_vars=[\"band_data\"])\n",
    "        month_frames_max_prod=month_frames.max(dim=\"time\")*len(filename_map[month])\n",
    "        # resampling\n",
    "        month_frames_max_resampled = month_frames_max_prod.rio.reproject(month_frames_max_prod.rio.crs,shape=(960,840),resampling=rasterio.enums.Resampling.bilinear)\n",
    "\n",
    "        month_frames_max_resampled.rio.to_raster(\"../outputs/pet-resampled/\"+year+\"_\"+str(month).zfill(2)+\".tif\")\n",
    "        print(\"Month: \",month,\" done!\")\n",
    "\n"
   ]
  },
  {
   "attachments": {},
   "cell_type": "markdown",
   "metadata": {},
   "source": [
    "这是使用多进程的方式"
   ]
  },
  {
   "cell_type": "code",
   "execution_count": 22,
   "metadata": {},
   "outputs": [
    {
     "name": "stdout",
     "output_type": "stream",
     "text": [
      "Processing month: Processing month: Processing month: Processing month: Processing month: Processing month: Processing month: Processing month: Processing month: Processing month: Processing month: Processing month: Processing month:  Processing month: Processing month:    Processing month:         1  11 1 11111111\n",
      "1\n",
      "1\n",
      "1\n",
      "1\n",
      "\n",
      "\n",
      "\n",
      "\n",
      "\n",
      "\n",
      "\n",
      "Processing file: \n",
      "Processing file: \n",
      "Processing file: Processing file: \n",
      "\n",
      "Processing file: Processing file: Processing file: Processing file: Processing file: Processing file: Processing file: Processing file:  Processing file:  Processing file:   Processing file: Processing file:         MOD16A2GF.006_PET_500m_doy2000001_aid0001.tifMOD16A2GF.006_PET_500m_doy2001001_aid0001.tif  MOD16A2GF.006_PET_500m_doy2002001_aid0001.tifMOD16A2GF.006_PET_500m_doy2003001_aid0001.tif  MOD16A2GF.006_PET_500m_doy2004001_aid0001.tifMOD16A2GF.006_PET_500m_doy2005001_aid0001.tifMOD16A2GF.006_PET_500m_doy2007001_aid0001.tifMOD16A2GF.006_PET_500m_doy2006001_aid0001.tifMOD16A2GF.006_PET_500m_doy2008001_aid0001.tifMOD16A2GF.006_PET_500m_doy2011001_aid0001.tifMOD16A2GF.006_PET_500m_doy2010001_aid0001.tifMOD16A2GF.006_PET_500m_doy2009001_aid0001.tif\n",
      "\n",
      "MOD16A2GF.006_PET_500m_doy2014001_aid0001.tifMOD16A2GF.006_PET_500m_doy2012001_aid0001.tif\n",
      "\n",
      "MOD16A2GF.006_PET_500m_doy2015001_aid0001.tif\n",
      "MOD16A2GF.006_PET_500m_doy2013001_aid0001.tif\n",
      "\n",
      "\n",
      "\n",
      "\n",
      "\n",
      "\n",
      "\n",
      "\n",
      "\n",
      "\n",
      "Processing file: Processing file: Processing file: Processing file: Processing file: Processing file: Processing file: Processing file: Processing file:          MOD16A2GF.006_PET_500m_doy2007009_aid0001.tifMOD16A2GF.006_PET_500m_doy2000009_aid0001.tifMOD16A2GF.006_PET_500m_doy2014009_aid0001.tifMOD16A2GF.006_PET_500m_doy2009009_aid0001.tifMOD16A2GF.006_PET_500m_doy2005009_aid0001.tifMOD16A2GF.006_PET_500m_doy2006009_aid0001.tifMOD16A2GF.006_PET_500m_doy2010009_aid0001.tifMOD16A2GF.006_PET_500m_doy2004009_aid0001.tifMOD16A2GF.006_PET_500m_doy2001009_aid0001.tif\n",
      "\n",
      "\n",
      "\n",
      "\n",
      "\n",
      "\n",
      "\n",
      "\n",
      "Processing file:  MOD16A2GF.006_PET_500m_doy2012009_aid0001.tif\n",
      "Processing file: Processing file: Processing file: Processing file: Processing file:  Processing file:     Processing file:  MOD16A2GF.006_PET_500m_doy2009017_aid0001.tifMOD16A2GF.006_PET_500m_doy2007017_aid0001.tifMOD16A2GF.006_PET_500m_doy2005017_aid0001.tifMOD16A2GF.006_PET_500m_doy2000017_aid0001.tifMOD16A2GF.006_PET_500m_doy2001017_aid0001.tifMOD16A2GF.006_PET_500m_doy2004017_aid0001.tif \n",
      "\n",
      "\n",
      "\n",
      "\n",
      "\n",
      "MOD16A2GF.006_PET_500m_doy2006017_aid0001.tif\n",
      "Processing file: Processing file:   MOD16A2GF.006_PET_500m_doy2014017_aid0001.tifMOD16A2GF.006_PET_500m_doy2010017_aid0001.tifProcessing file: \n",
      "\n",
      " Processing file: Processing file: MOD16A2GF.006_PET_500m_doy2012017_aid0001.tifProcessing file: Processing file: Processing file:   Processing file: \n",
      "   MOD16A2GF.006_PET_500m_doy2003009_aid0001.tifMOD16A2GF.006_PET_500m_doy2002009_aid0001.tif MOD16A2GF.006_PET_500m_doy2011009_aid0001.tifMOD16A2GF.006_PET_500m_doy2008009_aid0001.tif\n",
      "MOD16A2GF.006_PET_500m_doy2013009_aid0001.tif\n",
      "MOD16A2GF.006_PET_500m_doy2015009_aid0001.tifProcessing file: \n",
      "\n",
      "\n",
      "Processing file: \n",
      "  MOD16A2GF.006_PET_500m_doy2009025_aid0001.tifMOD16A2GF.006_PET_500m_doy2006025_aid0001.tifProcessing file: Processing file: \n",
      "\n",
      "Processing file: Processing file: Processing file:     MOD16A2GF.006_PET_500m_doy2000025_aid0001.tif MOD16A2GF.006_PET_500m_doy2005025_aid0001.tifMOD16A2GF.006_PET_500m_doy2007025_aid0001.tifMOD16A2GF.006_PET_500m_doy2001025_aid0001.tif\n",
      "MOD16A2GF.006_PET_500m_doy2004025_aid0001.tif\n",
      "\n",
      "Processing file: \n",
      "Processing file: Processing file: \n",
      "   MOD16A2GF.006_PET_500m_doy2012025_aid0001.tifProcessing file: MOD16A2GF.006_PET_500m_doy2010025_aid0001.tifMOD16A2GF.006_PET_500m_doy2014025_aid0001.tif\n",
      " Processing file: \n",
      "\n",
      "MOD16A2GF.006_PET_500m_doy2003017_aid0001.tif \n",
      "MOD16A2GF.006_PET_500m_doy2011017_aid0001.tif\n",
      "Processing file:  Processing file: MOD16A2GF.006_PET_500m_doy2002017_aid0001.tifProcessing file: Processing file:  \n",
      "  MOD16A2GF.006_PET_500m_doy2008017_aid0001.tifMOD16A2GF.006_PET_500m_doy2013017_aid0001.tifMOD16A2GF.006_PET_500m_doy2015017_aid0001.tif\n",
      "\n",
      "\n",
      "Processing file:  MOD16A2GF.006_PET_500m_doy2003025_aid0001.tif\n",
      "Processing file:  MOD16A2GF.006_PET_500m_doy2011025_aid0001.tif\n",
      "Processing file:  MOD16A2GF.006_PET_500m_doy2015025_aid0001.tifProcessing file: \n",
      " Processing file: MOD16A2GF.006_PET_500m_doy2013025_aid0001.tif \n",
      "Processing file: MOD16A2GF.006_PET_500m_doy2002025_aid0001.tif \n",
      "MOD16A2GF.006_PET_500m_doy2008025_aid0001.tif\n"
     ]
    },
    {
     "name": "stderr",
     "output_type": "stream",
     "text": [
      "/home/zyzh0/anaconda3/envs/gis/lib/python3.9/site-packages/rioxarray/raster_writer.py:132: UserWarning: The nodata value (3.402823466e+38) has been automatically changed to (3.4028234663852886e+38) to match the dtype of the data.\n",
      "  warnings.warn(\n",
      "/home/zyzh0/anaconda3/envs/gis/lib/python3.9/site-packages/rioxarray/raster_writer.py:132: UserWarning: The nodata value (3.402823466e+38) has been automatically changed to (3.4028234663852886e+38) to match the dtype of the data.\n",
      "  warnings.warn(\n",
      "/home/zyzh0/anaconda3/envs/gis/lib/python3.9/site-packages/rioxarray/raster_writer.py:132: UserWarning: The nodata value (3.402823466e+38) has been automatically changed to (3.4028234663852886e+38) to match the dtype of the data.\n",
      "  warnings.warn(\n"
     ]
    },
    {
     "name": "stdout",
     "output_type": "stream",
     "text": [
      "Month:  1Month:    done!1\n",
      " Processing month:   done!2\n",
      "\n",
      "Processing month: Processing file:   2MOD16A2GF.006_PET_500m_doy2001033_aid0001.tif\n",
      "\n",
      "Processing file:  MOD16A2GF.006_PET_500m_doy2000033_aid0001.tif\n",
      "Month:  1  done!Processing file: \n",
      " Processing month: MOD16A2GF.006_PET_500m_doy2001041_aid0001.tif \n"
     ]
    },
    {
     "name": "stderr",
     "output_type": "stream",
     "text": [
      "/home/zyzh0/anaconda3/envs/gis/lib/python3.9/site-packages/rioxarray/raster_writer.py:132: UserWarning: The nodata value (3.402823466e+38) has been automatically changed to (3.4028234663852886e+38) to match the dtype of the data.\n",
      "  warnings.warn(\n"
     ]
    },
    {
     "name": "stdout",
     "output_type": "stream",
     "text": [
      "2\n",
      "Processing file:  MOD16A2GF.006_PET_500m_doy2005033_aid0001.tif\n",
      "Processing file:  "
     ]
    },
    {
     "name": "stderr",
     "output_type": "stream",
     "text": [
      "/home/zyzh0/anaconda3/envs/gis/lib/python3.9/site-packages/rioxarray/raster_writer.py:132: UserWarning: The nodata value (3.402823466e+38) has been automatically changed to (3.4028234663852886e+38) to match the dtype of the data.\n",
      "  warnings.warn(\n"
     ]
    },
    {
     "name": "stdout",
     "output_type": "stream",
     "text": [
      "MOD16A2GF.006_PET_500m_doy2000041_aid0001.tif"
     ]
    },
    {
     "name": "stderr",
     "output_type": "stream",
     "text": [
      "/home/zyzh0/anaconda3/envs/gis/lib/python3.9/site-packages/rioxarray/raster_writer.py:132: UserWarning: The nodata value (3.402823466e+38) has been automatically changed to (3.4028234663852886e+38) to match the dtype of the data.\n",
      "  warnings.warn(\n"
     ]
    },
    {
     "name": "stdout",
     "output_type": "stream",
     "text": [
      "\n",
      "Processing file:  MOD16A2GF.006_PET_500m_doy2001049_aid0001.tif"
     ]
    },
    {
     "name": "stderr",
     "output_type": "stream",
     "text": [
      "/home/zyzh0/anaconda3/envs/gis/lib/python3.9/site-packages/rioxarray/raster_writer.py:132: UserWarning: The nodata value (3.402823466e+38) has been automatically changed to (3.4028234663852886e+38) to match the dtype of the data.\n",
      "  warnings.warn(\n"
     ]
    },
    {
     "name": "stdout",
     "output_type": "stream",
     "text": [
      "\n"
     ]
    },
    {
     "name": "stderr",
     "output_type": "stream",
     "text": [
      "/home/zyzh0/anaconda3/envs/gis/lib/python3.9/site-packages/rioxarray/raster_writer.py:132: UserWarning: The nodata value (3.402823466e+38) has been automatically changed to (3.4028234663852886e+38) to match the dtype of the data.\n",
      "  warnings.warn(\n",
      "/home/zyzh0/anaconda3/envs/gis/lib/python3.9/site-packages/rioxarray/raster_writer.py:132: UserWarning: The nodata value (3.402823466e+38) has been automatically changed to (3.4028234663852886e+38) to match the dtype of the data.\n",
      "  warnings.warn(\n"
     ]
    },
    {
     "name": "stdout",
     "output_type": "stream",
     "text": [
      "Processing file: Month:   MOD16A2GF.006_PET_500m_doy2005041_aid0001.tif1\n",
      "  done!\n",
      "Processing month: Processing file:   "
     ]
    },
    {
     "name": "stderr",
     "output_type": "stream",
     "text": [
      "/home/zyzh0/anaconda3/envs/gis/lib/python3.9/site-packages/rioxarray/raster_writer.py:132: UserWarning: The nodata value (3.402823466e+38) has been automatically changed to (3.4028234663852886e+38) to match the dtype of the data.\n",
      "  warnings.warn(\n"
     ]
    },
    {
     "name": "stdout",
     "output_type": "stream",
     "text": [
      "2MOD16A2GF.006_PET_500m_doy2000049_aid0001.tif\n",
      "\n",
      "Month: Processing file:   1MOD16A2GF.006_PET_500m_doy2003033_aid0001.tif \n",
      " done!Month: \n",
      "Month:  Processing month:  1  12 done! \n",
      "Month: \n",
      " done!Processing file:  Processing month: \n",
      " 1 Processing month: Processing file: MOD16A2GF.006_PET_500m_doy2013033_aid0001.tif 2 "
     ]
    },
    {
     "name": "stderr",
     "output_type": "stream",
     "text": [
      "/home/zyzh0/anaconda3/envs/gis/lib/python3.9/site-packages/rioxarray/raster_writer.py:132: UserWarning: The nodata value (3.402823466e+38) has been automatically changed to (3.4028234663852886e+38) to match the dtype of the data.\n",
      "  warnings.warn(\n"
     ]
    },
    {
     "name": "stdout",
     "output_type": "stream",
     "text": [
      " \n",
      " done!"
     ]
    },
    {
     "name": "stderr",
     "output_type": "stream",
     "text": [
      "/home/zyzh0/anaconda3/envs/gis/lib/python3.9/site-packages/rioxarray/raster_writer.py:132: UserWarning: The nodata value (3.402823466e+38) has been automatically changed to (3.4028234663852886e+38) to match the dtype of the data.\n",
      "  warnings.warn(\n"
     ]
    },
    {
     "name": "stdout",
     "output_type": "stream",
     "text": [
      "\n"
     ]
    },
    {
     "name": "stderr",
     "output_type": "stream",
     "text": [
      "/home/zyzh0/anaconda3/envs/gis/lib/python3.9/site-packages/rioxarray/raster_writer.py:132: UserWarning: The nodata value (3.402823466e+38) has been automatically changed to (3.4028234663852886e+38) to match the dtype of the data.\n",
      "  warnings.warn(\n"
     ]
    },
    {
     "name": "stdout",
     "output_type": "stream",
     "text": [
      "2MOD16A2GF.006_PET_500m_doy2005049_aid0001.tif"
     ]
    },
    {
     "name": "stderr",
     "output_type": "stream",
     "text": [
      "/home/zyzh0/anaconda3/envs/gis/lib/python3.9/site-packages/rioxarray/raster_writer.py:132: UserWarning: The nodata value (3.402823466e+38) has been automatically changed to (3.4028234663852886e+38) to match the dtype of the data.\n",
      "  warnings.warn(\n"
     ]
    },
    {
     "name": "stdout",
     "output_type": "stream",
     "text": [
      "\n",
      "Month: \n",
      "Processing file: \n",
      "Processing month: Processing file:   Processing file:   MOD16A2GF.006_PET_500m_doy2006033_aid0001.tif1 MOD16A2GF.006_PET_500m_doy2003041_aid0001.tif2\n",
      "MOD16A2GF.006_PET_500m_doy2014033_aid0001.tif \n",
      "\n",
      "\n",
      " done!Month: \n",
      "Processing file:  Processing month:  1 MOD16A2GF.006_PET_500m_doy2004033_aid0001.tif 2Processing file:  done!\n",
      "\n",
      " \n",
      "Processing file: MOD16A2GF.006_PET_500m_doy2013041_aid0001.tifProcessing month:  \n",
      " MOD16A2GF.006_PET_500m_doy2015033_aid0001.tif2\n",
      "\n",
      "Processing file: Processing file:  Month:  Month: MOD16A2GF.006_PET_500m_doy2003049_aid0001.tif MOD16A2GF.006_PET_500m_doy2009033_aid0001.tif \n",
      "1\n",
      "1Processing file:     done! done!MOD16A2GF.006_PET_500m_doy2006041_aid0001.tif\n",
      "\n",
      "Month: \n",
      "Processing month: Processing month:    122Processing file: \n",
      " \n"
     ]
    },
    {
     "name": "stderr",
     "output_type": "stream",
     "text": [
      "/home/zyzh0/anaconda3/envs/gis/lib/python3.9/site-packages/rioxarray/raster_writer.py:132: UserWarning: The nodata value (3.402823466e+38) has been automatically changed to (3.4028234663852886e+38) to match the dtype of the data.\n",
      "  warnings.warn(\n"
     ]
    },
    {
     "name": "stdout",
     "output_type": "stream",
     "text": [
      " Processing file:  done!Processing file: Processing file:  Month: Processing file: MOD16A2GF.006_PET_500m_doy2014041_aid0001.tif  \n",
      "MOD16A2GF.006_PET_500m_doy2013049_aid0001.tif \n",
      " Processing file: Processing month: MOD16A2GF.006_PET_500m_doy2007033_aid0001.tifMOD16A2GF.006_PET_500m_doy2015041_aid0001.tif\n",
      "MOD16A2GF.006_PET_500m_doy2010033_aid0001.tif1  \n",
      "\n",
      "\n",
      " Processing file: MOD16A2GF.006_PET_500m_doy2004041_aid0001.tif2Processing file:  done! \n",
      "\n",
      " \n",
      "MOD16A2GF.006_PET_500m_doy2009041_aid0001.tifProcessing file: MOD16A2GF.006_PET_500m_doy2006049_aid0001.tifProcessing month: \n",
      " \n",
      " MOD16A2GF.006_PET_500m_doy2008033_aid0001.tif"
     ]
    },
    {
     "name": "stderr",
     "output_type": "stream",
     "text": [
      "/home/zyzh0/anaconda3/envs/gis/lib/python3.9/site-packages/rioxarray/raster_writer.py:132: UserWarning: The nodata value (3.402823466e+38) has been automatically changed to (3.4028234663852886e+38) to match the dtype of the data.\n",
      "  warnings.warn(\n"
     ]
    },
    {
     "name": "stdout",
     "output_type": "stream",
     "text": [
      "2\n",
      "\n",
      "Processing file:  Processing file: MOD16A2GF.006_PET_500m_doy2012033_aid0001.tif \n",
      "MOD16A2GF.006_PET_500m_doy2015049_aid0001.tifProcessing file: Processing file: Processing file: Processing file: \n",
      "    MOD16A2GF.006_PET_500m_doy2014049_aid0001.tifMOD16A2GF.006_PET_500m_doy2007041_aid0001.tifMOD16A2GF.006_PET_500m_doy2004049_aid0001.tifProcessing file: MOD16A2GF.006_PET_500m_doy2010041_aid0001.tif\n",
      "\n",
      " \n",
      "\n",
      "MOD16A2GF.006_PET_500m_doy2009049_aid0001.tif\n",
      "Processing file:  MOD16A2GF.006_PET_500m_doy2008041_aid0001.tifMonth: \n",
      " 1  done!Processing file: \n",
      " Processing month: MOD16A2GF.006_PET_500m_doy2012041_aid0001.tifProcessing file:  \n",
      " 2MOD16A2GF.006_PET_500m_doy2007049_aid0001.tif\n",
      "\n",
      "Processing file:  Processing file: MOD16A2GF.006_PET_500m_doy2011033_aid0001.tifMonth:  Processing file: \n",
      " MOD16A2GF.006_PET_500m_doy2008049_aid0001.tif \n",
      "1MOD16A2GF.006_PET_500m_doy2010049_aid0001.tif \n",
      " done!\n",
      "Processing month: Processing file:   MOD16A2GF.006_PET_500m_doy2012049_aid0001.tif2\n",
      "\n",
      "Processing file:  MOD16A2GF.006_PET_500m_doy2002033_aid0001.tif\n",
      "Processing file:  MOD16A2GF.006_PET_500m_doy2011041_aid0001.tif\n",
      "Processing file:  MOD16A2GF.006_PET_500m_doy2011049_aid0001.tif\n",
      "Processing file:  MOD16A2GF.006_PET_500m_doy2002041_aid0001.tif\n",
      "Processing file:  MOD16A2GF.006_PET_500m_doy2002049_aid0001.tif\n"
     ]
    },
    {
     "name": "stderr",
     "output_type": "stream",
     "text": [
      "/home/zyzh0/anaconda3/envs/gis/lib/python3.9/site-packages/rioxarray/raster_writer.py:132: UserWarning: The nodata value (3.402823466e+38) has been automatically changed to (3.4028234663852886e+38) to match the dtype of the data.\n",
      "  warnings.warn(\n"
     ]
    },
    {
     "name": "stdout",
     "output_type": "stream",
     "text": [
      "Month:  2  done!\n",
      "Processing month:  "
     ]
    },
    {
     "name": "stderr",
     "output_type": "stream",
     "text": [
      "/home/zyzh0/anaconda3/envs/gis/lib/python3.9/site-packages/rioxarray/raster_writer.py:132: UserWarning: The nodata value (3.402823466e+38) has been automatically changed to (3.4028234663852886e+38) to match the dtype of the data.\n",
      "  warnings.warn(\n"
     ]
    },
    {
     "name": "stdout",
     "output_type": "stream",
     "text": [
      "3\n",
      "Processing file:  MOD16A2GF.006_PET_500m_doy2003057_aid0001.tif\n"
     ]
    },
    {
     "name": "stderr",
     "output_type": "stream",
     "text": [
      "/home/zyzh0/anaconda3/envs/gis/lib/python3.9/site-packages/rioxarray/raster_writer.py:132: UserWarning: The nodata value (3.402823466e+38) has been automatically changed to (3.4028234663852886e+38) to match the dtype of the data.\n",
      "  warnings.warn(\n"
     ]
    },
    {
     "name": "stdout",
     "output_type": "stream",
     "text": [
      "Processing file:  MOD16A2GF.006_PET_500m_doy2003065_aid0001.tif\n"
     ]
    },
    {
     "name": "stderr",
     "output_type": "stream",
     "text": [
      "/home/zyzh0/anaconda3/envs/gis/lib/python3.9/site-packages/rioxarray/raster_writer.py:132: UserWarning: The nodata value (3.402823466e+38) has been automatically changed to (3.4028234663852886e+38) to match the dtype of the data.\n",
      "  warnings.warn(\n"
     ]
    },
    {
     "name": "stdout",
     "output_type": "stream",
     "text": [
      "Month: "
     ]
    },
    {
     "name": "stderr",
     "output_type": "stream",
     "text": [
      "/home/zyzh0/anaconda3/envs/gis/lib/python3.9/site-packages/rioxarray/raster_writer.py:132: UserWarning: The nodata value (3.402823466e+38) has been automatically changed to (3.4028234663852886e+38) to match the dtype of the data.\n",
      "  warnings.warn(\n"
     ]
    },
    {
     "name": "stdout",
     "output_type": "stream",
     "text": [
      " Month: 2  2 done!Processing file:  \n",
      "  done!Processing month: MOD16A2GF.006_PET_500m_doy2003073_aid0001.tif \n",
      "\n",
      "3Processing month: \n",
      " Processing file: 3 \n",
      "MOD16A2GF.006_PET_500m_doy2000057_aid0001.tif\n",
      "Processing file:  "
     ]
    },
    {
     "name": "stderr",
     "output_type": "stream",
     "text": [
      "/home/zyzh0/anaconda3/envs/gis/lib/python3.9/site-packages/rioxarray/raster_writer.py:132: UserWarning: The nodata value (3.402823466e+38) has been automatically changed to (3.4028234663852886e+38) to match the dtype of the data.\n",
      "  warnings.warn(\n"
     ]
    },
    {
     "name": "stdout",
     "output_type": "stream",
     "text": [
      "MOD16A2GF.006_PET_500m_doy2013057_aid0001.tif\n",
      "Month:  "
     ]
    },
    {
     "name": "stderr",
     "output_type": "stream",
     "text": [
      "/home/zyzh0/anaconda3/envs/gis/lib/python3.9/site-packages/rioxarray/raster_writer.py:132: UserWarning: The nodata value (3.402823466e+38) has been automatically changed to (3.4028234663852886e+38) to match the dtype of the data.\n",
      "  warnings.warn(\n"
     ]
    },
    {
     "name": "stdout",
     "output_type": "stream",
     "text": [
      "2"
     ]
    },
    {
     "name": "stderr",
     "output_type": "stream",
     "text": [
      "/home/zyzh0/anaconda3/envs/gis/lib/python3.9/site-packages/rioxarray/raster_writer.py:132: UserWarning: The nodata value (3.402823466e+38) has been automatically changed to (3.4028234663852886e+38) to match the dtype of the data.\n",
      "  warnings.warn(\n"
     ]
    },
    {
     "name": "stdout",
     "output_type": "stream",
     "text": [
      "  done!\n"
     ]
    },
    {
     "name": "stderr",
     "output_type": "stream",
     "text": [
      "/home/zyzh0/anaconda3/envs/gis/lib/python3.9/site-packages/rioxarray/raster_writer.py:132: UserWarning: The nodata value (3.402823466e+38) has been automatically changed to (3.4028234663852886e+38) to match the dtype of the data.\n",
      "  warnings.warn(\n"
     ]
    },
    {
     "name": "stdout",
     "output_type": "stream",
     "text": [
      "Processing month:  3Month: \n",
      "Processing file:  Processing file:  2 MOD16A2GF.006_PET_500m_doy2003081_aid0001.tif MOD16A2GF.006_PET_500m_doy2015057_aid0001.tif\n",
      " done!\n",
      "\n",
      "Processing month: Processing file:   3MOD16A2GF.006_PET_500m_doy2000065_aid0001.tif\n",
      "Processing file: \n",
      "Processing file:   MOD16A2GF.006_PET_500m_doy2013065_aid0001.tifMOD16A2GF.006_PET_500m_doy2006057_aid0001.tif\n",
      "\n",
      "Month: Month:   22 Month:  Processing file:  done!  done! \n",
      "2\n",
      "Month: MOD16A2GF.006_PET_500m_doy2015065_aid0001.tifProcessing month:  Processing month: \n",
      " "
     ]
    },
    {
     "name": "stderr",
     "output_type": "stream",
     "text": [
      "/home/zyzh0/anaconda3/envs/gis/lib/python3.9/site-packages/rioxarray/raster_writer.py:132: UserWarning: The nodata value (3.402823466e+38) has been automatically changed to (3.4028234663852886e+38) to match the dtype of the data.\n",
      "  warnings.warn(\n"
     ]
    },
    {
     "name": "stdout",
     "output_type": "stream",
     "text": [
      "  done!"
     ]
    },
    {
     "name": "stderr",
     "output_type": "stream",
     "text": [
      "/home/zyzh0/anaconda3/envs/gis/lib/python3.9/site-packages/rioxarray/raster_writer.py:132: UserWarning: The nodata value (3.402823466e+38) has been automatically changed to (3.4028234663852886e+38) to match the dtype of the data.\n",
      "  warnings.warn(\n"
     ]
    },
    {
     "name": "stdout",
     "output_type": "stream",
     "text": [
      "Processing file:  23\n",
      " 3 \n",
      "Processing month: \n",
      "MOD16A2GF.006_PET_500m_doy2000073_aid0001.tifProcessing file:  done!Processing file:  \n"
     ]
    },
    {
     "name": "stderr",
     "output_type": "stream",
     "text": [
      "/home/zyzh0/anaconda3/envs/gis/lib/python3.9/site-packages/rioxarray/raster_writer.py:132: UserWarning: The nodata value (3.402823466e+38) has been automatically changed to (3.4028234663852886e+38) to match the dtype of the data.\n",
      "  warnings.warn(\n"
     ]
    },
    {
     "name": "stdout",
     "output_type": "stream",
     "text": [
      "Processing file:   \n",
      "3 MOD16A2GF.006_PET_500m_doy2006065_aid0001.tifMOD16A2GF.006_PET_500m_doy2010057_aid0001.tifProcessing month: \n",
      "MOD16A2GF.006_PET_500m_doy2014057_aid0001.tif\n",
      "\n",
      " \n",
      "Processing file: 3 \n",
      "Processing file: MOD16A2GF.006_PET_500m_doy2001057_aid0001.tifProcessing file:  \n",
      "Processing file: MOD16A2GF.006_PET_500m_doy2013073_aid0001.tif  \n",
      "MOD16A2GF.006_PET_500m_doy2009057_aid0001.tifMOD16A2GF.006_PET_500m_doy2015073_aid0001.tif\n"
     ]
    },
    {
     "name": "stderr",
     "output_type": "stream",
     "text": [
      "/home/zyzh0/anaconda3/envs/gis/lib/python3.9/site-packages/rioxarray/raster_writer.py:132: UserWarning: The nodata value (3.402823466e+38) has been automatically changed to (3.4028234663852886e+38) to match the dtype of the data.\n",
      "  warnings.warn(\n"
     ]
    },
    {
     "name": "stdout",
     "output_type": "stream",
     "text": [
      "\n",
      "Processing file:  MOD16A2GF.006_PET_500m_doy2000081_aid0001.tif\n",
      "Month: Processing file:  Processing file:  Processing file: 2  MOD16A2GF.006_PET_500m_doy2006073_aid0001.tif Month: MOD16A2GF.006_PET_500m_doy2014065_aid0001.tifMOD16A2GF.006_PET_500m_doy2010065_aid0001.tifProcessing file:  done!\n",
      " \n",
      "\n",
      "Processing file:  \n",
      "2Month: Processing file:  MOD16A2GF.006_PET_500m_doy2013081_aid0001.tifProcessing month:   MOD16A2GF.006_PET_500m_doy2015081_aid0001.tifProcessing file: \n",
      "   done!\n",
      "MOD16A2GF.006_PET_500m_doy2001065_aid0001.tif2 3\n",
      " MOD16A2GF.006_PET_500m_doy2009065_aid0001.tif\n",
      "Processing month: \n",
      "Month:  done!\n",
      "  \n",
      "Processing file: 3"
     ]
    },
    {
     "name": "stderr",
     "output_type": "stream",
     "text": [
      "/home/zyzh0/anaconda3/envs/gis/lib/python3.9/site-packages/rioxarray/raster_writer.py:132: UserWarning: The nodata value (3.402823466e+38) has been automatically changed to (3.4028234663852886e+38) to match the dtype of the data.\n",
      "  warnings.warn(\n"
     ]
    },
    {
     "name": "stdout",
     "output_type": "stream",
     "text": [
      "2Processing month:  \n",
      "  MOD16A2GF.006_PET_500m_doy2004057_aid0001.tif done!Processing file: 3\n",
      "Processing file: \n",
      " \n",
      " Processing file: Processing month: MOD16A2GF.006_PET_500m_doy2005057_aid0001.tifProcessing file: MOD16A2GF.006_PET_500m_doy2006081_aid0001.tif  "
     ]
    },
    {
     "name": "stderr",
     "output_type": "stream",
     "text": [
      "/home/zyzh0/anaconda3/envs/gis/lib/python3.9/site-packages/rioxarray/raster_writer.py:132: UserWarning: The nodata value (3.402823466e+38) has been automatically changed to (3.4028234663852886e+38) to match the dtype of the data.\n",
      "  warnings.warn(\n"
     ]
    },
    {
     "name": "stdout",
     "output_type": "stream",
     "text": [
      "\n",
      " MOD16A2GF.006_PET_500m_doy2010073_aid0001.tif\n",
      "Processing file: 3\n",
      "MOD16A2GF.006_PET_500m_doy2008057_aid0001.tif\n",
      " \n",
      "Processing file: Processing file: MOD16A2GF.006_PET_500m_doy2014073_aid0001.tif  \n",
      "MOD16A2GF.006_PET_500m_doy2009073_aid0001.tifMOD16A2GF.006_PET_500m_doy2007057_aid0001.tif\n",
      "\n",
      "Processing file:  Processing file: "
     ]
    },
    {
     "name": "stderr",
     "output_type": "stream",
     "text": [
      "/home/zyzh0/anaconda3/envs/gis/lib/python3.9/site-packages/rioxarray/raster_writer.py:132: UserWarning: The nodata value (3.402823466e+38) has been automatically changed to (3.4028234663852886e+38) to match the dtype of the data.\n",
      "  warnings.warn(\n"
     ]
    },
    {
     "name": "stdout",
     "output_type": "stream",
     "text": [
      "MOD16A2GF.006_PET_500m_doy2001073_aid0001.tif \n",
      "MOD16A2GF.006_PET_500m_doy2004065_aid0001.tifProcessing file: \n",
      " Processing file: MOD16A2GF.006_PET_500m_doy2005065_aid0001.tif \n",
      "Processing file: MOD16A2GF.006_PET_500m_doy2010081_aid0001.tifMonth:  \n",
      " MOD16A2GF.006_PET_500m_doy2008065_aid0001.tif2\n",
      "Processing file: Processing file:   Month:   done!MOD16A2GF.006_PET_500m_doy2009081_aid0001.tif MOD16A2GF.006_PET_500m_doy2007065_aid0001.tif\n",
      "\n",
      "2Processing month: \n",
      " Processing file:   done!3 \n",
      "\n",
      "MOD16A2GF.006_PET_500m_doy2014081_aid0001.tifProcessing month: Processing file:  \n",
      " 3MOD16A2GF.006_PET_500m_doy2011057_aid0001.tif\n",
      "\n",
      "Processing file: Processing file: Processing file: Processing file:  Processing file:    MOD16A2GF.006_PET_500m_doy2002057_aid0001.tifMOD16A2GF.006_PET_500m_doy2005073_aid0001.tif MOD16A2GF.006_PET_500m_doy2008073_aid0001.tif\n",
      "MOD16A2GF.006_PET_500m_doy2001081_aid0001.tif\n",
      "MOD16A2GF.006_PET_500m_doy2004073_aid0001.tif\n",
      "\n",
      "\n",
      "Processing file:  Month: MOD16A2GF.006_PET_500m_doy2007073_aid0001.tifProcessing file:  \n",
      " 2MOD16A2GF.006_PET_500m_doy2011065_aid0001.tif \n",
      " done!Processing file: \n",
      "Processing file:  Processing month:  MOD16A2GF.006_PET_500m_doy2008081_aid0001.tif MOD16A2GF.006_PET_500m_doy2004081_aid0001.tif\n",
      "3\n",
      "\n",
      "Processing file:  Processing file: MOD16A2GF.006_PET_500m_doy2005081_aid0001.tif \n",
      "MOD16A2GF.006_PET_500m_doy2012057_aid0001.tifProcessing file: \n",
      " Processing file: MOD16A2GF.006_PET_500m_doy2002065_aid0001.tif \n",
      "MOD16A2GF.006_PET_500m_doy2011073_aid0001.tif\n",
      "Processing file:  MOD16A2GF.006_PET_500m_doy2007081_aid0001.tif\n",
      "Processing file:  MOD16A2GF.006_PET_500m_doy2012065_aid0001.tifProcessing file: \n",
      " Processing file: MOD16A2GF.006_PET_500m_doy2002073_aid0001.tif \n",
      "MOD16A2GF.006_PET_500m_doy2011081_aid0001.tif\n",
      "Processing file:  MOD16A2GF.006_PET_500m_doy2012073_aid0001.tif\n",
      "Processing file:  MOD16A2GF.006_PET_500m_doy2002081_aid0001.tif\n",
      "Processing file:  MOD16A2GF.006_PET_500m_doy2012081_aid0001.tif\n"
     ]
    },
    {
     "name": "stderr",
     "output_type": "stream",
     "text": [
      "/home/zyzh0/anaconda3/envs/gis/lib/python3.9/site-packages/rioxarray/raster_writer.py:132: UserWarning: The nodata value (3.402823466e+38) has been automatically changed to (3.4028234663852886e+38) to match the dtype of the data.\n",
      "  warnings.warn(\n"
     ]
    },
    {
     "name": "stdout",
     "output_type": "stream",
     "text": [
      "Month:  3  done!\n",
      "Processing month:  4\n"
     ]
    },
    {
     "name": "stderr",
     "output_type": "stream",
     "text": [
      "/home/zyzh0/anaconda3/envs/gis/lib/python3.9/site-packages/rioxarray/raster_writer.py:132: UserWarning: The nodata value (3.402823466e+38) has been automatically changed to (3.4028234663852886e+38) to match the dtype of the data.\n",
      "  warnings.warn(\n"
     ]
    },
    {
     "name": "stdout",
     "output_type": "stream",
     "text": [
      "Processing file:  MOD16A2GF.006_PET_500m_doy2003089_aid0001.tif\n",
      "Processing file:  MOD16A2GF.006_PET_500m_doy2003097_aid0001.tif\n",
      "Month: "
     ]
    },
    {
     "name": "stderr",
     "output_type": "stream",
     "text": [
      "/home/zyzh0/anaconda3/envs/gis/lib/python3.9/site-packages/rioxarray/raster_writer.py:132: UserWarning: The nodata value (3.402823466e+38) has been automatically changed to (3.4028234663852886e+38) to match the dtype of the data.\n",
      "  warnings.warn(\n"
     ]
    },
    {
     "name": "stdout",
     "output_type": "stream",
     "text": [
      " 3  done!\n",
      "Processing month: "
     ]
    },
    {
     "name": "stderr",
     "output_type": "stream",
     "text": [
      "/home/zyzh0/anaconda3/envs/gis/lib/python3.9/site-packages/rioxarray/raster_writer.py:132: UserWarning: The nodata value (3.402823466e+38) has been automatically changed to (3.4028234663852886e+38) to match the dtype of the data.\n",
      "  warnings.warn(\n"
     ]
    },
    {
     "name": "stdout",
     "output_type": "stream",
     "text": [
      " 4\n",
      "Processing file:  Processing file: MOD16A2GF.006_PET_500m_doy2013089_aid0001.tif \n",
      "MOD16A2GF.006_PET_500m_doy2003105_aid0001.tif\n",
      "Month:  Processing file:  3Processing file: MOD16A2GF.006_PET_500m_doy2003113_aid0001.tif  \n",
      "Month: MOD16A2GF.006_PET_500m_doy2013097_aid0001.tif done! \n",
      "\n",
      "3Processing month:    done!4\n",
      "Processing month: \n",
      " Processing file: 4\n",
      " Processing file: MOD16A2GF.006_PET_500m_doy2006089_aid0001.tif \n",
      "MOD16A2GF.006_PET_500m_doy2000089_aid0001.tif"
     ]
    },
    {
     "name": "stderr",
     "output_type": "stream",
     "text": [
      "/home/zyzh0/anaconda3/envs/gis/lib/python3.9/site-packages/rioxarray/raster_writer.py:132: UserWarning: The nodata value (3.402823466e+38) has been automatically changed to (3.4028234663852886e+38) to match the dtype of the data.\n",
      "  warnings.warn(\n"
     ]
    },
    {
     "name": "stdout",
     "output_type": "stream",
     "text": [
      "\n",
      "Processing file:  MOD16A2GF.006_PET_500m_doy2013105_aid0001.tif\n",
      "Processing file:  MOD16A2GF.006_PET_500m_doy2006097_aid0001.tif\n",
      "Processing file: Processing file:   MOD16A2GF.006_PET_500m_doy2000097_aid0001.tifMOD16A2GF.006_PET_500m_doy2013113_aid0001.tif\n",
      "Month: \n",
      " 3  done!\n",
      "Processing month:  4\n",
      "Processing file:  Processing file: MOD16A2GF.006_PET_500m_doy2006105_aid0001.tif \n",
      "MOD16A2GF.006_PET_500m_doy2009089_aid0001.tif\n",
      "Processing file:  MOD16A2GF.006_PET_500m_doy2000105_aid0001.tif"
     ]
    },
    {
     "name": "stderr",
     "output_type": "stream",
     "text": [
      "/home/zyzh0/anaconda3/envs/gis/lib/python3.9/site-packages/rioxarray/raster_writer.py:132: UserWarning: The nodata value (3.402823466e+38) has been automatically changed to (3.4028234663852886e+38) to match the dtype of the data.\n",
      "  warnings.warn(\n"
     ]
    },
    {
     "name": "stdout",
     "output_type": "stream",
     "text": [
      "\n"
     ]
    },
    {
     "name": "stderr",
     "output_type": "stream",
     "text": [
      "/home/zyzh0/anaconda3/envs/gis/lib/python3.9/site-packages/rioxarray/raster_writer.py:132: UserWarning: The nodata value (3.402823466e+38) has been automatically changed to (3.4028234663852886e+38) to match the dtype of the data.\n",
      "  warnings.warn(\n"
     ]
    },
    {
     "name": "stdout",
     "output_type": "stream",
     "text": [
      "Processing file:  MOD16A2GF.006_PET_500m_doy2006113_aid0001.tif\n"
     ]
    },
    {
     "name": "stderr",
     "output_type": "stream",
     "text": [
      "/home/zyzh0/anaconda3/envs/gis/lib/python3.9/site-packages/rioxarray/raster_writer.py:132: UserWarning: The nodata value (3.402823466e+38) has been automatically changed to (3.4028234663852886e+38) to match the dtype of the data.\n",
      "  warnings.warn(\n"
     ]
    },
    {
     "name": "stdout",
     "output_type": "stream",
     "text": [
      "Processing file:  MOD16A2GF.006_PET_500m_doy2009097_aid0001.tif\n"
     ]
    },
    {
     "name": "stderr",
     "output_type": "stream",
     "text": [
      "/home/zyzh0/anaconda3/envs/gis/lib/python3.9/site-packages/rioxarray/raster_writer.py:132: UserWarning: The nodata value (3.402823466e+38) has been automatically changed to (3.4028234663852886e+38) to match the dtype of the data.\n",
      "  warnings.warn(\n",
      "/home/zyzh0/anaconda3/envs/gis/lib/python3.9/site-packages/rioxarray/raster_writer.py:132: UserWarning: The nodata value (3.402823466e+38) has been automatically changed to (3.4028234663852886e+38) to match the dtype of the data.\n",
      "  warnings.warn(\n"
     ]
    },
    {
     "name": "stdout",
     "output_type": "stream",
     "text": [
      "Processing file:  "
     ]
    },
    {
     "name": "stderr",
     "output_type": "stream",
     "text": [
      "/home/zyzh0/anaconda3/envs/gis/lib/python3.9/site-packages/rioxarray/raster_writer.py:132: UserWarning: The nodata value (3.402823466e+38) has been automatically changed to (3.4028234663852886e+38) to match the dtype of the data.\n",
      "  warnings.warn(\n"
     ]
    },
    {
     "name": "stdout",
     "output_type": "stream",
     "text": [
      "MOD16A2GF.006_PET_500m_doy2000113_aid0001.tifMonth: \n",
      " Processing file: 3  MOD16A2GF.006_PET_500m_doy2009105_aid0001.tifMonth:  done!\n",
      " \n",
      "3Month: Processing month:     done!34\n"
     ]
    },
    {
     "name": "stderr",
     "output_type": "stream",
     "text": [
      "/home/zyzh0/anaconda3/envs/gis/lib/python3.9/site-packages/rioxarray/raster_writer.py:132: UserWarning: The nodata value (3.402823466e+38) has been automatically changed to (3.4028234663852886e+38) to match the dtype of the data.\n",
      "  warnings.warn(\n"
     ]
    },
    {
     "name": "stdout",
     "output_type": "stream",
     "text": [
      " \n",
      "Processing month:  done! Month: Processing file: \n",
      "4  Processing month: \n",
      "3MOD16A2GF.006_PET_500m_doy2004089_aid0001.tif Processing file: "
     ]
    },
    {
     "name": "stderr",
     "output_type": "stream",
     "text": [
      "/home/zyzh0/anaconda3/envs/gis/lib/python3.9/site-packages/rioxarray/raster_writer.py:132: UserWarning: The nodata value (3.402823466e+38) has been automatically changed to (3.4028234663852886e+38) to match the dtype of the data.\n",
      "  warnings.warn(\n"
     ]
    },
    {
     "name": "stdout",
     "output_type": "stream",
     "text": [
      " \n",
      "4  done!MOD16A2GF.006_PET_500m_doy2015089_aid0001.tifMonth: \n",
      "\n",
      "\n",
      "Processing file:  Processing file: Processing month:  3  MOD16A2GF.006_PET_500m_doy2009113_aid0001.tifMOD16A2GF.006_PET_500m_doy2010089_aid0001.tif 4\n",
      "\n",
      " done!\n"
     ]
    },
    {
     "name": "stderr",
     "output_type": "stream",
     "text": [
      "/home/zyzh0/anaconda3/envs/gis/lib/python3.9/site-packages/rioxarray/raster_writer.py:132: UserWarning: The nodata value (3.402823466e+38) has been automatically changed to (3.4028234663852886e+38) to match the dtype of the data.\n",
      "  warnings.warn(\n"
     ]
    },
    {
     "name": "stdout",
     "output_type": "stream",
     "text": [
      "\n",
      "Processing file: Processing month:  Month:   MOD16A2GF.006_PET_500m_doy2008089_aid0001.tif43\n",
      "Month: \n",
      "  "
     ]
    },
    {
     "name": "stderr",
     "output_type": "stream",
     "text": [
      "/home/zyzh0/anaconda3/envs/gis/lib/python3.9/site-packages/rioxarray/raster_writer.py:132: UserWarning: The nodata value (3.402823466e+38) has been automatically changed to (3.4028234663852886e+38) to match the dtype of the data.\n",
      "  warnings.warn(\n"
     ]
    },
    {
     "name": "stdout",
     "output_type": "stream",
     "text": [
      " done!Processing file: 3\n",
      " Processing file:  Processing month: MOD16A2GF.006_PET_500m_doy2011089_aid0001.tif  done! \n",
      "Processing file: MOD16A2GF.006_PET_500m_doy2015097_aid0001.tif\n",
      "4\n",
      " Processing month: \n",
      "MOD16A2GF.006_PET_500m_doy2004097_aid0001.tif Processing file: 4\n",
      "Processing file: \n",
      "  Month: MOD16A2GF.006_PET_500m_doy2001089_aid0001.tifProcessing file: MOD16A2GF.006_PET_500m_doy2010097_aid0001.tif \n",
      " \n",
      "Processing file: 3MOD16A2GF.006_PET_500m_doy2005089_aid0001.tif  \n",
      "MOD16A2GF.006_PET_500m_doy2008097_aid0001.tifMonth:  done!\n",
      " \n",
      "Processing month: 3Processing file:   Processing file:  4MOD16A2GF.006_PET_500m_doy2015105_aid0001.tif  done!\n",
      "\n",
      "MOD16A2GF.006_PET_500m_doy2011097_aid0001.tif\n",
      "Processing file: \n",
      "Processing month:   MOD16A2GF.006_PET_500m_doy2014089_aid0001.tifProcessing file: 4Processing file: \n",
      " \n",
      " MOD16A2GF.006_PET_500m_doy2004105_aid0001.tifProcessing file: MOD16A2GF.006_PET_500m_doy2001097_aid0001.tifProcessing file: \n",
      " \n",
      " MOD16A2GF.006_PET_500m_doy2007089_aid0001.tifMonth: MOD16A2GF.006_PET_500m_doy2005097_aid0001.tifProcessing file: \n",
      " \n",
      " 3MOD16A2GF.006_PET_500m_doy2010105_aid0001.tifProcessing file:  Processing file: \n",
      "  done! "
     ]
    },
    {
     "name": "stderr",
     "output_type": "stream",
     "text": [
      "/home/zyzh0/anaconda3/envs/gis/lib/python3.9/site-packages/rioxarray/raster_writer.py:132: UserWarning: The nodata value (3.402823466e+38) has been automatically changed to (3.4028234663852886e+38) to match the dtype of the data.\n",
      "  warnings.warn(\n"
     ]
    },
    {
     "name": "stdout",
     "output_type": "stream",
     "text": [
      "MOD16A2GF.006_PET_500m_doy2008105_aid0001.tifMOD16A2GF.006_PET_500m_doy2015113_aid0001.tif\n",
      "\n",
      "\n",
      "Processing month:  Processing file: 4 \n",
      "MOD16A2GF.006_PET_500m_doy2011105_aid0001.tifProcessing file: \n",
      "Processing file: Processing file:    MOD16A2GF.006_PET_500m_doy2002089_aid0001.tifMOD16A2GF.006_PET_500m_doy2014097_aid0001.tifMOD16A2GF.006_PET_500m_doy2001105_aid0001.tif\n",
      "Processing file: \n",
      "\n",
      " MOD16A2GF.006_PET_500m_doy2004113_aid0001.tifProcessing file: \n",
      " MOD16A2GF.006_PET_500m_doy2005105_aid0001.tifProcessing file: \n",
      " Processing file: MOD16A2GF.006_PET_500m_doy2007097_aid0001.tif \n",
      "MOD16A2GF.006_PET_500m_doy2010113_aid0001.tifProcessing file: Month: \n",
      "  3MOD16A2GF.006_PET_500m_doy2008113_aid0001.tif \n",
      "Processing file:  done!Processing file: \n",
      " Processing month:  MOD16A2GF.006_PET_500m_doy2014105_aid0001.tifMOD16A2GF.006_PET_500m_doy2011113_aid0001.tif \n",
      "\n",
      "4Processing file: Processing file: \n",
      "Processing file:    Processing file: Processing file: MOD16A2GF.006_PET_500m_doy2002097_aid0001.tifMOD16A2GF.006_PET_500m_doy2005113_aid0001.tifMOD16A2GF.006_PET_500m_doy2001113_aid0001.tif  \n",
      "\n",
      "\n",
      "MOD16A2GF.006_PET_500m_doy2007105_aid0001.tifMOD16A2GF.006_PET_500m_doy2012089_aid0001.tif\n",
      "\n",
      "Processing file: Processing file:   Processing file: MOD16A2GF.006_PET_500m_doy2002105_aid0001.tif MOD16A2GF.006_PET_500m_doy2014113_aid0001.tif\n",
      "MOD16A2GF.006_PET_500m_doy2007113_aid0001.tif\n",
      "\n",
      "Processing file:  MOD16A2GF.006_PET_500m_doy2012097_aid0001.tif\n",
      "Processing file:  MOD16A2GF.006_PET_500m_doy2002113_aid0001.tif\n",
      "Processing file:  MOD16A2GF.006_PET_500m_doy2012105_aid0001.tif\n",
      "Processing file:  MOD16A2GF.006_PET_500m_doy2012113_aid0001.tif\n"
     ]
    },
    {
     "name": "stderr",
     "output_type": "stream",
     "text": [
      "/home/zyzh0/anaconda3/envs/gis/lib/python3.9/site-packages/rioxarray/raster_writer.py:132: UserWarning: The nodata value (3.402823466e+38) has been automatically changed to (3.4028234663852886e+38) to match the dtype of the data.\n",
      "  warnings.warn(\n"
     ]
    },
    {
     "name": "stdout",
     "output_type": "stream",
     "text": [
      "Month:  4  done!\n",
      "Processing month:  5\n",
      "Processing file:  MOD16A2GF.006_PET_500m_doy2003121_aid0001.tif\n"
     ]
    },
    {
     "name": "stderr",
     "output_type": "stream",
     "text": [
      "/home/zyzh0/anaconda3/envs/gis/lib/python3.9/site-packages/rioxarray/raster_writer.py:132: UserWarning: The nodata value (3.402823466e+38) has been automatically changed to (3.4028234663852886e+38) to match the dtype of the data.\n",
      "  warnings.warn(\n"
     ]
    },
    {
     "name": "stdout",
     "output_type": "stream",
     "text": [
      "Processing file:  MOD16A2GF.006_PET_500m_doy2003129_aid0001.tif\n",
      "Month:  Processing file: 4  MOD16A2GF.006_PET_500m_doy2003137_aid0001.tif done!\n",
      "\n",
      "Processing month:  5\n",
      "Processing file:  MOD16A2GF.006_PET_500m_doy2006121_aid0001.tif\n",
      "Processing file:  MOD16A2GF.006_PET_500m_doy2003145_aid0001.tif\n",
      "Processing file:  MOD16A2GF.006_PET_500m_doy2006129_aid0001.tif\n",
      "Processing file:  MOD16A2GF.006_PET_500m_doy2006137_aid0001.tif\n",
      "Processing file:  MOD16A2GF.006_PET_500m_doy2006145_aid0001.tif\n"
     ]
    },
    {
     "name": "stderr",
     "output_type": "stream",
     "text": [
      "/home/zyzh0/anaconda3/envs/gis/lib/python3.9/site-packages/rioxarray/raster_writer.py:132: UserWarning: The nodata value (3.402823466e+38) has been automatically changed to (3.4028234663852886e+38) to match the dtype of the data.\n",
      "  warnings.warn(\n",
      "/home/zyzh0/anaconda3/envs/gis/lib/python3.9/site-packages/rioxarray/raster_writer.py:132: UserWarning: The nodata value (3.402823466e+38) has been automatically changed to (3.4028234663852886e+38) to match the dtype of the data.\n",
      "  warnings.warn(\n"
     ]
    },
    {
     "name": "stdout",
     "output_type": "stream",
     "text": [
      "Month:  "
     ]
    },
    {
     "name": "stderr",
     "output_type": "stream",
     "text": [
      "/home/zyzh0/anaconda3/envs/gis/lib/python3.9/site-packages/rioxarray/raster_writer.py:132: UserWarning: The nodata value (3.402823466e+38) has been automatically changed to (3.4028234663852886e+38) to match the dtype of the data.\n",
      "  warnings.warn(\n"
     ]
    },
    {
     "name": "stdout",
     "output_type": "stream",
     "text": [
      "4Month:    done!4\n",
      " Processing month: "
     ]
    },
    {
     "name": "stderr",
     "output_type": "stream",
     "text": [
      "/home/zyzh0/anaconda3/envs/gis/lib/python3.9/site-packages/rioxarray/raster_writer.py:132: UserWarning: The nodata value (3.402823466e+38) has been automatically changed to (3.4028234663852886e+38) to match the dtype of the data.\n",
      "  warnings.warn(\n"
     ]
    },
    {
     "name": "stdout",
     "output_type": "stream",
     "text": [
      " done! 5\n",
      "\n",
      "Processing month:  Processing file:  5MOD16A2GF.006_PET_500m_doy2015121_aid0001.tif\n",
      "\n",
      "Processing file:  MOD16A2GF.006_PET_500m_doy2004121_aid0001.tif\n"
     ]
    },
    {
     "name": "stderr",
     "output_type": "stream",
     "text": [
      "/home/zyzh0/anaconda3/envs/gis/lib/python3.9/site-packages/rioxarray/raster_writer.py:132: UserWarning: The nodata value (3.402823466e+38) has been automatically changed to (3.4028234663852886e+38) to match the dtype of the data.\n",
      "  warnings.warn(\n"
     ]
    },
    {
     "name": "stdout",
     "output_type": "stream",
     "text": [
      "Month:  4  done!\n",
      "Processing month:  5Month: \n",
      " Processing file: 4  MOD16A2GF.006_PET_500m_doy2013121_aid0001.tif done!Processing file: \n",
      "\n",
      " Processing month: MOD16A2GF.006_PET_500m_doy2004129_aid0001.tif \n",
      "5"
     ]
    },
    {
     "name": "stderr",
     "output_type": "stream",
     "text": [
      "/home/zyzh0/anaconda3/envs/gis/lib/python3.9/site-packages/rioxarray/raster_writer.py:132: UserWarning: The nodata value (3.402823466e+38) has been automatically changed to (3.4028234663852886e+38) to match the dtype of the data.\n",
      "  warnings.warn(\n"
     ]
    },
    {
     "name": "stdout",
     "output_type": "stream",
     "text": [
      "\n",
      "Processing file: Processing file:   MOD16A2GF.006_PET_500m_doy2015129_aid0001.tifMOD16A2GF.006_PET_500m_doy2005121_aid0001.tifMonth: \n",
      "\n",
      " 4  done!\n",
      "Processing month:  5Processing file: \n",
      " "
     ]
    },
    {
     "name": "stderr",
     "output_type": "stream",
     "text": [
      "/home/zyzh0/anaconda3/envs/gis/lib/python3.9/site-packages/rioxarray/raster_writer.py:132: UserWarning: The nodata value (3.402823466e+38) has been automatically changed to (3.4028234663852886e+38) to match the dtype of the data.\n",
      "  warnings.warn(\n"
     ]
    },
    {
     "name": "stdout",
     "output_type": "stream",
     "text": [
      "Processing file: MOD16A2GF.006_PET_500m_doy2013129_aid0001.tif \n",
      "MOD16A2GF.006_PET_500m_doy2008121_aid0001.tif\n",
      "Processing file: Processing file: Processing file:    "
     ]
    },
    {
     "name": "stderr",
     "output_type": "stream",
     "text": [
      "/home/zyzh0/anaconda3/envs/gis/lib/python3.9/site-packages/rioxarray/raster_writer.py:132: UserWarning: The nodata value (3.402823466e+38) has been automatically changed to (3.4028234663852886e+38) to match the dtype of the data.\n",
      "  warnings.warn(\n"
     ]
    },
    {
     "name": "stdout",
     "output_type": "stream",
     "text": [
      "MOD16A2GF.006_PET_500m_doy2015137_aid0001.tifMOD16A2GF.006_PET_500m_doy2004137_aid0001.tifMOD16A2GF.006_PET_500m_doy2005129_aid0001.tif\n",
      "Month: \n",
      "\n",
      " 4  done!\n",
      "Processing month:  Processing file: 5 \n",
      "MOD16A2GF.006_PET_500m_doy2013137_aid0001.tifProcessing file: \n"
     ]
    },
    {
     "name": "stderr",
     "output_type": "stream",
     "text": [
      "/home/zyzh0/anaconda3/envs/gis/lib/python3.9/site-packages/rioxarray/raster_writer.py:132: UserWarning: The nodata value (3.402823466e+38) has been automatically changed to (3.4028234663852886e+38) to match the dtype of the data.\n",
      "  warnings.warn(\n"
     ]
    },
    {
     "name": "stdout",
     "output_type": "stream",
     "text": [
      "Processing file:  "
     ]
    },
    {
     "name": "stderr",
     "output_type": "stream",
     "text": [
      "/home/zyzh0/anaconda3/envs/gis/lib/python3.9/site-packages/rioxarray/raster_writer.py:132: UserWarning: The nodata value (3.402823466e+38) has been automatically changed to (3.4028234663852886e+38) to match the dtype of the data.\n",
      "  warnings.warn(\n"
     ]
    },
    {
     "name": "stdout",
     "output_type": "stream",
     "text": [
      " MOD16A2GF.006_PET_500m_doy2009121_aid0001.tifMOD16A2GF.006_PET_500m_doy2008129_aid0001.tif\n",
      "Processing file: \n",
      " Month: MOD16A2GF.006_PET_500m_doy2005137_aid0001.tif \n",
      "4"
     ]
    },
    {
     "name": "stderr",
     "output_type": "stream",
     "text": [
      "/home/zyzh0/anaconda3/envs/gis/lib/python3.9/site-packages/rioxarray/raster_writer.py:132: UserWarning: The nodata value (3.402823466e+38) has been automatically changed to (3.4028234663852886e+38) to match the dtype of the data.\n",
      "  warnings.warn(\n"
     ]
    },
    {
     "name": "stdout",
     "output_type": "stream",
     "text": [
      " Processing file:  done!Processing file:  \n",
      " MOD16A2GF.006_PET_500m_doy2015145_aid0001.tifProcessing month: MOD16A2GF.006_PET_500m_doy2004145_aid0001.tif \n",
      "\n",
      "5\n",
      "Processing file: Processing file: Month:   Processing file: MOD16A2GF.006_PET_500m_doy2009129_aid0001.tif Processing file: MOD16A2GF.006_PET_500m_doy2011121_aid0001.tifProcessing file:  \n",
      "4 Month: Month:  \n",
      "MOD16A2GF.006_PET_500m_doy2013145_aid0001.tifMOD16A2GF.006_PET_500m_doy2005145_aid0001.tif   MOD16A2GF.006_PET_500m_doy2008137_aid0001.tif\n",
      "\n",
      "4 done!4\n",
      "  \n",
      " done! done!Processing month: \n",
      "\n",
      " Processing month: Processing month:  5 5\n",
      "5\n",
      "Processing file: \n",
      "Processing file: Processing file:  Processing file:   MOD16A2GF.006_PET_500m_doy2000121_aid0001.tifMOD16A2GF.006_PET_500m_doy2002121_aid0001.tif \n",
      "MOD16A2GF.006_PET_500m_doy2009137_aid0001.tifMOD16A2GF.006_PET_500m_doy2010121_aid0001.tif\n",
      "\n",
      "\n",
      "Month:  4Processing file:  "
     ]
    },
    {
     "name": "stderr",
     "output_type": "stream",
     "text": [
      "/home/zyzh0/anaconda3/envs/gis/lib/python3.9/site-packages/rioxarray/raster_writer.py:132: UserWarning: The nodata value (3.402823466e+38) has been automatically changed to (3.4028234663852886e+38) to match the dtype of the data.\n",
      "  warnings.warn(\n"
     ]
    },
    {
     "name": "stdout",
     "output_type": "stream",
     "text": [
      "  done!MOD16A2GF.006_PET_500m_doy2011129_aid0001.tifProcessing file: \n",
      "\n",
      "Processing month:  "
     ]
    },
    {
     "name": "stderr",
     "output_type": "stream",
     "text": [
      "/home/zyzh0/anaconda3/envs/gis/lib/python3.9/site-packages/rioxarray/raster_writer.py:132: UserWarning: The nodata value (3.402823466e+38) has been automatically changed to (3.4028234663852886e+38) to match the dtype of the data.\n",
      "  warnings.warn(\n"
     ]
    },
    {
     "name": "stdout",
     "output_type": "stream",
     "text": [
      " MOD16A2GF.006_PET_500m_doy2008145_aid0001.tif5\n",
      "\n",
      "Processing file: Processing file: Processing file: Processing file:     MOD16A2GF.006_PET_500m_doy2000129_aid0001.tifMOD16A2GF.006_PET_500m_doy2002129_aid0001.tifMOD16A2GF.006_PET_500m_doy2007121_aid0001.tifMOD16A2GF.006_PET_500m_doy2010129_aid0001.tif\n",
      "\n",
      "\n",
      "\n",
      "Processing file:  MOD16A2GF.006_PET_500m_doy2009145_aid0001.tif\n",
      "Month: Processing file:  4 Processing file: Processing file:  Processing file: MOD16A2GF.006_PET_500m_doy2011137_aid0001.tifMonth:    done! \n",
      " MOD16A2GF.006_PET_500m_doy2000137_aid0001.tifMOD16A2GF.006_PET_500m_doy2002137_aid0001.tif\n",
      "MOD16A2GF.006_PET_500m_doy2010137_aid0001.tif4\n",
      "\n",
      "Processing month: \n",
      "   done!5\n",
      "\n",
      "Processing month: Processing file:   5Processing file: MOD16A2GF.006_PET_500m_doy2012121_aid0001.tif\n",
      " \n",
      "Processing file: MOD16A2GF.006_PET_500m_doy2007129_aid0001.tif \n",
      "MOD16A2GF.006_PET_500m_doy2014121_aid0001.tif\n",
      "Processing file: Processing file:   MOD16A2GF.006_PET_500m_doy2002145_aid0001.tifMOD16A2GF.006_PET_500m_doy2010145_aid0001.tif\n",
      "\n",
      "Processing file:  Processing file: MOD16A2GF.006_PET_500m_doy2011145_aid0001.tif \n",
      "MOD16A2GF.006_PET_500m_doy2000145_aid0001.tif\n",
      "Processing file: "
     ]
    },
    {
     "name": "stderr",
     "output_type": "stream",
     "text": [
      "/home/zyzh0/anaconda3/envs/gis/lib/python3.9/site-packages/rioxarray/raster_writer.py:132: UserWarning: The nodata value (3.402823466e+38) has been automatically changed to (3.4028234663852886e+38) to match the dtype of the data.\n",
      "  warnings.warn(\n"
     ]
    },
    {
     "name": "stdout",
     "output_type": "stream",
     "text": [
      "Processing file:   MOD16A2GF.006_PET_500m_doy2012129_aid0001.tifMOD16A2GF.006_PET_500m_doy2014129_aid0001.tif\n",
      "\n",
      "Processing file:  MOD16A2GF.006_PET_500m_doy2007137_aid0001.tif\n",
      "Processing file:  MOD16A2GF.006_PET_500m_doy2014137_aid0001.tif\n",
      "Processing file:  MOD16A2GF.006_PET_500m_doy2012137_aid0001.tif\n",
      "Processing file:  Month:  MOD16A2GF.006_PET_500m_doy2007145_aid0001.tif4\n",
      " Processing file:  done! \n",
      "MOD16A2GF.006_PET_500m_doy2014145_aid0001.tifProcessing month: \n",
      " 5\n",
      "Processing file:  MOD16A2GF.006_PET_500m_doy2001121_aid0001.tif\n",
      "Processing file:  MOD16A2GF.006_PET_500m_doy2012145_aid0001.tif\n",
      "Processing file:  MOD16A2GF.006_PET_500m_doy2001129_aid0001.tif\n",
      "Processing file:  MOD16A2GF.006_PET_500m_doy2001137_aid0001.tif\n",
      "Processing file:  MOD16A2GF.006_PET_500m_doy2001145_aid0001.tif\n"
     ]
    },
    {
     "name": "stderr",
     "output_type": "stream",
     "text": [
      "/home/zyzh0/anaconda3/envs/gis/lib/python3.9/site-packages/rioxarray/raster_writer.py:132: UserWarning: The nodata value (3.402823466e+38) has been automatically changed to (3.4028234663852886e+38) to match the dtype of the data.\n",
      "  warnings.warn(\n"
     ]
    },
    {
     "name": "stdout",
     "output_type": "stream",
     "text": [
      "Month:  5  done!\n",
      "Processing month:  6\n",
      "Processing file:  MOD16A2GF.006_PET_500m_doy2003153_aid0001.tif\n"
     ]
    },
    {
     "name": "stderr",
     "output_type": "stream",
     "text": [
      "/home/zyzh0/anaconda3/envs/gis/lib/python3.9/site-packages/rioxarray/raster_writer.py:132: UserWarning: The nodata value (3.402823466e+38) has been automatically changed to (3.4028234663852886e+38) to match the dtype of the data.\n",
      "  warnings.warn(\n"
     ]
    },
    {
     "name": "stdout",
     "output_type": "stream",
     "text": [
      "Processing file:  MOD16A2GF.006_PET_500m_doy2003161_aid0001.tif\n",
      "Processing file:  MOD16A2GF.006_PET_500m_doy2003169_aid0001.tifMonth: \n",
      " 5  done!\n",
      "Processing month:  6\n",
      "Processing file:  MOD16A2GF.006_PET_500m_doy2006153_aid0001.tif\n",
      "Processing file:  MOD16A2GF.006_PET_500m_doy2003177_aid0001.tif\n",
      "Processing file:  MOD16A2GF.006_PET_500m_doy2006161_aid0001.tif\n",
      "Processing file:  MOD16A2GF.006_PET_500m_doy2006169_aid0001.tif\n",
      "Processing file:  MOD16A2GF.006_PET_500m_doy2006177_aid0001.tif\n"
     ]
    },
    {
     "name": "stderr",
     "output_type": "stream",
     "text": [
      "/home/zyzh0/anaconda3/envs/gis/lib/python3.9/site-packages/rioxarray/raster_writer.py:132: UserWarning: The nodata value (3.402823466e+38) has been automatically changed to (3.4028234663852886e+38) to match the dtype of the data.\n",
      "  warnings.warn(\n"
     ]
    },
    {
     "name": "stdout",
     "output_type": "stream",
     "text": [
      "Month:  5  done!\n",
      "Processing month:  6\n",
      "Processing file:  MOD16A2GF.006_PET_500m_doy2005153_aid0001.tif\n"
     ]
    },
    {
     "name": "stderr",
     "output_type": "stream",
     "text": [
      "/home/zyzh0/anaconda3/envs/gis/lib/python3.9/site-packages/rioxarray/raster_writer.py:132: UserWarning: The nodata value (3.402823466e+38) has been automatically changed to (3.4028234663852886e+38) to match the dtype of the data.\n",
      "  warnings.warn(\n"
     ]
    },
    {
     "name": "stdout",
     "output_type": "stream",
     "text": [
      "Processing file: "
     ]
    },
    {
     "name": "stderr",
     "output_type": "stream",
     "text": [
      "/home/zyzh0/anaconda3/envs/gis/lib/python3.9/site-packages/rioxarray/raster_writer.py:132: UserWarning: The nodata value (3.402823466e+38) has been automatically changed to (3.4028234663852886e+38) to match the dtype of the data.\n",
      "  warnings.warn(\n"
     ]
    },
    {
     "name": "stdout",
     "output_type": "stream",
     "text": [
      " "
     ]
    },
    {
     "name": "stderr",
     "output_type": "stream",
     "text": [
      "/home/zyzh0/anaconda3/envs/gis/lib/python3.9/site-packages/rioxarray/raster_writer.py:132: UserWarning: The nodata value (3.402823466e+38) has been automatically changed to (3.4028234663852886e+38) to match the dtype of the data.\n",
      "  warnings.warn(\n"
     ]
    },
    {
     "name": "stdout",
     "output_type": "stream",
     "text": [
      "MOD16A2GF.006_PET_500m_doy2005161_aid0001.tif\n"
     ]
    },
    {
     "name": "stderr",
     "output_type": "stream",
     "text": [
      "/home/zyzh0/anaconda3/envs/gis/lib/python3.9/site-packages/rioxarray/raster_writer.py:132: UserWarning: The nodata value (3.402823466e+38) has been automatically changed to (3.4028234663852886e+38) to match the dtype of the data.\n",
      "  warnings.warn(\n"
     ]
    },
    {
     "name": "stdout",
     "output_type": "stream",
     "text": [
      "Processing file: Month:   MOD16A2GF.006_PET_500m_doy2005169_aid0001.tif5 \n",
      " done!\n"
     ]
    },
    {
     "name": "stderr",
     "output_type": "stream",
     "text": [
      "/home/zyzh0/anaconda3/envs/gis/lib/python3.9/site-packages/rioxarray/raster_writer.py:132: UserWarning: The nodata value (3.402823466e+38) has been automatically changed to (3.4028234663852886e+38) to match the dtype of the data.\n",
      "  warnings.warn(\n"
     ]
    },
    {
     "name": "stdout",
     "output_type": "stream",
     "text": [
      "Processing month: Month:   65\n",
      " Processing file:  done! \n",
      "MOD16A2GF.006_PET_500m_doy2004153_aid0001.tifProcessing month: \n",
      " 6Month: \n",
      " Processing file: 5  MOD16A2GF.006_PET_500m_doy2013153_aid0001.tifMonth:  done!\n",
      " \n",
      "5Processing month: Processing file:     done!6MOD16A2GF.006_PET_500m_doy2005177_aid0001.tif\n",
      "\n",
      "\n",
      "Processing month: Processing file: Month: Processing file:    6 MOD16A2GF.006_PET_500m_doy2004161_aid0001.tif"
     ]
    },
    {
     "name": "stderr",
     "output_type": "stream",
     "text": [
      "/home/zyzh0/anaconda3/envs/gis/lib/python3.9/site-packages/rioxarray/raster_writer.py:132: UserWarning: The nodata value (3.402823466e+38) has been automatically changed to (3.4028234663852886e+38) to match the dtype of the data.\n",
      "  warnings.warn(\n"
     ]
    },
    {
     "name": "stdout",
     "output_type": "stream",
     "text": [
      "5\n",
      "MOD16A2GF.006_PET_500m_doy2015153_aid0001.tif\n",
      " Processing file: \n",
      " done!"
     ]
    },
    {
     "name": "stderr",
     "output_type": "stream",
     "text": [
      "/home/zyzh0/anaconda3/envs/gis/lib/python3.9/site-packages/rioxarray/raster_writer.py:132: UserWarning: The nodata value (3.402823466e+38) has been automatically changed to (3.4028234663852886e+38) to match the dtype of the data.\n",
      "  warnings.warn(\n"
     ]
    },
    {
     "name": "stdout",
     "output_type": "stream",
     "text": [
      " \n",
      "MOD16A2GF.006_PET_500m_doy2008153_aid0001.tifProcessing month: \n",
      " Processing file: 6 \n",
      "MOD16A2GF.006_PET_500m_doy2013161_aid0001.tifProcessing file: \n",
      " MOD16A2GF.006_PET_500m_doy2009153_aid0001.tif\n",
      "Processing file:  Processing file: MOD16A2GF.006_PET_500m_doy2008161_aid0001.tif \n"
     ]
    },
    {
     "name": "stderr",
     "output_type": "stream",
     "text": [
      "/home/zyzh0/anaconda3/envs/gis/lib/python3.9/site-packages/rioxarray/raster_writer.py:132: UserWarning: The nodata value (3.402823466e+38) has been automatically changed to (3.4028234663852886e+38) to match the dtype of the data.\n",
      "  warnings.warn(\n"
     ]
    },
    {
     "name": "stdout",
     "output_type": "stream",
     "text": [
      "MOD16A2GF.006_PET_500m_doy2004169_aid0001.tif\n",
      "Month: Processing file:   5MOD16A2GF.006_PET_500m_doy2015161_aid0001.tif \n",
      " done!Processing file: \n",
      "Month: Processing month:  "
     ]
    },
    {
     "name": "stderr",
     "output_type": "stream",
     "text": [
      "/home/zyzh0/anaconda3/envs/gis/lib/python3.9/site-packages/rioxarray/raster_writer.py:132: UserWarning: The nodata value (3.402823466e+38) has been automatically changed to (3.4028234663852886e+38) to match the dtype of the data.\n",
      "  warnings.warn(\n"
     ]
    },
    {
     "name": "stdout",
     "output_type": "stream",
     "text": [
      "  MOD16A2GF.006_PET_500m_doy2013169_aid0001.tif5Processing file: 6\n",
      "  \n",
      "MOD16A2GF.006_PET_500m_doy2009161_aid0001.tifProcessing file:  done!Processing file: \n",
      " \n",
      " MOD16A2GF.006_PET_500m_doy2008169_aid0001.tifProcessing month: MOD16A2GF.006_PET_500m_doy2011153_aid0001.tif\n",
      " \n",
      "6"
     ]
    },
    {
     "name": "stderr",
     "output_type": "stream",
     "text": [
      "/home/zyzh0/anaconda3/envs/gis/lib/python3.9/site-packages/rioxarray/raster_writer.py:132: UserWarning: The nodata value (3.402823466e+38) has been automatically changed to (3.4028234663852886e+38) to match the dtype of the data.\n",
      "  warnings.warn(\n"
     ]
    },
    {
     "name": "stdout",
     "output_type": "stream",
     "text": [
      "\n",
      "Processing file: "
     ]
    },
    {
     "name": "stderr",
     "output_type": "stream",
     "text": [
      "/home/zyzh0/anaconda3/envs/gis/lib/python3.9/site-packages/rioxarray/raster_writer.py:132: UserWarning: The nodata value (3.402823466e+38) has been automatically changed to (3.4028234663852886e+38) to match the dtype of the data.\n",
      "  warnings.warn(\n"
     ]
    },
    {
     "name": "stdout",
     "output_type": "stream",
     "text": [
      " Processing file: MOD16A2GF.006_PET_500m_doy2002153_aid0001.tifMonth:   \n",
      "MOD16A2GF.006_PET_500m_doy2004177_aid0001.tif5\n",
      "Processing file: Processing file:     done!MOD16A2GF.006_PET_500m_doy2013177_aid0001.tifMOD16A2GF.006_PET_500m_doy2015169_aid0001.tif\n",
      "\n",
      "\n",
      "Processing month:  6\n",
      "Processing file: Processing file: Month:    MOD16A2GF.006_PET_500m_doy2009169_aid0001.tifMOD16A2GF.006_PET_500m_doy2000153_aid0001.tif5Processing file: \n",
      "Processing file: \n",
      "    done!MOD16A2GF.006_PET_500m_doy2008177_aid0001.tifMOD16A2GF.006_PET_500m_doy2011161_aid0001.tifMonth: \n",
      "\n",
      "\n",
      "Processing month:   Processing file: 56 "
     ]
    },
    {
     "name": "stderr",
     "output_type": "stream",
     "text": [
      "/home/zyzh0/anaconda3/envs/gis/lib/python3.9/site-packages/rioxarray/raster_writer.py:132: UserWarning: The nodata value (3.402823466e+38) has been automatically changed to (3.4028234663852886e+38) to match the dtype of the data.\n",
      "  warnings.warn(\n"
     ]
    },
    {
     "name": "stdout",
     "output_type": "stream",
     "text": [
      " \n",
      "MOD16A2GF.006_PET_500m_doy2015177_aid0001.tif done!\n",
      "Processing file: \n",
      "Processing file:  Processing month: MOD16A2GF.006_PET_500m_doy2010153_aid0001.tif  \n",
      "MOD16A2GF.006_PET_500m_doy2002161_aid0001.tifProcessing file: 6\n",
      " Processing file: \n",
      "Month: MOD16A2GF.006_PET_500m_doy2009177_aid0001.tif  \n",
      "Processing file: Processing file: MOD16A2GF.006_PET_500m_doy2000161_aid0001.tif5  \n",
      "MOD16A2GF.006_PET_500m_doy2011169_aid0001.tif MOD16A2GF.006_PET_500m_doy2014153_aid0001.tif\n",
      " done!\n",
      "\n",
      "Processing month:  6\n",
      "Processing file: Processing file:   MOD16A2GF.006_PET_500m_doy2007153_aid0001.tifMOD16A2GF.006_PET_500m_doy2002169_aid0001.tif\n",
      "Month: \n",
      " 5Processing file: Processing file:   Processing file:   done!MOD16A2GF.006_PET_500m_doy2011177_aid0001.tif MOD16A2GF.006_PET_500m_doy2014161_aid0001.tif\n",
      "\n",
      "\n",
      "MOD16A2GF.006_PET_500m_doy2010161_aid0001.tifProcessing file: Processing month: \n",
      "  MOD16A2GF.006_PET_500m_doy2000169_aid0001.tif6\n",
      "\n",
      "Processing file:  Processing file: MOD16A2GF.006_PET_500m_doy2012153_aid0001.tif \n",
      "MOD16A2GF.006_PET_500m_doy2002177_aid0001.tif\n",
      "Processing file: Processing file:   MOD16A2GF.006_PET_500m_doy2007161_aid0001.tifMOD16A2GF.006_PET_500m_doy2014169_aid0001.tif\n",
      "\n",
      "Processing file:  MOD16A2GF.006_PET_500m_doy2010169_aid0001.tifProcessing file: \n",
      "Processing file:   MOD16A2GF.006_PET_500m_doy2000177_aid0001.tifMOD16A2GF.006_PET_500m_doy2012161_aid0001.tif\n",
      "\n",
      "Processing file:  MOD16A2GF.006_PET_500m_doy2014177_aid0001.tif\n",
      "Processing file:  MOD16A2GF.006_PET_500m_doy2007169_aid0001.tif\n",
      "Processing file:  MOD16A2GF.006_PET_500m_doy2012169_aid0001.tif\n",
      "Processing file:  MOD16A2GF.006_PET_500m_doy2010177_aid0001.tif\n",
      "Processing file:  MOD16A2GF.006_PET_500m_doy2012177_aid0001.tif\n",
      "Processing file:  MOD16A2GF.006_PET_500m_doy2007177_aid0001.tif\n"
     ]
    },
    {
     "name": "stderr",
     "output_type": "stream",
     "text": [
      "/home/zyzh0/anaconda3/envs/gis/lib/python3.9/site-packages/rioxarray/raster_writer.py:132: UserWarning: The nodata value (3.402823466e+38) has been automatically changed to (3.4028234663852886e+38) to match the dtype of the data.\n",
      "  warnings.warn(\n"
     ]
    },
    {
     "name": "stdout",
     "output_type": "stream",
     "text": [
      "Month:  5  done!\n",
      "Processing month:  6\n",
      "Processing file:  MOD16A2GF.006_PET_500m_doy2001153_aid0001.tif\n",
      "Processing file:  MOD16A2GF.006_PET_500m_doy2001161_aid0001.tif\n",
      "Processing file:  MOD16A2GF.006_PET_500m_doy2001169_aid0001.tif\n",
      "Processing file:  MOD16A2GF.006_PET_500m_doy2001177_aid0001.tif\n"
     ]
    },
    {
     "name": "stderr",
     "output_type": "stream",
     "text": [
      "/home/zyzh0/anaconda3/envs/gis/lib/python3.9/site-packages/rioxarray/raster_writer.py:132: UserWarning: The nodata value (3.402823466e+38) has been automatically changed to (3.4028234663852886e+38) to match the dtype of the data.\n",
      "  warnings.warn(\n",
      "/home/zyzh0/anaconda3/envs/gis/lib/python3.9/site-packages/rioxarray/raster_writer.py:132: UserWarning: The nodata value (3.402823466e+38) has been automatically changed to (3.4028234663852886e+38) to match the dtype of the data.\n",
      "  warnings.warn(\n"
     ]
    },
    {
     "name": "stdout",
     "output_type": "stream",
     "text": [
      "Month:  6  done!\n",
      "Processing month:  7Month: \n",
      " 6Processing file:    done!MOD16A2GF.006_PET_500m_doy2003185_aid0001.tif\n",
      "\n",
      "Processing month:  7\n",
      "Processing file:  MOD16A2GF.006_PET_500m_doy2006185_aid0001.tif\n",
      "Processing file: Processing file:   MOD16A2GF.006_PET_500m_doy2006193_aid0001.tifMOD16A2GF.006_PET_500m_doy2003193_aid0001.tif\n",
      "\n",
      "Processing file:  MOD16A2GF.006_PET_500m_doy2006201_aid0001.tif\n",
      "Processing file:  MOD16A2GF.006_PET_500m_doy2003201_aid0001.tif\n",
      "Processing file:  MOD16A2GF.006_PET_500m_doy2006209_aid0001.tif\n",
      "Processing file:  MOD16A2GF.006_PET_500m_doy2003209_aid0001.tif\n"
     ]
    },
    {
     "name": "stderr",
     "output_type": "stream",
     "text": [
      "/home/zyzh0/anaconda3/envs/gis/lib/python3.9/site-packages/rioxarray/raster_writer.py:132: UserWarning: The nodata value (3.402823466e+38) has been automatically changed to (3.4028234663852886e+38) to match the dtype of the data.\n",
      "  warnings.warn(\n"
     ]
    },
    {
     "name": "stdout",
     "output_type": "stream",
     "text": [
      "Month:  6  done!\n",
      "Processing month:  7\n",
      "Processing file:  MOD16A2GF.006_PET_500m_doy2005185_aid0001.tif\n",
      "Processing file:  MOD16A2GF.006_PET_500m_doy2005193_aid0001.tif\n",
      "Processing file:  "
     ]
    },
    {
     "name": "stderr",
     "output_type": "stream",
     "text": [
      "/home/zyzh0/anaconda3/envs/gis/lib/python3.9/site-packages/rioxarray/raster_writer.py:132: UserWarning: The nodata value (3.402823466e+38) has been automatically changed to (3.4028234663852886e+38) to match the dtype of the data.\n",
      "  warnings.warn(\n"
     ]
    },
    {
     "name": "stdout",
     "output_type": "stream",
     "text": [
      "MOD16A2GF.006_PET_500m_doy2005201_aid0001.tif\n",
      "Processing file:  MOD16A2GF.006_PET_500m_doy2005209_aid0001.tif\n"
     ]
    },
    {
     "name": "stderr",
     "output_type": "stream",
     "text": [
      "/home/zyzh0/anaconda3/envs/gis/lib/python3.9/site-packages/rioxarray/raster_writer.py:132: UserWarning: The nodata value (3.402823466e+38) has been automatically changed to (3.4028234663852886e+38) to match the dtype of the data.\n",
      "  warnings.warn(\n",
      "/home/zyzh0/anaconda3/envs/gis/lib/python3.9/site-packages/rioxarray/raster_writer.py:132: UserWarning: The nodata value (3.402823466e+38) has been automatically changed to (3.4028234663852886e+38) to match the dtype of the data.\n",
      "  warnings.warn(\n"
     ]
    },
    {
     "name": "stdout",
     "output_type": "stream",
     "text": [
      "Month:  6  done!\n",
      "Processing month:  7\n",
      "Processing file:  MOD16A2GF.006_PET_500m_doy2013185_aid0001.tif\n",
      "Month:  6  done!\n",
      "Processing month:  7\n",
      "Processing file:  MOD16A2GF.006_PET_500m_doy2008185_aid0001.tifMonth: \n",
      " 6  done!Processing file: \n",
      " Processing month: MOD16A2GF.006_PET_500m_doy2013193_aid0001.tif \n",
      "7\n",
      "Processing file:  MOD16A2GF.006_PET_500m_doy2015185_aid0001.tifProcessing file: "
     ]
    },
    {
     "name": "stderr",
     "output_type": "stream",
     "text": [
      "/home/zyzh0/anaconda3/envs/gis/lib/python3.9/site-packages/rioxarray/raster_writer.py:132: UserWarning: The nodata value (3.402823466e+38) has been automatically changed to (3.4028234663852886e+38) to match the dtype of the data.\n",
      "  warnings.warn(\n"
     ]
    },
    {
     "name": "stdout",
     "output_type": "stream",
     "text": [
      "\n",
      " MOD16A2GF.006_PET_500m_doy2008193_aid0001.tif\n",
      "Processing file:  MOD16A2GF.006_PET_500m_doy2013201_aid0001.tif\n",
      "Processing file:  Processing file: MOD16A2GF.006_PET_500m_doy2008201_aid0001.tif \n",
      "MOD16A2GF.006_PET_500m_doy2015193_aid0001.tif"
     ]
    },
    {
     "name": "stderr",
     "output_type": "stream",
     "text": [
      "/home/zyzh0/anaconda3/envs/gis/lib/python3.9/site-packages/rioxarray/raster_writer.py:132: UserWarning: The nodata value (3.402823466e+38) has been automatically changed to (3.4028234663852886e+38) to match the dtype of the data.\n",
      "  warnings.warn(\n"
     ]
    },
    {
     "name": "stdout",
     "output_type": "stream",
     "text": [
      "\n"
     ]
    },
    {
     "name": "stderr",
     "output_type": "stream",
     "text": [
      "/home/zyzh0/anaconda3/envs/gis/lib/python3.9/site-packages/rioxarray/raster_writer.py:132: UserWarning: The nodata value (3.402823466e+38) has been automatically changed to (3.4028234663852886e+38) to match the dtype of the data.\n",
      "  warnings.warn(\n"
     ]
    },
    {
     "name": "stdout",
     "output_type": "stream",
     "text": [
      "Month:  6"
     ]
    },
    {
     "name": "stderr",
     "output_type": "stream",
     "text": [
      "/home/zyzh0/anaconda3/envs/gis/lib/python3.9/site-packages/rioxarray/raster_writer.py:132: UserWarning: The nodata value (3.402823466e+38) has been automatically changed to (3.4028234663852886e+38) to match the dtype of the data.\n",
      "  warnings.warn(\n"
     ]
    },
    {
     "name": "stdout",
     "output_type": "stream",
     "text": [
      "  done!\n",
      "Processing month:  Processing file: 7 \n",
      "MOD16A2GF.006_PET_500m_doy2013209_aid0001.tifProcessing file: \n",
      "Processing file:   MOD16A2GF.006_PET_500m_doy2004185_aid0001.tifMOD16A2GF.006_PET_500m_doy2015201_aid0001.tif\n",
      "\n",
      "Processing file:  MOD16A2GF.006_PET_500m_doy2008209_aid0001.tif\n",
      "Month: Month:   66   done!Month:  done!\n",
      " \n",
      "Processing month: 6Processing month:  Processing file:   Processing file: 7  done!7 \n",
      "MOD16A2GF.006_PET_500m_doy2004193_aid0001.tif\n",
      "\n",
      "MOD16A2GF.006_PET_500m_doy2015209_aid0001.tif\n",
      "Processing file: Processing month: \n",
      "Processing file:    MOD16A2GF.006_PET_500m_doy2002185_aid0001.tif7MOD16A2GF.006_PET_500m_doy2009185_aid0001.tif\n",
      "\n",
      "\n",
      "Processing file:  MOD16A2GF.006_PET_500m_doy2014185_aid0001.tif\n"
     ]
    },
    {
     "name": "stderr",
     "output_type": "stream",
     "text": [
      "/home/zyzh0/anaconda3/envs/gis/lib/python3.9/site-packages/rioxarray/raster_writer.py:132: UserWarning: The nodata value (3.402823466e+38) has been automatically changed to (3.4028234663852886e+38) to match the dtype of the data.\n",
      "  warnings.warn(\n"
     ]
    },
    {
     "name": "stdout",
     "output_type": "stream",
     "text": [
      "Processing file:  MOD16A2GF.006_PET_500m_doy2004201_aid0001.tifProcessing file: \n",
      " MOD16A2GF.006_PET_500m_doy2002193_aid0001.tif\n",
      "Processing file:  MOD16A2GF.006_PET_500m_doy2009193_aid0001.tif\n"
     ]
    },
    {
     "name": "stderr",
     "output_type": "stream",
     "text": [
      "/home/zyzh0/anaconda3/envs/gis/lib/python3.9/site-packages/rioxarray/raster_writer.py:132: UserWarning: The nodata value (3.402823466e+38) has been automatically changed to (3.4028234663852886e+38) to match the dtype of the data.\n",
      "  warnings.warn(\n",
      "/home/zyzh0/anaconda3/envs/gis/lib/python3.9/site-packages/rioxarray/raster_writer.py:132: UserWarning: The nodata value (3.402823466e+38) has been automatically changed to (3.4028234663852886e+38) to match the dtype of the data.\n",
      "  warnings.warn(\n",
      "/home/zyzh0/anaconda3/envs/gis/lib/python3.9/site-packages/rioxarray/raster_writer.py:132: UserWarning: The nodata value (3.402823466e+38) has been automatically changed to (3.4028234663852886e+38) to match the dtype of the data.\n",
      "  warnings.warn(\n"
     ]
    },
    {
     "name": "stdout",
     "output_type": "stream",
     "text": [
      "Processing file: Month:   Processing file: MOD16A2GF.006_PET_500m_doy2004209_aid0001.tifProcessing file: 6 \n",
      "  MOD16A2GF.006_PET_500m_doy2002201_aid0001.tifProcessing file: MOD16A2GF.006_PET_500m_doy2014193_aid0001.tif done!\n",
      " \n",
      "\n",
      "MOD16A2GF.006_PET_500m_doy2009201_aid0001.tifProcessing month: \n",
      " 7\n",
      "Processing file: Month:   "
     ]
    },
    {
     "name": "stderr",
     "output_type": "stream",
     "text": [
      "/home/zyzh0/anaconda3/envs/gis/lib/python3.9/site-packages/rioxarray/raster_writer.py:132: UserWarning: The nodata value (3.402823466e+38) has been automatically changed to (3.4028234663852886e+38) to match the dtype of the data.\n",
      "  warnings.warn(\n"
     ]
    },
    {
     "name": "stdout",
     "output_type": "stream",
     "text": [
      "MOD16A2GF.006_PET_500m_doy2012185_aid0001.tif6\n",
      "  done!Month: \n",
      " Processing month: 6 Month:  7 done! \n",
      "\n",
      "6Processing file: Processing month:  Processing file:    done!Processing file: MOD16A2GF.006_PET_500m_doy2007185_aid0001.tif 7\n",
      " Processing file: \n",
      "MOD16A2GF.006_PET_500m_doy2002209_aid0001.tif\n",
      "Processing month: MOD16A2GF.006_PET_500m_doy2014201_aid0001.tif \n",
      "Processing file:  \n",
      "MOD16A2GF.006_PET_500m_doy2009209_aid0001.tif 7\n",
      "MOD16A2GF.006_PET_500m_doy2000185_aid0001.tif\n",
      "\n",
      "Processing file:  MOD16A2GF.006_PET_500m_doy2010185_aid0001.tifProcessing file: \n",
      " MOD16A2GF.006_PET_500m_doy2012193_aid0001.tif\n",
      "Processing file:  MOD16A2GF.006_PET_500m_doy2014209_aid0001.tifMonth: \n",
      " Processing file: 6  MOD16A2GF.006_PET_500m_doy2000193_aid0001.tifProcessing file:  done! Processing file: \n",
      "\n",
      "MOD16A2GF.006_PET_500m_doy2010193_aid0001.tif Processing month: \n",
      "MOD16A2GF.006_PET_500m_doy2007193_aid0001.tif \n",
      "7\n",
      "Processing file: Processing file:   MOD16A2GF.006_PET_500m_doy2011185_aid0001.tifMOD16A2GF.006_PET_500m_doy2012201_aid0001.tif\n",
      "\n",
      "Processing file: Processing file:  Processing file:  MOD16A2GF.006_PET_500m_doy2000201_aid0001.tif MOD16A2GF.006_PET_500m_doy2007201_aid0001.tif\n",
      "MOD16A2GF.006_PET_500m_doy2010201_aid0001.tif\n",
      "\n",
      "Processing file:  MOD16A2GF.006_PET_500m_doy2012209_aid0001.tif\n",
      "Processing file:  MOD16A2GF.006_PET_500m_doy2011193_aid0001.tif\n",
      "Processing file: Processing file:   Processing file: MOD16A2GF.006_PET_500m_doy2010209_aid0001.tifMOD16A2GF.006_PET_500m_doy2000209_aid0001.tif \n",
      "\n",
      "MOD16A2GF.006_PET_500m_doy2007209_aid0001.tif\n",
      "Processing file:  MOD16A2GF.006_PET_500m_doy2011201_aid0001.tif\n",
      "Processing file:  MOD16A2GF.006_PET_500m_doy2011209_aid0001.tif\n"
     ]
    },
    {
     "name": "stderr",
     "output_type": "stream",
     "text": [
      "/home/zyzh0/anaconda3/envs/gis/lib/python3.9/site-packages/rioxarray/raster_writer.py:132: UserWarning: The nodata value (3.402823466e+38) has been automatically changed to (3.4028234663852886e+38) to match the dtype of the data.\n",
      "  warnings.warn(\n"
     ]
    },
    {
     "name": "stdout",
     "output_type": "stream",
     "text": [
      "Month:  6  done!\n",
      "Processing month:  7\n",
      "Processing file:  MOD16A2GF.006_PET_500m_doy2001185_aid0001.tif\n",
      "Processing file:  MOD16A2GF.006_PET_500m_doy2001193_aid0001.tif\n",
      "Processing file:  MOD16A2GF.006_PET_500m_doy2001201_aid0001.tif\n",
      "Processing file:  MOD16A2GF.006_PET_500m_doy2001209_aid0001.tif\n"
     ]
    },
    {
     "name": "stderr",
     "output_type": "stream",
     "text": [
      "/home/zyzh0/anaconda3/envs/gis/lib/python3.9/site-packages/rioxarray/raster_writer.py:132: UserWarning: The nodata value (3.402823466e+38) has been automatically changed to (3.4028234663852886e+38) to match the dtype of the data.\n",
      "  warnings.warn(\n",
      "/home/zyzh0/anaconda3/envs/gis/lib/python3.9/site-packages/rioxarray/raster_writer.py:132: UserWarning: The nodata value (3.402823466e+38) has been automatically changed to (3.4028234663852886e+38) to match the dtype of the data.\n",
      "  warnings.warn(\n"
     ]
    },
    {
     "name": "stdout",
     "output_type": "stream",
     "text": [
      "Month:  7 Month:  done! \n",
      "7Processing month:   8 done!\n",
      "\n",
      "Processing file: Processing month:   MOD16A2GF.006_PET_500m_doy2006209_aid0001.tif\n",
      "8\n",
      "Processing file:  MOD16A2GF.006_PET_500m_doy2003209_aid0001.tif\n",
      "Processing file:  MOD16A2GF.006_PET_500m_doy2006217_aid0001.tif\n",
      "Processing file:  MOD16A2GF.006_PET_500m_doy2003217_aid0001.tif\n",
      "Processing file:  MOD16A2GF.006_PET_500m_doy2006225_aid0001.tif\n",
      "Processing file:  Processing file: MOD16A2GF.006_PET_500m_doy2003225_aid0001.tif \n",
      "MOD16A2GF.006_PET_500m_doy2006233_aid0001.tif\n",
      "Processing file:  MOD16A2GF.006_PET_500m_doy2003233_aid0001.tif\n"
     ]
    },
    {
     "name": "stderr",
     "output_type": "stream",
     "text": [
      "/home/zyzh0/anaconda3/envs/gis/lib/python3.9/site-packages/rioxarray/raster_writer.py:132: UserWarning: The nodata value (3.402823466e+38) has been automatically changed to (3.4028234663852886e+38) to match the dtype of the data.\n",
      "  warnings.warn(\n"
     ]
    },
    {
     "name": "stdout",
     "output_type": "stream",
     "text": [
      "Month:  7  done!\n",
      "Processing month:  8\n",
      "Processing file:  MOD16A2GF.006_PET_500m_doy2005209_aid0001.tif\n"
     ]
    },
    {
     "name": "stderr",
     "output_type": "stream",
     "text": [
      "/home/zyzh0/anaconda3/envs/gis/lib/python3.9/site-packages/rioxarray/raster_writer.py:132: UserWarning: The nodata value (3.402823466e+38) has been automatically changed to (3.4028234663852886e+38) to match the dtype of the data.\n",
      "  warnings.warn(\n"
     ]
    },
    {
     "name": "stdout",
     "output_type": "stream",
     "text": [
      "Processing file:  MOD16A2GF.006_PET_500m_doy2005217_aid0001.tif\n",
      "Processing file:  MOD16A2GF.006_PET_500m_doy2005225_aid0001.tifMonth: \n",
      " "
     ]
    },
    {
     "name": "stderr",
     "output_type": "stream",
     "text": [
      "/home/zyzh0/anaconda3/envs/gis/lib/python3.9/site-packages/rioxarray/raster_writer.py:132: UserWarning: The nodata value (3.402823466e+38) has been automatically changed to (3.4028234663852886e+38) to match the dtype of the data.\n",
      "  warnings.warn(\n"
     ]
    },
    {
     "name": "stdout",
     "output_type": "stream",
     "text": [
      "7  done!\n",
      "Processing month:  8\n",
      "Processing file:  MOD16A2GF.006_PET_500m_doy2013209_aid0001.tif\n",
      "Processing file:  MOD16A2GF.006_PET_500m_doy2005233_aid0001.tif\n"
     ]
    },
    {
     "name": "stderr",
     "output_type": "stream",
     "text": [
      "/home/zyzh0/anaconda3/envs/gis/lib/python3.9/site-packages/rioxarray/raster_writer.py:132: UserWarning: The nodata value (3.402823466e+38) has been automatically changed to (3.4028234663852886e+38) to match the dtype of the data.\n",
      "  warnings.warn(\n"
     ]
    },
    {
     "name": "stdout",
     "output_type": "stream",
     "text": [
      "Month:  7 Processing file:  done! \n",
      "MOD16A2GF.006_PET_500m_doy2013217_aid0001.tifProcessing month: \n",
      " 8\n",
      "Processing file:  MOD16A2GF.006_PET_500m_doy2015209_aid0001.tif\n",
      "Processing file: Month:   MOD16A2GF.006_PET_500m_doy2013225_aid0001.tif7\n",
      "  done!\n",
      "Processing month:  8\n",
      "Processing file:  MOD16A2GF.006_PET_500m_doy2008209_aid0001.tif\n",
      "Processing file:  MOD16A2GF.006_PET_500m_doy2015217_aid0001.tifProcessing file: \n",
      " MOD16A2GF.006_PET_500m_doy2013233_aid0001.tif\n",
      "Processing file:  MOD16A2GF.006_PET_500m_doy2008217_aid0001.tif"
     ]
    },
    {
     "name": "stderr",
     "output_type": "stream",
     "text": [
      "/home/zyzh0/anaconda3/envs/gis/lib/python3.9/site-packages/rioxarray/raster_writer.py:132: UserWarning: The nodata value (3.402823466e+38) has been automatically changed to (3.4028234663852886e+38) to match the dtype of the data.\n",
      "  warnings.warn(\n"
     ]
    },
    {
     "name": "stdout",
     "output_type": "stream",
     "text": [
      "\n",
      "Processing file: "
     ]
    },
    {
     "name": "stderr",
     "output_type": "stream",
     "text": [
      "/home/zyzh0/anaconda3/envs/gis/lib/python3.9/site-packages/rioxarray/raster_writer.py:132: UserWarning: The nodata value (3.402823466e+38) has been automatically changed to (3.4028234663852886e+38) to match the dtype of the data.\n",
      "  warnings.warn(\n"
     ]
    },
    {
     "name": "stdout",
     "output_type": "stream",
     "text": [
      " MOD16A2GF.006_PET_500m_doy2015225_aid0001.tif\n",
      "Processing file:  MOD16A2GF.006_PET_500m_doy2008225_aid0001.tifProcessing file: \n",
      " MOD16A2GF.006_PET_500m_doy2015233_aid0001.tif\n",
      "Month: Month:   77   done! done!\n",
      "Processing month: \n",
      " Processing month: 8 \n",
      "Processing file: 8 Processing file: \n",
      "MOD16A2GF.006_PET_500m_doy2008233_aid0001.tif \n",
      "Processing file: MOD16A2GF.006_PET_500m_doy2004209_aid0001.tif \n",
      "MOD16A2GF.006_PET_500m_doy2002209_aid0001.tif\n"
     ]
    },
    {
     "name": "stderr",
     "output_type": "stream",
     "text": [
      "/home/zyzh0/anaconda3/envs/gis/lib/python3.9/site-packages/rioxarray/raster_writer.py:132: UserWarning: The nodata value (3.402823466e+38) has been automatically changed to (3.4028234663852886e+38) to match the dtype of the data.\n",
      "  warnings.warn(\n"
     ]
    },
    {
     "name": "stdout",
     "output_type": "stream",
     "text": [
      "Processing file: Processing file:   MOD16A2GF.006_PET_500m_doy2004217_aid0001.tifMOD16A2GF.006_PET_500m_doy2002217_aid0001.tif\n",
      "\n"
     ]
    },
    {
     "name": "stderr",
     "output_type": "stream",
     "text": [
      "/home/zyzh0/anaconda3/envs/gis/lib/python3.9/site-packages/rioxarray/raster_writer.py:132: UserWarning: The nodata value (3.402823466e+38) has been automatically changed to (3.4028234663852886e+38) to match the dtype of the data.\n",
      "  warnings.warn(\n"
     ]
    },
    {
     "name": "stdout",
     "output_type": "stream",
     "text": [
      "Month:  7 Processing file:  done! \n",
      "MOD16A2GF.006_PET_500m_doy2004225_aid0001.tifProcessing month: \n",
      " 8\n",
      "Processing file: "
     ]
    },
    {
     "name": "stderr",
     "output_type": "stream",
     "text": [
      "/home/zyzh0/anaconda3/envs/gis/lib/python3.9/site-packages/rioxarray/raster_writer.py:132: UserWarning: The nodata value (3.402823466e+38) has been automatically changed to (3.4028234663852886e+38) to match the dtype of the data.\n",
      "  warnings.warn(\n"
     ]
    },
    {
     "name": "stdout",
     "output_type": "stream",
     "text": [
      "Processing file:   MOD16A2GF.006_PET_500m_doy2002225_aid0001.tifMOD16A2GF.006_PET_500m_doy2009209_aid0001.tif\n",
      "\n"
     ]
    },
    {
     "name": "stderr",
     "output_type": "stream",
     "text": [
      "/home/zyzh0/anaconda3/envs/gis/lib/python3.9/site-packages/rioxarray/raster_writer.py:132: UserWarning: The nodata value (3.402823466e+38) has been automatically changed to (3.4028234663852886e+38) to match the dtype of the data.\n",
      "  warnings.warn(\n"
     ]
    },
    {
     "name": "stdout",
     "output_type": "stream",
     "text": [
      "Month:  7  done!\n",
      "Processing file: Processing file: Processing month:    MOD16A2GF.006_PET_500m_doy2002233_aid0001.tifMOD16A2GF.006_PET_500m_doy2004233_aid0001.tif8\n",
      "\n",
      "\n",
      "Month: Processing file:  Processing file:  7 MOD16A2GF.006_PET_500m_doy2014209_aid0001.tif MOD16A2GF.006_PET_500m_doy2009217_aid0001.tif\n",
      " done!\n",
      "\n",
      "Processing month:  "
     ]
    },
    {
     "name": "stderr",
     "output_type": "stream",
     "text": [
      "/home/zyzh0/anaconda3/envs/gis/lib/python3.9/site-packages/rioxarray/raster_writer.py:132: UserWarning: The nodata value (3.402823466e+38) has been automatically changed to (3.4028234663852886e+38) to match the dtype of the data.\n",
      "  warnings.warn(\n"
     ]
    },
    {
     "name": "stdout",
     "output_type": "stream",
     "text": [
      "8Month: \n",
      " Processing file: 7  MOD16A2GF.006_PET_500m_doy2010209_aid0001.tif done!\n",
      "\n"
     ]
    },
    {
     "name": "stderr",
     "output_type": "stream",
     "text": [
      "/home/zyzh0/anaconda3/envs/gis/lib/python3.9/site-packages/rioxarray/raster_writer.py:132: UserWarning: The nodata value (3.402823466e+38) has been automatically changed to (3.4028234663852886e+38) to match the dtype of the data.\n",
      "  warnings.warn(\n"
     ]
    },
    {
     "name": "stdout",
     "output_type": "stream",
     "text": [
      "Processing month:  Processing file: 8 \n",
      "MOD16A2GF.006_PET_500m_doy2009225_aid0001.tifProcessing file: \n",
      " MOD16A2GF.006_PET_500m_doy2000209_aid0001.tif\n",
      "Processing file:  MOD16A2GF.006_PET_500m_doy2014217_aid0001.tif\n",
      "Month:  7  done!Processing file: \n",
      " Processing month: Processing file: MOD16A2GF.006_PET_500m_doy2009233_aid0001.tif Processing file:  \n",
      "8 MOD16A2GF.006_PET_500m_doy2010217_aid0001.tif\n",
      "MOD16A2GF.006_PET_500m_doy2000217_aid0001.tif\n",
      "Processing file: \n",
      " MOD16A2GF.006_PET_500m_doy2007209_aid0001.tif\n",
      "Month: Processing file:  7  MOD16A2GF.006_PET_500m_doy2014225_aid0001.tif done!\n",
      "\n",
      "Processing month:  8Processing file:  \n",
      "Processing file: MOD16A2GF.006_PET_500m_doy2000225_aid0001.tifProcessing file: Processing file:  \n",
      " MOD16A2GF.006_PET_500m_doy2010225_aid0001.tif \n",
      "MOD16A2GF.006_PET_500m_doy2007217_aid0001.tifMOD16A2GF.006_PET_500m_doy2012209_aid0001.tif\n",
      "\n",
      "Processing file: Processing file: "
     ]
    },
    {
     "name": "stderr",
     "output_type": "stream",
     "text": [
      "/home/zyzh0/anaconda3/envs/gis/lib/python3.9/site-packages/rioxarray/raster_writer.py:132: UserWarning: The nodata value (3.402823466e+38) has been automatically changed to (3.4028234663852886e+38) to match the dtype of the data.\n",
      "  warnings.warn(\n"
     ]
    },
    {
     "name": "stdout",
     "output_type": "stream",
     "text": [
      " Processing file:   MOD16A2GF.006_PET_500m_doy2000233_aid0001.tifMOD16A2GF.006_PET_500m_doy2014233_aid0001.tifMOD16A2GF.006_PET_500m_doy2010233_aid0001.tif\n",
      "\n",
      "\n",
      "Processing file:  MOD16A2GF.006_PET_500m_doy2007225_aid0001.tifProcessing file: \n",
      " MOD16A2GF.006_PET_500m_doy2012217_aid0001.tif\n",
      "Month: Processing file:   7MOD16A2GF.006_PET_500m_doy2007233_aid0001.tifProcessing file:  \n",
      "  done!MOD16A2GF.006_PET_500m_doy2012225_aid0001.tif\n",
      "\n",
      "Processing month:  8\n",
      "Processing file:  MOD16A2GF.006_PET_500m_doy2011209_aid0001.tif\n",
      "Processing file:  MOD16A2GF.006_PET_500m_doy2012233_aid0001.tif\n",
      "Processing file:  MOD16A2GF.006_PET_500m_doy2011217_aid0001.tif\n",
      "Processing file:  MOD16A2GF.006_PET_500m_doy2011225_aid0001.tif\n",
      "Processing file:  MOD16A2GF.006_PET_500m_doy2011233_aid0001.tif\n"
     ]
    },
    {
     "name": "stderr",
     "output_type": "stream",
     "text": [
      "/home/zyzh0/anaconda3/envs/gis/lib/python3.9/site-packages/rioxarray/raster_writer.py:132: UserWarning: The nodata value (3.402823466e+38) has been automatically changed to (3.4028234663852886e+38) to match the dtype of the data.\n",
      "  warnings.warn(\n"
     ]
    },
    {
     "name": "stdout",
     "output_type": "stream",
     "text": [
      "Month:  7  done!\n",
      "Processing month:  8\n",
      "Processing file:  MOD16A2GF.006_PET_500m_doy2001209_aid0001.tif\n",
      "Processing file:  MOD16A2GF.006_PET_500m_doy2001217_aid0001.tif\n",
      "Processing file:  MOD16A2GF.006_PET_500m_doy2001225_aid0001.tif\n",
      "Processing file:  MOD16A2GF.006_PET_500m_doy2001233_aid0001.tif\n"
     ]
    },
    {
     "name": "stderr",
     "output_type": "stream",
     "text": [
      "/home/zyzh0/anaconda3/envs/gis/lib/python3.9/site-packages/rioxarray/raster_writer.py:132: UserWarning: The nodata value (3.402823466e+38) has been automatically changed to (3.4028234663852886e+38) to match the dtype of the data.\n",
      "  warnings.warn(\n"
     ]
    },
    {
     "name": "stdout",
     "output_type": "stream",
     "text": [
      "Month:  8  done!\n",
      "Processing month:  9\n",
      "Processing file:  MOD16A2GF.006_PET_500m_doy2003241_aid0001.tif\n",
      "Processing file:  MOD16A2GF.006_PET_500m_doy2003249_aid0001.tif\n",
      "Processing file:  MOD16A2GF.006_PET_500m_doy2003257_aid0001.tif\n",
      "Processing file:  MOD16A2GF.006_PET_500m_doy2003265_aid0001.tif\n"
     ]
    },
    {
     "name": "stderr",
     "output_type": "stream",
     "text": [
      "/home/zyzh0/anaconda3/envs/gis/lib/python3.9/site-packages/rioxarray/raster_writer.py:132: UserWarning: The nodata value (3.402823466e+38) has been automatically changed to (3.4028234663852886e+38) to match the dtype of the data.\n",
      "  warnings.warn(\n"
     ]
    },
    {
     "name": "stdout",
     "output_type": "stream",
     "text": [
      "Month:  "
     ]
    },
    {
     "name": "stderr",
     "output_type": "stream",
     "text": [
      "/home/zyzh0/anaconda3/envs/gis/lib/python3.9/site-packages/rioxarray/raster_writer.py:132: UserWarning: The nodata value (3.402823466e+38) has been automatically changed to (3.4028234663852886e+38) to match the dtype of the data.\n",
      "  warnings.warn(\n"
     ]
    },
    {
     "name": "stdout",
     "output_type": "stream",
     "text": [
      "8  done!\n",
      "Processing month:  9\n",
      "Processing file:  "
     ]
    },
    {
     "name": "stderr",
     "output_type": "stream",
     "text": [
      "/home/zyzh0/anaconda3/envs/gis/lib/python3.9/site-packages/rioxarray/raster_writer.py:132: UserWarning: The nodata value (3.402823466e+38) has been automatically changed to (3.4028234663852886e+38) to match the dtype of the data.\n",
      "  warnings.warn(\n"
     ]
    },
    {
     "name": "stdout",
     "output_type": "stream",
     "text": [
      "MOD16A2GF.006_PET_500m_doy2006241_aid0001.tif\n",
      "Month: Processing file:   8MOD16A2GF.006_PET_500m_doy2006249_aid0001.tif  done!\n",
      "\n",
      "Processing month:  9Month: \n",
      " Processing file: 8  MOD16A2GF.006_PET_500m_doy2005241_aid0001.tif done!\n",
      "\n",
      "Processing month:  9\n",
      "Processing file:  MOD16A2GF.006_PET_500m_doy2013241_aid0001.tif\n",
      "Processing file:  MOD16A2GF.006_PET_500m_doy2006257_aid0001.tif\n",
      "Processing file:  MOD16A2GF.006_PET_500m_doy2005249_aid0001.tif\n"
     ]
    },
    {
     "name": "stderr",
     "output_type": "stream",
     "text": [
      "/home/zyzh0/anaconda3/envs/gis/lib/python3.9/site-packages/rioxarray/raster_writer.py:132: UserWarning: The nodata value (3.402823466e+38) has been automatically changed to (3.4028234663852886e+38) to match the dtype of the data.\n",
      "  warnings.warn(\n"
     ]
    },
    {
     "name": "stdout",
     "output_type": "stream",
     "text": [
      "Processing file:  MOD16A2GF.006_PET_500m_doy2013249_aid0001.tifProcessing file: \n",
      " MOD16A2GF.006_PET_500m_doy2006265_aid0001.tif\n"
     ]
    },
    {
     "name": "stderr",
     "output_type": "stream",
     "text": [
      "/home/zyzh0/anaconda3/envs/gis/lib/python3.9/site-packages/rioxarray/raster_writer.py:132: UserWarning: The nodata value (3.402823466e+38) has been automatically changed to (3.4028234663852886e+38) to match the dtype of the data.\n",
      "  warnings.warn(\n"
     ]
    },
    {
     "name": "stdout",
     "output_type": "stream",
     "text": [
      "Processing file:  Processing file: MOD16A2GF.006_PET_500m_doy2013257_aid0001.tif \n",
      "MOD16A2GF.006_PET_500m_doy2005257_aid0001.tifMonth: \n",
      " 8  done!\n",
      "Processing month:  9\n",
      "Processing file:  Month: MOD16A2GF.006_PET_500m_doy2015241_aid0001.tif \n",
      "8 Processing file: Processing file:  done! \n",
      " MOD16A2GF.006_PET_500m_doy2013265_aid0001.tifProcessing month: MOD16A2GF.006_PET_500m_doy2005265_aid0001.tif\n",
      " \n",
      "9\n",
      "Processing file:  MOD16A2GF.006_PET_500m_doy2008241_aid0001.tif\n",
      "Processing file:  MOD16A2GF.006_PET_500m_doy2015249_aid0001.tif\n",
      "Processing file:  MOD16A2GF.006_PET_500m_doy2008249_aid0001.tif\n",
      "Processing file:  MOD16A2GF.006_PET_500m_doy2015257_aid0001.tif\n",
      "Processing file:  MOD16A2GF.006_PET_500m_doy2008257_aid0001.tif\n",
      "Processing file:  MOD16A2GF.006_PET_500m_doy2015265_aid0001.tif\n"
     ]
    },
    {
     "name": "stderr",
     "output_type": "stream",
     "text": [
      "/home/zyzh0/anaconda3/envs/gis/lib/python3.9/site-packages/rioxarray/raster_writer.py:132: UserWarning: The nodata value (3.402823466e+38) has been automatically changed to (3.4028234663852886e+38) to match the dtype of the data.\n",
      "  warnings.warn(\n"
     ]
    },
    {
     "name": "stdout",
     "output_type": "stream",
     "text": [
      "Processing file:  MOD16A2GF.006_PET_500m_doy2008265_aid0001.tif\n",
      "Month:  8  done!\n",
      "Processing month:  9\n"
     ]
    },
    {
     "name": "stderr",
     "output_type": "stream",
     "text": [
      "/home/zyzh0/anaconda3/envs/gis/lib/python3.9/site-packages/rioxarray/raster_writer.py:132: UserWarning: The nodata value (3.402823466e+38) has been automatically changed to (3.4028234663852886e+38) to match the dtype of the data.\n",
      "  warnings.warn(\n"
     ]
    },
    {
     "name": "stdout",
     "output_type": "stream",
     "text": [
      "Processing file:  MOD16A2GF.006_PET_500m_doy2002241_aid0001.tif\n"
     ]
    },
    {
     "name": "stderr",
     "output_type": "stream",
     "text": [
      "/home/zyzh0/anaconda3/envs/gis/lib/python3.9/site-packages/rioxarray/raster_writer.py:132: UserWarning: The nodata value (3.402823466e+38) has been automatically changed to (3.4028234663852886e+38) to match the dtype of the data.\n",
      "  warnings.warn(\n"
     ]
    },
    {
     "name": "stdout",
     "output_type": "stream",
     "text": [
      "Month:  8  done!\n",
      "Processing month:  Processing file: 9 \n",
      "MOD16A2GF.006_PET_500m_doy2002249_aid0001.tif\n",
      "Processing file:  MOD16A2GF.006_PET_500m_doy2009241_aid0001.tif\n"
     ]
    },
    {
     "name": "stderr",
     "output_type": "stream",
     "text": [
      "/home/zyzh0/anaconda3/envs/gis/lib/python3.9/site-packages/rioxarray/raster_writer.py:132: UserWarning: The nodata value (3.402823466e+38) has been automatically changed to (3.4028234663852886e+38) to match the dtype of the data.\n",
      "  warnings.warn(\n"
     ]
    },
    {
     "name": "stdout",
     "output_type": "stream",
     "text": [
      "Month:  8  done!\n",
      "Processing month:  Processing file: 9 \n",
      "MOD16A2GF.006_PET_500m_doy2002257_aid0001.tif"
     ]
    },
    {
     "name": "stderr",
     "output_type": "stream",
     "text": [
      "/home/zyzh0/anaconda3/envs/gis/lib/python3.9/site-packages/rioxarray/raster_writer.py:132: UserWarning: The nodata value (3.402823466e+38) has been automatically changed to (3.4028234663852886e+38) to match the dtype of the data.\n",
      "  warnings.warn(\n"
     ]
    },
    {
     "name": "stdout",
     "output_type": "stream",
     "text": [
      "Processing file: \n",
      " MOD16A2GF.006_PET_500m_doy2010241_aid0001.tif\n",
      "Processing file:  MOD16A2GF.006_PET_500m_doy2009249_aid0001.tif\n",
      "Month:  8 Processing file:  done!\n",
      " Processing month: MOD16A2GF.006_PET_500m_doy2010249_aid0001.tif \n",
      "Processing file: 9 \n",
      "Month: MOD16A2GF.006_PET_500m_doy2002265_aid0001.tifProcessing file:  \n",
      " 8MOD16A2GF.006_PET_500m_doy2004241_aid0001.tif \n",
      " done!\n",
      "Processing month:  9\n",
      "Processing file: Processing file:   MOD16A2GF.006_PET_500m_doy2009257_aid0001.tifProcessing file: MOD16A2GF.006_PET_500m_doy2007241_aid0001.tif \n",
      "\n",
      "MOD16A2GF.006_PET_500m_doy2010257_aid0001.tif\n",
      "Processing file:  MOD16A2GF.006_PET_500m_doy2004249_aid0001.tif\n",
      "Processing file: Processing file:   MOD16A2GF.006_PET_500m_doy2007249_aid0001.tifMOD16A2GF.006_PET_500m_doy2010265_aid0001.tif\n",
      "\n",
      "Processing file:  Processing file:  MOD16A2GF.006_PET_500m_doy2009265_aid0001.tifMOD16A2GF.006_PET_500m_doy2004257_aid0001.tif\n",
      "\n"
     ]
    },
    {
     "name": "stderr",
     "output_type": "stream",
     "text": [
      "/home/zyzh0/anaconda3/envs/gis/lib/python3.9/site-packages/rioxarray/raster_writer.py:132: UserWarning: The nodata value (3.402823466e+38) has been automatically changed to (3.4028234663852886e+38) to match the dtype of the data.\n",
      "  warnings.warn(\n"
     ]
    },
    {
     "name": "stdout",
     "output_type": "stream",
     "text": [
      "Processing file:  MOD16A2GF.006_PET_500m_doy2007257_aid0001.tif\n"
     ]
    },
    {
     "name": "stderr",
     "output_type": "stream",
     "text": [
      "/home/zyzh0/anaconda3/envs/gis/lib/python3.9/site-packages/rioxarray/raster_writer.py:132: UserWarning: The nodata value (3.402823466e+38) has been automatically changed to (3.4028234663852886e+38) to match the dtype of the data.\n",
      "  warnings.warn(\n"
     ]
    },
    {
     "name": "stdout",
     "output_type": "stream",
     "text": [
      "Processing file:  MOD16A2GF.006_PET_500m_doy2004265_aid0001.tif\n",
      "Processing file:  Month: MOD16A2GF.006_PET_500m_doy2007265_aid0001.tif \n",
      "8  done!\n",
      "Processing month:  9\n",
      "Processing file:  MOD16A2GF.006_PET_500m_doy2014241_aid0001.tif\n",
      "Month:  8  done!\n",
      "Processing month:  9\n",
      "Processing file:  MOD16A2GF.006_PET_500m_doy2000241_aid0001.tif\n",
      "Processing file: "
     ]
    },
    {
     "name": "stderr",
     "output_type": "stream",
     "text": [
      "/home/zyzh0/anaconda3/envs/gis/lib/python3.9/site-packages/rioxarray/raster_writer.py:132: UserWarning: The nodata value (3.402823466e+38) has been automatically changed to (3.4028234663852886e+38) to match the dtype of the data.\n",
      "  warnings.warn(\n"
     ]
    },
    {
     "name": "stdout",
     "output_type": "stream",
     "text": [
      " MOD16A2GF.006_PET_500m_doy2014249_aid0001.tif\n",
      "Processing file:  MOD16A2GF.006_PET_500m_doy2000249_aid0001.tif\n",
      "Processing file:  MOD16A2GF.006_PET_500m_doy2014257_aid0001.tif\n"
     ]
    },
    {
     "name": "stderr",
     "output_type": "stream",
     "text": [
      "/home/zyzh0/anaconda3/envs/gis/lib/python3.9/site-packages/rioxarray/raster_writer.py:132: UserWarning: The nodata value (3.402823466e+38) has been automatically changed to (3.4028234663852886e+38) to match the dtype of the data.\n",
      "  warnings.warn(\n"
     ]
    },
    {
     "name": "stdout",
     "output_type": "stream",
     "text": [
      "Month:  8 Processing file:  done! \n",
      "MOD16A2GF.006_PET_500m_doy2000257_aid0001.tifProcessing month: \n",
      " Processing file: 9 \n",
      "MOD16A2GF.006_PET_500m_doy2014265_aid0001.tif\n",
      "Processing file:  MOD16A2GF.006_PET_500m_doy2012241_aid0001.tif\n",
      "Processing file:  MOD16A2GF.006_PET_500m_doy2000265_aid0001.tif\n",
      "Month:  8 Processing file:  done! \n",
      "MOD16A2GF.006_PET_500m_doy2012249_aid0001.tifProcessing month: \n",
      " 9\n",
      "Processing file:  MOD16A2GF.006_PET_500m_doy2011241_aid0001.tif\n",
      "Processing file:  MOD16A2GF.006_PET_500m_doy2012257_aid0001.tif\n",
      "Processing file:  MOD16A2GF.006_PET_500m_doy2011249_aid0001.tif\n",
      "Processing file:  MOD16A2GF.006_PET_500m_doy2012265_aid0001.tif\n",
      "Processing file:  MOD16A2GF.006_PET_500m_doy2011257_aid0001.tif\n",
      "Processing file:  MOD16A2GF.006_PET_500m_doy2011265_aid0001.tif\n"
     ]
    },
    {
     "name": "stderr",
     "output_type": "stream",
     "text": [
      "/home/zyzh0/anaconda3/envs/gis/lib/python3.9/site-packages/rioxarray/raster_writer.py:132: UserWarning: The nodata value (3.402823466e+38) has been automatically changed to (3.4028234663852886e+38) to match the dtype of the data.\n",
      "  warnings.warn(\n"
     ]
    },
    {
     "name": "stdout",
     "output_type": "stream",
     "text": [
      "Month:  8  done!\n",
      "Processing month:  9\n",
      "Processing file:  MOD16A2GF.006_PET_500m_doy2001241_aid0001.tif\n",
      "Processing file:  MOD16A2GF.006_PET_500m_doy2001249_aid0001.tif\n",
      "Processing file:  MOD16A2GF.006_PET_500m_doy2001257_aid0001.tif\n",
      "Processing file:  MOD16A2GF.006_PET_500m_doy2001265_aid0001.tif\n"
     ]
    },
    {
     "name": "stderr",
     "output_type": "stream",
     "text": [
      "/home/zyzh0/anaconda3/envs/gis/lib/python3.9/site-packages/rioxarray/raster_writer.py:132: UserWarning: The nodata value (3.402823466e+38) has been automatically changed to (3.4028234663852886e+38) to match the dtype of the data.\n",
      "  warnings.warn(\n"
     ]
    },
    {
     "name": "stdout",
     "output_type": "stream",
     "text": [
      "Month:  9  done!\n"
     ]
    },
    {
     "name": "stderr",
     "output_type": "stream",
     "text": [
      "/home/zyzh0/anaconda3/envs/gis/lib/python3.9/site-packages/rioxarray/raster_writer.py:132: UserWarning: The nodata value (3.402823466e+38) has been automatically changed to (3.4028234663852886e+38) to match the dtype of the data.\n",
      "  warnings.warn(\n"
     ]
    },
    {
     "name": "stdout",
     "output_type": "stream",
     "text": [
      "Processing month:  10\n",
      "Processing file:  MOD16A2GF.006_PET_500m_doy2003273_aid0001.tif\n",
      "Month:  9  done!\n",
      "Processing month: Processing file:   10MOD16A2GF.006_PET_500m_doy2003281_aid0001.tif\n",
      "\n",
      "Processing file:  MOD16A2GF.006_PET_500m_doy2006273_aid0001.tif\n",
      "Processing file:  MOD16A2GF.006_PET_500m_doy2003289_aid0001.tif"
     ]
    },
    {
     "name": "stderr",
     "output_type": "stream",
     "text": [
      "/home/zyzh0/anaconda3/envs/gis/lib/python3.9/site-packages/rioxarray/raster_writer.py:132: UserWarning: The nodata value (3.402823466e+38) has been automatically changed to (3.4028234663852886e+38) to match the dtype of the data.\n",
      "  warnings.warn(\n"
     ]
    },
    {
     "name": "stdout",
     "output_type": "stream",
     "text": [
      "\n",
      "Processing file:  MOD16A2GF.006_PET_500m_doy2006281_aid0001.tif\n",
      "Processing file:  MOD16A2GF.006_PET_500m_doy2003297_aid0001.tif\n",
      "Month:  9  done!\n",
      "Processing file: Processing month:   MOD16A2GF.006_PET_500m_doy2006289_aid0001.tif10\n",
      "\n",
      "Processing file:  MOD16A2GF.006_PET_500m_doy2013273_aid0001.tif\n",
      "Processing file:  MOD16A2GF.006_PET_500m_doy2006297_aid0001.tif\n"
     ]
    },
    {
     "name": "stderr",
     "output_type": "stream",
     "text": [
      "/home/zyzh0/anaconda3/envs/gis/lib/python3.9/site-packages/rioxarray/raster_writer.py:132: UserWarning: The nodata value (3.402823466e+38) has been automatically changed to (3.4028234663852886e+38) to match the dtype of the data.\n",
      "  warnings.warn(\n"
     ]
    },
    {
     "name": "stdout",
     "output_type": "stream",
     "text": [
      "Processing file:  "
     ]
    },
    {
     "name": "stderr",
     "output_type": "stream",
     "text": [
      "/home/zyzh0/anaconda3/envs/gis/lib/python3.9/site-packages/rioxarray/raster_writer.py:132: UserWarning: The nodata value (3.402823466e+38) has been automatically changed to (3.4028234663852886e+38) to match the dtype of the data.\n",
      "  warnings.warn(\n"
     ]
    },
    {
     "name": "stdout",
     "output_type": "stream",
     "text": [
      "MOD16A2GF.006_PET_500m_doy2013281_aid0001.tif\n",
      "Month: "
     ]
    },
    {
     "name": "stderr",
     "output_type": "stream",
     "text": [
      "/home/zyzh0/anaconda3/envs/gis/lib/python3.9/site-packages/rioxarray/raster_writer.py:132: UserWarning: The nodata value (3.402823466e+38) has been automatically changed to (3.4028234663852886e+38) to match the dtype of the data.\n",
      "  warnings.warn(\n"
     ]
    },
    {
     "name": "stdout",
     "output_type": "stream",
     "text": [
      "Processing file:  Month:  9 MOD16A2GF.006_PET_500m_doy2013289_aid0001.tif 9 done!\n",
      " \n",
      " done!Processing month: \n",
      " Processing month: 10 \n",
      "10Processing file: \n",
      " Processing file: MOD16A2GF.006_PET_500m_doy2015273_aid0001.tif \n",
      "MOD16A2GF.006_PET_500m_doy2005273_aid0001.tif\n",
      "Month:  Processing file: 9  MOD16A2GF.006_PET_500m_doy2013297_aid0001.tif done!\n",
      "\n",
      "Processing file: Processing month:   MOD16A2GF.006_PET_500m_doy2015281_aid0001.tif10\n",
      "\n",
      "Processing file: Processing file:   MOD16A2GF.006_PET_500m_doy2008273_aid0001.tifMOD16A2GF.006_PET_500m_doy2005281_aid0001.tif\n",
      "\n",
      "Processing file:  MOD16A2GF.006_PET_500m_doy2015289_aid0001.tif\n",
      "Processing file:  Processing file: MOD16A2GF.006_PET_500m_doy2008281_aid0001.tif \n",
      "MOD16A2GF.006_PET_500m_doy2005289_aid0001.tif\n",
      "Processing file:  MOD16A2GF.006_PET_500m_doy2015297_aid0001.tif\n",
      "Processing file:  Processing file:  MOD16A2GF.006_PET_500m_doy2008289_aid0001.tifMOD16A2GF.006_PET_500m_doy2005297_aid0001.tif\n",
      "\n",
      "Processing file:  MOD16A2GF.006_PET_500m_doy2008297_aid0001.tif\n"
     ]
    },
    {
     "name": "stderr",
     "output_type": "stream",
     "text": [
      "/home/zyzh0/anaconda3/envs/gis/lib/python3.9/site-packages/rioxarray/raster_writer.py:132: UserWarning: The nodata value (3.402823466e+38) has been automatically changed to (3.4028234663852886e+38) to match the dtype of the data.\n",
      "  warnings.warn(\n"
     ]
    },
    {
     "name": "stdout",
     "output_type": "stream",
     "text": [
      "Month:  9  done!\n",
      "Processing month:  10\n",
      "Processing file:  MOD16A2GF.006_PET_500m_doy2002273_aid0001.tif\n"
     ]
    },
    {
     "name": "stderr",
     "output_type": "stream",
     "text": [
      "/home/zyzh0/anaconda3/envs/gis/lib/python3.9/site-packages/rioxarray/raster_writer.py:132: UserWarning: The nodata value (3.402823466e+38) has been automatically changed to (3.4028234663852886e+38) to match the dtype of the data.\n",
      "  warnings.warn(\n",
      "/home/zyzh0/anaconda3/envs/gis/lib/python3.9/site-packages/rioxarray/raster_writer.py:132: UserWarning: The nodata value (3.402823466e+38) has been automatically changed to (3.4028234663852886e+38) to match the dtype of the data.\n",
      "  warnings.warn(\n"
     ]
    },
    {
     "name": "stdout",
     "output_type": "stream",
     "text": [
      "Processing file: "
     ]
    },
    {
     "name": "stderr",
     "output_type": "stream",
     "text": [
      "/home/zyzh0/anaconda3/envs/gis/lib/python3.9/site-packages/rioxarray/raster_writer.py:132: UserWarning: The nodata value (3.402823466e+38) has been automatically changed to (3.4028234663852886e+38) to match the dtype of the data.\n",
      "  warnings.warn(\n"
     ]
    },
    {
     "name": "stdout",
     "output_type": "stream",
     "text": [
      " MOD16A2GF.006_PET_500m_doy2002281_aid0001.tif\n"
     ]
    },
    {
     "name": "stderr",
     "output_type": "stream",
     "text": [
      "/home/zyzh0/anaconda3/envs/gis/lib/python3.9/site-packages/rioxarray/raster_writer.py:132: UserWarning: The nodata value (3.402823466e+38) has been automatically changed to (3.4028234663852886e+38) to match the dtype of the data.\n",
      "  warnings.warn(\n"
     ]
    },
    {
     "name": "stdout",
     "output_type": "stream",
     "text": [
      "Processing file: Month:   MOD16A2GF.006_PET_500m_doy2002289_aid0001.tif9\n",
      "  done!\n",
      "Processing month:  Month: 10 Month: \n",
      "9 Processing file:  9  done! MOD16A2GF.006_PET_500m_doy2004273_aid0001.tif\n",
      " done!\n",
      "Processing month: \n",
      " Month: Processing month:  10 9\n",
      "10Processing file:  \n",
      "Processing file:  done!  Processing file: \n",
      "MOD16A2GF.006_PET_500m_doy2002297_aid0001.tif MOD16A2GF.006_PET_500m_doy2010273_aid0001.tif\n",
      "Processing month: MOD16A2GF.006_PET_500m_doy2007273_aid0001.tif\n",
      " \n",
      "10\n",
      "Processing file:  MOD16A2GF.006_PET_500m_doy2009273_aid0001.tif\n",
      "Processing file:  MOD16A2GF.006_PET_500m_doy2004281_aid0001.tif\n"
     ]
    },
    {
     "name": "stderr",
     "output_type": "stream",
     "text": [
      "/home/zyzh0/anaconda3/envs/gis/lib/python3.9/site-packages/rioxarray/raster_writer.py:132: UserWarning: The nodata value (3.402823466e+38) has been automatically changed to (3.4028234663852886e+38) to match the dtype of the data.\n",
      "  warnings.warn(\n"
     ]
    },
    {
     "name": "stdout",
     "output_type": "stream",
     "text": [
      "Processing file:  MOD16A2GF.006_PET_500m_doy2010281_aid0001.tif\n",
      "Processing file: Processing file:   MOD16A2GF.006_PET_500m_doy2007281_aid0001.tifProcessing file: MOD16A2GF.006_PET_500m_doy2009281_aid0001.tif\n",
      " \n",
      "MOD16A2GF.006_PET_500m_doy2004289_aid0001.tif\n",
      "Processing file:  MOD16A2GF.006_PET_500m_doy2010289_aid0001.tifMonth: \n",
      " 9  done!\n",
      "Processing month:  Processing file: 10Processing file: "
     ]
    },
    {
     "name": "stderr",
     "output_type": "stream",
     "text": [
      "/home/zyzh0/anaconda3/envs/gis/lib/python3.9/site-packages/rioxarray/raster_writer.py:132: UserWarning: The nodata value (3.402823466e+38) has been automatically changed to (3.4028234663852886e+38) to match the dtype of the data.\n",
      "  warnings.warn(\n"
     ]
    },
    {
     "name": "stdout",
     "output_type": "stream",
     "text": [
      " \n",
      " MOD16A2GF.006_PET_500m_doy2009289_aid0001.tifProcessing file: MOD16A2GF.006_PET_500m_doy2004297_aid0001.tif\n",
      " \n",
      "MOD16A2GF.006_PET_500m_doy2000273_aid0001.tifProcessing file: \n",
      " Processing file: MOD16A2GF.006_PET_500m_doy2007289_aid0001.tif \n",
      "MOD16A2GF.006_PET_500m_doy2010297_aid0001.tif\n",
      "Processing file:  MOD16A2GF.006_PET_500m_doy2009297_aid0001.tif\n",
      "Processing file:  MOD16A2GF.006_PET_500m_doy2000281_aid0001.tif\n",
      "Processing file:  MOD16A2GF.006_PET_500m_doy2007297_aid0001.tif\n",
      "Month:  9  done!\n",
      "Processing month:  10Processing file: \n",
      " MOD16A2GF.006_PET_500m_doy2000289_aid0001.tifProcessing file: \n",
      " MOD16A2GF.006_PET_500m_doy2014273_aid0001.tif\n",
      "Processing file:  MOD16A2GF.006_PET_500m_doy2000297_aid0001.tif\n",
      "Processing file:  MOD16A2GF.006_PET_500m_doy2014281_aid0001.tif"
     ]
    },
    {
     "name": "stderr",
     "output_type": "stream",
     "text": [
      "/home/zyzh0/anaconda3/envs/gis/lib/python3.9/site-packages/rioxarray/raster_writer.py:132: UserWarning: The nodata value (3.402823466e+38) has been automatically changed to (3.4028234663852886e+38) to match the dtype of the data.\n",
      "  warnings.warn(\n"
     ]
    },
    {
     "name": "stdout",
     "output_type": "stream",
     "text": [
      "\n"
     ]
    },
    {
     "name": "stderr",
     "output_type": "stream",
     "text": [
      "/home/zyzh0/anaconda3/envs/gis/lib/python3.9/site-packages/rioxarray/raster_writer.py:132: UserWarning: The nodata value (3.402823466e+38) has been automatically changed to (3.4028234663852886e+38) to match the dtype of the data.\n",
      "  warnings.warn(\n"
     ]
    },
    {
     "name": "stdout",
     "output_type": "stream",
     "text": [
      "Processing file:  Month: MOD16A2GF.006_PET_500m_doy2014289_aid0001.tif \n",
      "9  done!\n",
      "Processing month:  10\n",
      "Processing file:  MOD16A2GF.006_PET_500m_doy2012273_aid0001.tif\n",
      "Month:  9  done!\n",
      "Processing month: Processing file:   10\n",
      "MOD16A2GF.006_PET_500m_doy2014297_aid0001.tifProcessing file: \n",
      " MOD16A2GF.006_PET_500m_doy2011273_aid0001.tif\n",
      "Processing file:  MOD16A2GF.006_PET_500m_doy2012281_aid0001.tif\n",
      "Processing file:  MOD16A2GF.006_PET_500m_doy2011281_aid0001.tif\n",
      "Processing file:  MOD16A2GF.006_PET_500m_doy2012289_aid0001.tif\n",
      "Processing file:  MOD16A2GF.006_PET_500m_doy2011289_aid0001.tif\n",
      "Processing file:  MOD16A2GF.006_PET_500m_doy2012297_aid0001.tif\n",
      "Processing file:  MOD16A2GF.006_PET_500m_doy2011297_aid0001.tif\n"
     ]
    },
    {
     "name": "stderr",
     "output_type": "stream",
     "text": [
      "/home/zyzh0/anaconda3/envs/gis/lib/python3.9/site-packages/rioxarray/raster_writer.py:132: UserWarning: The nodata value (3.402823466e+38) has been automatically changed to (3.4028234663852886e+38) to match the dtype of the data.\n",
      "  warnings.warn(\n"
     ]
    },
    {
     "name": "stdout",
     "output_type": "stream",
     "text": [
      "Month:  9  done!\n",
      "Processing month:  10\n",
      "Processing file:  MOD16A2GF.006_PET_500m_doy2001273_aid0001.tif\n",
      "Processing file:  MOD16A2GF.006_PET_500m_doy2001281_aid0001.tif\n",
      "Processing file:  MOD16A2GF.006_PET_500m_doy2001289_aid0001.tif\n",
      "Processing file:  MOD16A2GF.006_PET_500m_doy2001297_aid0001.tif\n"
     ]
    },
    {
     "name": "stderr",
     "output_type": "stream",
     "text": [
      "/home/zyzh0/anaconda3/envs/gis/lib/python3.9/site-packages/rioxarray/raster_writer.py:132: UserWarning: The nodata value (3.402823466e+38) has been automatically changed to (3.4028234663852886e+38) to match the dtype of the data.\n",
      "  warnings.warn(\n"
     ]
    },
    {
     "name": "stdout",
     "output_type": "stream",
     "text": [
      "Month:  10  done!\n",
      "Processing month:  11\n",
      "Processing file:  MOD16A2GF.006_PET_500m_doy2003305_aid0001.tif\n",
      "Processing file:  MOD16A2GF.006_PET_500m_doy2003313_aid0001.tif\n",
      "Processing file:  MOD16A2GF.006_PET_500m_doy2003321_aid0001.tif\n",
      "Processing file:  MOD16A2GF.006_PET_500m_doy2003329_aid0001.tif\n"
     ]
    },
    {
     "name": "stderr",
     "output_type": "stream",
     "text": [
      "/home/zyzh0/anaconda3/envs/gis/lib/python3.9/site-packages/rioxarray/raster_writer.py:132: UserWarning: The nodata value (3.402823466e+38) has been automatically changed to (3.4028234663852886e+38) to match the dtype of the data.\n",
      "  warnings.warn(\n",
      "/home/zyzh0/anaconda3/envs/gis/lib/python3.9/site-packages/rioxarray/raster_writer.py:132: UserWarning: The nodata value (3.402823466e+38) has been automatically changed to (3.4028234663852886e+38) to match the dtype of the data.\n",
      "  warnings.warn(\n"
     ]
    },
    {
     "name": "stdout",
     "output_type": "stream",
     "text": [
      "Month:  10 Month:  done! \n",
      "10Processing month:    done!11\n",
      "\n",
      "Processing month: Processing file:  11 \n",
      "MOD16A2GF.006_PET_500m_doy2013305_aid0001.tifProcessing file: \n",
      " MOD16A2GF.006_PET_500m_doy2015305_aid0001.tif\n"
     ]
    },
    {
     "name": "stderr",
     "output_type": "stream",
     "text": [
      "/home/zyzh0/anaconda3/envs/gis/lib/python3.9/site-packages/rioxarray/raster_writer.py:132: UserWarning: The nodata value (3.402823466e+38) has been automatically changed to (3.4028234663852886e+38) to match the dtype of the data.\n",
      "  warnings.warn(\n"
     ]
    },
    {
     "name": "stdout",
     "output_type": "stream",
     "text": [
      "Processing file:  MOD16A2GF.006_PET_500m_doy2015313_aid0001.tif\n",
      "Processing file:  MOD16A2GF.006_PET_500m_doy2013313_aid0001.tif\n",
      "Month:  10  done!\n",
      "Processing month:  11Processing file: \n",
      " Processing file: MOD16A2GF.006_PET_500m_doy2015321_aid0001.tif \n",
      "MOD16A2GF.006_PET_500m_doy2008305_aid0001.tif\n"
     ]
    },
    {
     "name": "stderr",
     "output_type": "stream",
     "text": [
      "/home/zyzh0/anaconda3/envs/gis/lib/python3.9/site-packages/rioxarray/raster_writer.py:132: UserWarning: The nodata value (3.402823466e+38) has been automatically changed to (3.4028234663852886e+38) to match the dtype of the data.\n",
      "  warnings.warn(\n"
     ]
    },
    {
     "name": "stdout",
     "output_type": "stream",
     "text": [
      "Processing file:  "
     ]
    },
    {
     "name": "stderr",
     "output_type": "stream",
     "text": [
      "/home/zyzh0/anaconda3/envs/gis/lib/python3.9/site-packages/rioxarray/raster_writer.py:132: UserWarning: The nodata value (3.402823466e+38) has been automatically changed to (3.4028234663852886e+38) to match the dtype of the data.\n",
      "  warnings.warn(\n"
     ]
    },
    {
     "name": "stdout",
     "output_type": "stream",
     "text": [
      "MOD16A2GF.006_PET_500m_doy2013321_aid0001.tif\n",
      "Processing file: Processing file:   MOD16A2GF.006_PET_500m_doy2015329_aid0001.tifMOD16A2GF.006_PET_500m_doy2008313_aid0001.tif\n",
      "\n",
      "Processing file:  Month: MOD16A2GF.006_PET_500m_doy2013329_aid0001.tifProcessing file:   \n",
      "10MOD16A2GF.006_PET_500m_doy2008321_aid0001.tif Month: \n",
      " done! \n",
      "10Processing month:   done! \n",
      "11Processing month: \n",
      " 11Processing file: \n",
      " MOD16A2GF.006_PET_500m_doy2005305_aid0001.tifProcessing file:  \n",
      "MOD16A2GF.006_PET_500m_doy2006305_aid0001.tif\n",
      "Processing file:  MOD16A2GF.006_PET_500m_doy2008329_aid0001.tif\n",
      "Processing file:  MOD16A2GF.006_PET_500m_doy2006313_aid0001.tif\n",
      "Processing file:  MOD16A2GF.006_PET_500m_doy2005313_aid0001.tif\n",
      "Processing file:  MOD16A2GF.006_PET_500m_doy2006321_aid0001.tif\n",
      "Processing file:  MOD16A2GF.006_PET_500m_doy2005321_aid0001.tif\n",
      "Processing file:  MOD16A2GF.006_PET_500m_doy2006329_aid0001.tif\n",
      "Processing file:  MOD16A2GF.006_PET_500m_doy2005329_aid0001.tif\n"
     ]
    },
    {
     "name": "stderr",
     "output_type": "stream",
     "text": [
      "/home/zyzh0/anaconda3/envs/gis/lib/python3.9/site-packages/rioxarray/raster_writer.py:132: UserWarning: The nodata value (3.402823466e+38) has been automatically changed to (3.4028234663852886e+38) to match the dtype of the data.\n",
      "  warnings.warn(\n",
      "/home/zyzh0/anaconda3/envs/gis/lib/python3.9/site-packages/rioxarray/raster_writer.py:132: UserWarning: The nodata value (3.402823466e+38) has been automatically changed to (3.4028234663852886e+38) to match the dtype of the data.\n",
      "  warnings.warn(\n",
      "/home/zyzh0/anaconda3/envs/gis/lib/python3.9/site-packages/rioxarray/raster_writer.py:132: UserWarning: The nodata value (3.402823466e+38) has been automatically changed to (3.4028234663852886e+38) to match the dtype of the data.\n",
      "  warnings.warn(\n"
     ]
    },
    {
     "name": "stdout",
     "output_type": "stream",
     "text": [
      "Month:  10Month:    done!10\n",
      " Processing month:  done! \n",
      "11Processing month: \n",
      " 11Processing file: \n",
      " MOD16A2GF.006_PET_500m_doy2007305_aid0001.tifProcessing file: \n",
      " MOD16A2GF.006_PET_500m_doy2000305_aid0001.tif\n",
      "Month:  10  done!\n",
      "Processing month: Processing file:   11MOD16A2GF.006_PET_500m_doy2007313_aid0001.tif"
     ]
    },
    {
     "name": "stderr",
     "output_type": "stream",
     "text": [
      "/home/zyzh0/anaconda3/envs/gis/lib/python3.9/site-packages/rioxarray/raster_writer.py:132: UserWarning: The nodata value (3.402823466e+38) has been automatically changed to (3.4028234663852886e+38) to match the dtype of the data.\n",
      "  warnings.warn(\n"
     ]
    },
    {
     "name": "stdout",
     "output_type": "stream",
     "text": [
      "\n",
      "Processing file: \n",
      " Processing file: MOD16A2GF.006_PET_500m_doy2000313_aid0001.tif \n",
      "MOD16A2GF.006_PET_500m_doy2010305_aid0001.tif\n",
      "Processing file:  MOD16A2GF.006_PET_500m_doy2000321_aid0001.tifProcessing file: \n",
      " MOD16A2GF.006_PET_500m_doy2010313_aid0001.tifProcessing file: \n",
      " MOD16A2GF.006_PET_500m_doy2007321_aid0001.tif\n",
      "Month:  10Processing file:    done!MOD16A2GF.006_PET_500m_doy2000329_aid0001.tif\n",
      "Processing file: \n",
      "Processing month:   MOD16A2GF.006_PET_500m_doy2010321_aid0001.tifProcessing file: 11\n",
      " \n",
      "MOD16A2GF.006_PET_500m_doy2007329_aid0001.tifProcessing file: \n",
      " MOD16A2GF.006_PET_500m_doy2009305_aid0001.tif\n",
      "Processing file:  MOD16A2GF.006_PET_500m_doy2010329_aid0001.tif"
     ]
    },
    {
     "name": "stderr",
     "output_type": "stream",
     "text": [
      "/home/zyzh0/anaconda3/envs/gis/lib/python3.9/site-packages/rioxarray/raster_writer.py:132: UserWarning: The nodata value (3.402823466e+38) has been automatically changed to (3.4028234663852886e+38) to match the dtype of the data.\n",
      "  warnings.warn(\n"
     ]
    },
    {
     "name": "stdout",
     "output_type": "stream",
     "text": [
      "\n"
     ]
    },
    {
     "name": "stderr",
     "output_type": "stream",
     "text": [
      "/home/zyzh0/anaconda3/envs/gis/lib/python3.9/site-packages/rioxarray/raster_writer.py:132: UserWarning: The nodata value (3.402823466e+38) has been automatically changed to (3.4028234663852886e+38) to match the dtype of the data.\n",
      "  warnings.warn(\n",
      "/home/zyzh0/anaconda3/envs/gis/lib/python3.9/site-packages/rioxarray/raster_writer.py:132: UserWarning: The nodata value (3.402823466e+38) has been automatically changed to (3.4028234663852886e+38) to match the dtype of the data.\n",
      "  warnings.warn(\n"
     ]
    },
    {
     "name": "stdout",
     "output_type": "stream",
     "text": [
      "Processing file:  MOD16A2GF.006_PET_500m_doy2009313_aid0001.tif"
     ]
    },
    {
     "name": "stderr",
     "output_type": "stream",
     "text": [
      "/home/zyzh0/anaconda3/envs/gis/lib/python3.9/site-packages/rioxarray/raster_writer.py:132: UserWarning: The nodata value (3.402823466e+38) has been automatically changed to (3.4028234663852886e+38) to match the dtype of the data.\n",
      "  warnings.warn(\n"
     ]
    },
    {
     "name": "stdout",
     "output_type": "stream",
     "text": [
      "\n",
      "Month:  10  done!\n",
      "Processing month: Month:   1110\n",
      " Processing file:  done!Month:  \n",
      "MOD16A2GF.006_PET_500m_doy2002305_aid0001.tif Processing month: \n",
      "10  Processing file: 11Month:  done!\n",
      "  \n",
      "MOD16A2GF.006_PET_500m_doy2009321_aid0001.tifProcessing file: 10Processing month:  \n",
      "  MOD16A2GF.006_PET_500m_doy2014305_aid0001.tif done!11\n",
      "\n",
      "\n",
      "Processing month: Processing file:   11MOD16A2GF.006_PET_500m_doy2004305_aid0001.tif\n",
      "\n",
      "Processing file:  MOD16A2GF.006_PET_500m_doy2012305_aid0001.tif\n",
      "Processing file:  MOD16A2GF.006_PET_500m_doy2002313_aid0001.tifProcessing file: \n",
      " MOD16A2GF.006_PET_500m_doy2014313_aid0001.tif\n",
      "Processing file:  MOD16A2GF.006_PET_500m_doy2009329_aid0001.tifProcessing file: \n",
      " MOD16A2GF.006_PET_500m_doy2012313_aid0001.tif\n",
      "Processing file:  Processing file: MOD16A2GF.006_PET_500m_doy2002321_aid0001.tif \n",
      "Processing file: MOD16A2GF.006_PET_500m_doy2014321_aid0001.tif\n",
      " MOD16A2GF.006_PET_500m_doy2004313_aid0001.tif\n",
      "Processing file:  MOD16A2GF.006_PET_500m_doy2012321_aid0001.tif\n"
     ]
    },
    {
     "name": "stderr",
     "output_type": "stream",
     "text": [
      "/home/zyzh0/anaconda3/envs/gis/lib/python3.9/site-packages/rioxarray/raster_writer.py:132: UserWarning: The nodata value (3.402823466e+38) has been automatically changed to (3.4028234663852886e+38) to match the dtype of the data.\n",
      "  warnings.warn(\n"
     ]
    },
    {
     "name": "stdout",
     "output_type": "stream",
     "text": [
      "Processing file: Processing file:   MOD16A2GF.006_PET_500m_doy2002329_aid0001.tifMOD16A2GF.006_PET_500m_doy2014329_aid0001.tif\n",
      "\n",
      "Processing file: Processing file:   MOD16A2GF.006_PET_500m_doy2012329_aid0001.tifMOD16A2GF.006_PET_500m_doy2004321_aid0001.tif\n",
      "\n",
      "Month:  10 Processing file:   done!\n",
      "MOD16A2GF.006_PET_500m_doy2004329_aid0001.tifProcessing month: \n",
      " 11\n",
      "Processing file:  MOD16A2GF.006_PET_500m_doy2011305_aid0001.tif\n",
      "Processing file:  MOD16A2GF.006_PET_500m_doy2011313_aid0001.tif\n"
     ]
    },
    {
     "name": "stderr",
     "output_type": "stream",
     "text": [
      "/home/zyzh0/anaconda3/envs/gis/lib/python3.9/site-packages/rioxarray/raster_writer.py:132: UserWarning: The nodata value (3.402823466e+38) has been automatically changed to (3.4028234663852886e+38) to match the dtype of the data.\n",
      "  warnings.warn(\n"
     ]
    },
    {
     "name": "stdout",
     "output_type": "stream",
     "text": [
      "Processing file:  MOD16A2GF.006_PET_500m_doy2011321_aid0001.tif\n",
      "Processing file: Month:   MOD16A2GF.006_PET_500m_doy2011329_aid0001.tif10\n",
      "  done!\n",
      "Processing month:  11\n",
      "Processing file:  MOD16A2GF.006_PET_500m_doy2001305_aid0001.tif\n",
      "Processing file:  MOD16A2GF.006_PET_500m_doy2001313_aid0001.tif\n",
      "Processing file:  MOD16A2GF.006_PET_500m_doy2001321_aid0001.tif\n",
      "Processing file:  MOD16A2GF.006_PET_500m_doy2001329_aid0001.tif\n"
     ]
    },
    {
     "name": "stderr",
     "output_type": "stream",
     "text": [
      "/home/zyzh0/anaconda3/envs/gis/lib/python3.9/site-packages/rioxarray/raster_writer.py:132: UserWarning: The nodata value (3.402823466e+38) has been automatically changed to (3.4028234663852886e+38) to match the dtype of the data.\n",
      "  warnings.warn(\n"
     ]
    },
    {
     "name": "stdout",
     "output_type": "stream",
     "text": [
      "Month: "
     ]
    },
    {
     "name": "stderr",
     "output_type": "stream",
     "text": [
      "/home/zyzh0/anaconda3/envs/gis/lib/python3.9/site-packages/rioxarray/raster_writer.py:132: UserWarning: The nodata value (3.402823466e+38) has been automatically changed to (3.4028234663852886e+38) to match the dtype of the data.\n",
      "  warnings.warn(\n"
     ]
    },
    {
     "name": "stdout",
     "output_type": "stream",
     "text": [
      " 11  done!\n",
      "Processing month:  12\n",
      "Processing file:  MOD16A2GF.006_PET_500m_doy2003337_aid0001.tif\n",
      "Month:  11Processing file:   done! \n",
      "MOD16A2GF.006_PET_500m_doy2003345_aid0001.tifProcessing month: \n",
      " 12\n",
      "Processing file:  MOD16A2GF.006_PET_500m_doy2015337_aid0001.tif\n",
      "Processing file:  MOD16A2GF.006_PET_500m_doy2003353_aid0001.tif\n",
      "Processing file:  MOD16A2GF.006_PET_500m_doy2015345_aid0001.tif\n"
     ]
    },
    {
     "name": "stderr",
     "output_type": "stream",
     "text": [
      "/home/zyzh0/anaconda3/envs/gis/lib/python3.9/site-packages/rioxarray/raster_writer.py:132: UserWarning: The nodata value (3.402823466e+38) has been automatically changed to (3.4028234663852886e+38) to match the dtype of the data.\n",
      "  warnings.warn(\n"
     ]
    },
    {
     "name": "stdout",
     "output_type": "stream",
     "text": [
      "Processing file:  MOD16A2GF.006_PET_500m_doy2003361_aid0001.tifProcessing file: \n",
      " MOD16A2GF.006_PET_500m_doy2015353_aid0001.tif\n",
      "Month: Processing file:   11MOD16A2GF.006_PET_500m_doy2015361_aid0001.tif \n",
      " done!\n",
      "Processing month:  12\n",
      "Processing file:  MOD16A2GF.006_PET_500m_doy2008337_aid0001.tif\n"
     ]
    },
    {
     "name": "stderr",
     "output_type": "stream",
     "text": [
      "/home/zyzh0/anaconda3/envs/gis/lib/python3.9/site-packages/rioxarray/raster_writer.py:132: UserWarning: The nodata value (3.402823466e+38) has been automatically changed to (3.4028234663852886e+38) to match the dtype of the data.\n",
      "  warnings.warn(\n"
     ]
    },
    {
     "name": "stdout",
     "output_type": "stream",
     "text": [
      "Processing file:  MOD16A2GF.006_PET_500m_doy2008345_aid0001.tif\n",
      "Month:  11  done!\n",
      "Processing month:  12\n",
      "Processing file:  MOD16A2GF.006_PET_500m_doy2013337_aid0001.tif\n"
     ]
    },
    {
     "name": "stderr",
     "output_type": "stream",
     "text": [
      "/home/zyzh0/anaconda3/envs/gis/lib/python3.9/site-packages/rioxarray/raster_writer.py:132: UserWarning: The nodata value (3.402823466e+38) has been automatically changed to (3.4028234663852886e+38) to match the dtype of the data.\n",
      "  warnings.warn(\n"
     ]
    },
    {
     "name": "stdout",
     "output_type": "stream",
     "text": [
      "Processing file:  MOD16A2GF.006_PET_500m_doy2008353_aid0001.tif\n",
      "Processing file:  MOD16A2GF.006_PET_500m_doy2013345_aid0001.tif\n",
      "Processing file:  MOD16A2GF.006_PET_500m_doy2008361_aid0001.tif\n",
      "Month:  Processing file: 11  MOD16A2GF.006_PET_500m_doy2013353_aid0001.tif done!\n",
      "\n",
      "Processing month:  12\n",
      "Processing file:  MOD16A2GF.006_PET_500m_doy2005337_aid0001.tif\n",
      "Processing file:  Processing file: MOD16A2GF.006_PET_500m_doy2013361_aid0001.tif \n",
      "MOD16A2GF.006_PET_500m_doy2005345_aid0001.tif\n",
      "Processing file:  MOD16A2GF.006_PET_500m_doy2005353_aid0001.tif\n"
     ]
    },
    {
     "name": "stderr",
     "output_type": "stream",
     "text": [
      "/home/zyzh0/anaconda3/envs/gis/lib/python3.9/site-packages/rioxarray/raster_writer.py:132: UserWarning: The nodata value (3.402823466e+38) has been automatically changed to (3.4028234663852886e+38) to match the dtype of the data.\n",
      "  warnings.warn(\n"
     ]
    },
    {
     "name": "stdout",
     "output_type": "stream",
     "text": [
      "Processing file:  MOD16A2GF.006_PET_500m_doy2005361_aid0001.tif\n",
      "Month:  11  done!\n",
      "Processing month:  12\n",
      "Processing file:  MOD16A2GF.006_PET_500m_doy2006337_aid0001.tif\n"
     ]
    },
    {
     "name": "stderr",
     "output_type": "stream",
     "text": [
      "/home/zyzh0/anaconda3/envs/gis/lib/python3.9/site-packages/rioxarray/raster_writer.py:132: UserWarning: The nodata value (3.402823466e+38) has been automatically changed to (3.4028234663852886e+38) to match the dtype of the data.\n",
      "  warnings.warn(\n"
     ]
    },
    {
     "name": "stdout",
     "output_type": "stream",
     "text": [
      "Processing file:  MOD16A2GF.006_PET_500m_doy2006345_aid0001.tif\n"
     ]
    },
    {
     "name": "stderr",
     "output_type": "stream",
     "text": [
      "/home/zyzh0/anaconda3/envs/gis/lib/python3.9/site-packages/rioxarray/raster_writer.py:132: UserWarning: The nodata value (3.402823466e+38) has been automatically changed to (3.4028234663852886e+38) to match the dtype of the data.\n",
      "  warnings.warn(\n"
     ]
    },
    {
     "name": "stdout",
     "output_type": "stream",
     "text": [
      "Month:  11  done!\n",
      "Processing month:  12\n",
      "Processing file:  Processing file:  MOD16A2GF.006_PET_500m_doy2006353_aid0001.tifMOD16A2GF.006_PET_500m_doy2000337_aid0001.tif\n",
      "\n",
      "Month:  11  done!\n",
      "Processing month:  12\n",
      "Processing file:  MOD16A2GF.006_PET_500m_doy2010337_aid0001.tif\n",
      "Processing file:  MOD16A2GF.006_PET_500m_doy2000345_aid0001.tifProcessing file: \n",
      " MOD16A2GF.006_PET_500m_doy2006361_aid0001.tif\n",
      "Processing file:  MOD16A2GF.006_PET_500m_doy2010345_aid0001.tif\n",
      "Processing file:  MOD16A2GF.006_PET_500m_doy2000353_aid0001.tif\n",
      "Processing file: "
     ]
    },
    {
     "name": "stderr",
     "output_type": "stream",
     "text": [
      "/home/zyzh0/anaconda3/envs/gis/lib/python3.9/site-packages/rioxarray/raster_writer.py:132: UserWarning: The nodata value (3.402823466e+38) has been automatically changed to (3.4028234663852886e+38) to match the dtype of the data.\n",
      "  warnings.warn(\n"
     ]
    },
    {
     "name": "stdout",
     "output_type": "stream",
     "text": [
      " MOD16A2GF.006_PET_500m_doy2010353_aid0001.tif\n",
      "Processing file:  MOD16A2GF.006_PET_500m_doy2000361_aid0001.tif\n",
      "Processing file:  Month: "
     ]
    },
    {
     "name": "stderr",
     "output_type": "stream",
     "text": [
      "/home/zyzh0/anaconda3/envs/gis/lib/python3.9/site-packages/rioxarray/raster_writer.py:132: UserWarning: The nodata value (3.402823466e+38) has been automatically changed to (3.4028234663852886e+38) to match the dtype of the data.\n",
      "  warnings.warn(\n"
     ]
    },
    {
     "name": "stdout",
     "output_type": "stream",
     "text": [
      " MOD16A2GF.006_PET_500m_doy2010361_aid0001.tif11\n",
      "  done!\n",
      "Processing month:  12\n",
      "Processing file:  MOD16A2GF.006_PET_500m_doy2007337_aid0001.tif\n"
     ]
    },
    {
     "name": "stderr",
     "output_type": "stream",
     "text": [
      "/home/zyzh0/anaconda3/envs/gis/lib/python3.9/site-packages/rioxarray/raster_writer.py:132: UserWarning: The nodata value (3.402823466e+38) has been automatically changed to (3.4028234663852886e+38) to match the dtype of the data.\n",
      "  warnings.warn(\n"
     ]
    },
    {
     "name": "stdout",
     "output_type": "stream",
     "text": [
      "Processing file:  MOD16A2GF.006_PET_500m_doy2007345_aid0001.tif\n",
      "Month:  11  done!\n",
      "Processing month:  12Month: \n",
      " Processing file: 11  MOD16A2GF.006_PET_500m_doy2014337_aid0001.tif done!Processing file: \n",
      "\n",
      " Processing month: MOD16A2GF.006_PET_500m_doy2007353_aid0001.tif "
     ]
    },
    {
     "name": "stderr",
     "output_type": "stream",
     "text": [
      "/home/zyzh0/anaconda3/envs/gis/lib/python3.9/site-packages/rioxarray/raster_writer.py:132: UserWarning: The nodata value (3.402823466e+38) has been automatically changed to (3.4028234663852886e+38) to match the dtype of the data.\n",
      "  warnings.warn(\n"
     ]
    },
    {
     "name": "stdout",
     "output_type": "stream",
     "text": [
      "\n",
      "12\n",
      "Processing file:  MOD16A2GF.006_PET_500m_doy2012337_aid0001.tif\n",
      "Processing file:  MOD16A2GF.006_PET_500m_doy2014345_aid0001.tifProcessing file: \n",
      " MOD16A2GF.006_PET_500m_doy2007361_aid0001.tif\n",
      "Processing file:  MOD16A2GF.006_PET_500m_doy2012345_aid0001.tif\n",
      "Month:  11  done!\n",
      "Processing month:  12\n",
      "Processing file:  Processing file: MOD16A2GF.006_PET_500m_doy2009337_aid0001.tif \n",
      "Processing file: MOD16A2GF.006_PET_500m_doy2014353_aid0001.tif \n",
      "MOD16A2GF.006_PET_500m_doy2012353_aid0001.tif\n",
      "Processing file:  MOD16A2GF.006_PET_500m_doy2009345_aid0001.tifProcessing file: \n",
      " MOD16A2GF.006_PET_500m_doy2012361_aid0001.tif\n",
      "Processing file:  MOD16A2GF.006_PET_500m_doy2014361_aid0001.tif\n",
      "Processing file:  MOD16A2GF.006_PET_500m_doy2009353_aid0001.tif\n"
     ]
    },
    {
     "name": "stderr",
     "output_type": "stream",
     "text": [
      "/home/zyzh0/anaconda3/envs/gis/lib/python3.9/site-packages/rioxarray/raster_writer.py:132: UserWarning: The nodata value (3.402823466e+38) has been automatically changed to (3.4028234663852886e+38) to match the dtype of the data.\n",
      "  warnings.warn(\n"
     ]
    },
    {
     "name": "stdout",
     "output_type": "stream",
     "text": [
      "Processing file:  MOD16A2GF.006_PET_500m_doy2009361_aid0001.tif\n"
     ]
    },
    {
     "name": "stderr",
     "output_type": "stream",
     "text": [
      "/home/zyzh0/anaconda3/envs/gis/lib/python3.9/site-packages/rioxarray/raster_writer.py:132: UserWarning: The nodata value (3.402823466e+38) has been automatically changed to (3.4028234663852886e+38) to match the dtype of the data.\n",
      "  warnings.warn(\n"
     ]
    },
    {
     "name": "stdout",
     "output_type": "stream",
     "text": [
      "Month:  11  done!\n",
      "Processing month:  12\n",
      "Processing file:  MOD16A2GF.006_PET_500m_doy2011337_aid0001.tif\n",
      "Month:  11  done!\n",
      "Processing month:  12\n",
      "Processing file:  Processing file: MOD16A2GF.006_PET_500m_doy2002337_aid0001.tif \n",
      "MOD16A2GF.006_PET_500m_doy2011345_aid0001.tif\n",
      "Processing file: Processing file:   MOD16A2GF.006_PET_500m_doy2002345_aid0001.tifMOD16A2GF.006_PET_500m_doy2011353_aid0001.tif\n",
      "\n"
     ]
    },
    {
     "name": "stderr",
     "output_type": "stream",
     "text": [
      "/home/zyzh0/anaconda3/envs/gis/lib/python3.9/site-packages/rioxarray/raster_writer.py:132: UserWarning: The nodata value (3.402823466e+38) has been automatically changed to (3.4028234663852886e+38) to match the dtype of the data.\n",
      "  warnings.warn(\n"
     ]
    },
    {
     "name": "stdout",
     "output_type": "stream",
     "text": [
      "Processing file: Processing file:   MOD16A2GF.006_PET_500m_doy2011361_aid0001.tifMOD16A2GF.006_PET_500m_doy2002353_aid0001.tif\n",
      "\n",
      "Processing file:  MOD16A2GF.006_PET_500m_doy2002361_aid0001.tif\n",
      "Month:  11  done!\n",
      "Processing month:  12\n",
      "Processing file:  MOD16A2GF.006_PET_500m_doy2004337_aid0001.tif\n",
      "Processing file:  MOD16A2GF.006_PET_500m_doy2004345_aid0001.tif\n"
     ]
    },
    {
     "name": "stderr",
     "output_type": "stream",
     "text": [
      "/home/zyzh0/anaconda3/envs/gis/lib/python3.9/site-packages/rioxarray/raster_writer.py:132: UserWarning: The nodata value (3.402823466e+38) has been automatically changed to (3.4028234663852886e+38) to match the dtype of the data.\n",
      "  warnings.warn(\n"
     ]
    },
    {
     "name": "stdout",
     "output_type": "stream",
     "text": [
      "Processing file:  MOD16A2GF.006_PET_500m_doy2004353_aid0001.tif\n",
      "Month: Processing file:   11MOD16A2GF.006_PET_500m_doy2004361_aid0001.tif \n",
      " done!\n",
      "Processing month:  12\n",
      "Processing file:  MOD16A2GF.006_PET_500m_doy2001337_aid0001.tif\n",
      "Processing file:  MOD16A2GF.006_PET_500m_doy2001345_aid0001.tif\n",
      "Processing file:  MOD16A2GF.006_PET_500m_doy2001353_aid0001.tif\n"
     ]
    },
    {
     "name": "stderr",
     "output_type": "stream",
     "text": [
      "/home/zyzh0/anaconda3/envs/gis/lib/python3.9/site-packages/rioxarray/raster_writer.py:132: UserWarning: The nodata value (3.402823466e+38) has been automatically changed to (3.4028234663852886e+38) to match the dtype of the data.\n",
      "  warnings.warn(\n"
     ]
    },
    {
     "name": "stdout",
     "output_type": "stream",
     "text": [
      "Processing file:  MOD16A2GF.006_PET_500m_doy2001361_aid0001.tif\n",
      "Month:  12  done!\n"
     ]
    },
    {
     "name": "stderr",
     "output_type": "stream",
     "text": [
      "/home/zyzh0/anaconda3/envs/gis/lib/python3.9/site-packages/rioxarray/raster_writer.py:132: UserWarning: The nodata value (3.402823466e+38) has been automatically changed to (3.4028234663852886e+38) to match the dtype of the data.\n",
      "  warnings.warn(\n",
      "/home/zyzh0/anaconda3/envs/gis/lib/python3.9/site-packages/rioxarray/raster_writer.py:132: UserWarning: The nodata value (3.402823466e+38) has been automatically changed to (3.4028234663852886e+38) to match the dtype of the data.\n",
      "  warnings.warn(\n"
     ]
    },
    {
     "name": "stdout",
     "output_type": "stream",
     "text": [
      "Month:  12  done!\n",
      "Month:  12  done!\n"
     ]
    },
    {
     "name": "stderr",
     "output_type": "stream",
     "text": [
      "/home/zyzh0/anaconda3/envs/gis/lib/python3.9/site-packages/rioxarray/raster_writer.py:132: UserWarning: The nodata value (3.402823466e+38) has been automatically changed to (3.4028234663852886e+38) to match the dtype of the data.\n",
      "  warnings.warn(\n"
     ]
    },
    {
     "name": "stdout",
     "output_type": "stream",
     "text": [
      "Month:  12  done!\n"
     ]
    },
    {
     "name": "stderr",
     "output_type": "stream",
     "text": [
      "/home/zyzh0/anaconda3/envs/gis/lib/python3.9/site-packages/rioxarray/raster_writer.py:132: UserWarning: The nodata value (3.402823466e+38) has been automatically changed to (3.4028234663852886e+38) to match the dtype of the data.\n",
      "  warnings.warn(\n"
     ]
    },
    {
     "name": "stdout",
     "output_type": "stream",
     "text": [
      "Month:  12  done!\n"
     ]
    },
    {
     "name": "stderr",
     "output_type": "stream",
     "text": [
      "/home/zyzh0/anaconda3/envs/gis/lib/python3.9/site-packages/rioxarray/raster_writer.py:132: UserWarning: The nodata value (3.402823466e+38) has been automatically changed to (3.4028234663852886e+38) to match the dtype of the data.\n",
      "  warnings.warn(\n"
     ]
    },
    {
     "name": "stdout",
     "output_type": "stream",
     "text": [
      "Month:  12  done!\n"
     ]
    },
    {
     "name": "stderr",
     "output_type": "stream",
     "text": [
      "/home/zyzh0/anaconda3/envs/gis/lib/python3.9/site-packages/rioxarray/raster_writer.py:132: UserWarning: The nodata value (3.402823466e+38) has been automatically changed to (3.4028234663852886e+38) to match the dtype of the data.\n",
      "  warnings.warn(\n",
      "/home/zyzh0/anaconda3/envs/gis/lib/python3.9/site-packages/rioxarray/raster_writer.py:132: UserWarning: The nodata value (3.402823466e+38) has been automatically changed to (3.4028234663852886e+38) to match the dtype of the data.\n",
      "  warnings.warn(\n"
     ]
    },
    {
     "name": "stdout",
     "output_type": "stream",
     "text": [
      "Month:  12  done!\n"
     ]
    },
    {
     "name": "stderr",
     "output_type": "stream",
     "text": [
      "/home/zyzh0/anaconda3/envs/gis/lib/python3.9/site-packages/rioxarray/raster_writer.py:132: UserWarning: The nodata value (3.402823466e+38) has been automatically changed to (3.4028234663852886e+38) to match the dtype of the data.\n",
      "  warnings.warn(\n"
     ]
    },
    {
     "name": "stdout",
     "output_type": "stream",
     "text": [
      "Month:  12  done!\n",
      "Month:  12  done!\n"
     ]
    },
    {
     "name": "stderr",
     "output_type": "stream",
     "text": [
      "/home/zyzh0/anaconda3/envs/gis/lib/python3.9/site-packages/rioxarray/raster_writer.py:132: UserWarning: The nodata value (3.402823466e+38) has been automatically changed to (3.4028234663852886e+38) to match the dtype of the data.\n",
      "  warnings.warn(\n",
      "/home/zyzh0/anaconda3/envs/gis/lib/python3.9/site-packages/rioxarray/raster_writer.py:132: UserWarning: The nodata value (3.402823466e+38) has been automatically changed to (3.4028234663852886e+38) to match the dtype of the data.\n",
      "  warnings.warn(\n"
     ]
    },
    {
     "name": "stdout",
     "output_type": "stream",
     "text": [
      "Month:  12  done!\n"
     ]
    },
    {
     "name": "stderr",
     "output_type": "stream",
     "text": [
      "/home/zyzh0/anaconda3/envs/gis/lib/python3.9/site-packages/rioxarray/raster_writer.py:132: UserWarning: The nodata value (3.402823466e+38) has been automatically changed to (3.4028234663852886e+38) to match the dtype of the data.\n",
      "  warnings.warn(\n"
     ]
    },
    {
     "name": "stdout",
     "output_type": "stream",
     "text": [
      "Month:  12  done!\n",
      "Month:  12  done!\n"
     ]
    },
    {
     "name": "stderr",
     "output_type": "stream",
     "text": [
      "/home/zyzh0/anaconda3/envs/gis/lib/python3.9/site-packages/rioxarray/raster_writer.py:132: UserWarning: The nodata value (3.402823466e+38) has been automatically changed to (3.4028234663852886e+38) to match the dtype of the data.\n",
      "  warnings.warn(\n",
      "/home/zyzh0/anaconda3/envs/gis/lib/python3.9/site-packages/rioxarray/raster_writer.py:132: UserWarning: The nodata value (3.402823466e+38) has been automatically changed to (3.4028234663852886e+38) to match the dtype of the data.\n",
      "  warnings.warn(\n"
     ]
    },
    {
     "name": "stdout",
     "output_type": "stream",
     "text": [
      "Month:  12  done!\n",
      "Month:  12  done!\n"
     ]
    },
    {
     "name": "stderr",
     "output_type": "stream",
     "text": [
      "/home/zyzh0/anaconda3/envs/gis/lib/python3.9/site-packages/rioxarray/raster_writer.py:132: UserWarning: The nodata value (3.402823466e+38) has been automatically changed to (3.4028234663852886e+38) to match the dtype of the data.\n",
      "  warnings.warn(\n"
     ]
    },
    {
     "name": "stdout",
     "output_type": "stream",
     "text": [
      "Month:  12  done!\n"
     ]
    },
    {
     "name": "stderr",
     "output_type": "stream",
     "text": [
      "/home/zyzh0/anaconda3/envs/gis/lib/python3.9/site-packages/rioxarray/raster_writer.py:132: UserWarning: The nodata value (3.402823466e+38) has been automatically changed to (3.4028234663852886e+38) to match the dtype of the data.\n",
      "  warnings.warn(\n"
     ]
    },
    {
     "name": "stdout",
     "output_type": "stream",
     "text": [
      "Month:  12  done!\n"
     ]
    }
   ],
   "source": [
    "process_pool = multiprocessing.Pool(30)\n",
    "\n",
    "for i in range(2000,2016):\n",
    "    process_pool.apply_async(resample_pet,args=(str(i),))\n",
    "\n",
    "process_pool.close()\n",
    "process_pool.join()"
   ]
  }
 ],
 "metadata": {
  "kernelspec": {
   "display_name": "gis",
   "language": "python",
   "name": "python3"
  },
  "language_info": {
   "codemirror_mode": {
    "name": "ipython",
    "version": 3
   },
   "file_extension": ".py",
   "mimetype": "text/x-python",
   "name": "python",
   "nbconvert_exporter": "python",
   "pygments_lexer": "ipython3",
   "version": "3.9.13"
  },
  "orig_nbformat": 4
 },
 "nbformat": 4,
 "nbformat_minor": 2
}

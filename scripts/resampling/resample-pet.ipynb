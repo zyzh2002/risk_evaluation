{
 "cells": [
  {
   "attachments": {},
   "cell_type": "markdown",
   "metadata": {},
   "source": [
    "# MODIS16A2数据重采样\n",
    "\n",
    "尝试对MODIS16A2数据进行重采样。根据附带的数据评估对响应数据进行赋权后取平均。"
   ]
  },
  {
   "attachments": {},
   "cell_type": "markdown",
   "metadata": {},
   "source": [
    "下面确定取平均的算法。\n",
    "\n",
    "MODIS数据质量有10个等级。记等级权重为服从某种分布的序列\n",
    "\n",
    "$$p(l), 1\\le l \\le 10$$\n",
    "\n",
    "则\n",
    "\n",
    "$$\\sum p(l)=1$$\n",
    "\n",
    "先从单个格点开始。记蒸散量数据的时间序列数据$\\{x_n\\}$，$n$是其在时间序列上的位置，其等级为$l(x_n)$，故权重为$p(l(x_n))$，这里简记为$p_n$。则均值计算方法为\n",
    "\n",
    "$$ \\overline{x}=\\frac{\\sum_{j=1}^{n}x_j\\cdot p_j}{\\sum_{j=1}^{n} p_j} $$\n",
    "\n",
    "直接将$\\{x_n\\}$看作数组$x$，可以利用`numpy`实现并行计算\n",
    "\n",
    "$$ \n",
    "\\begin{align}\n",
    "\\overline{x}&=\\frac{x\\cdot p}{\\mathrm{sum}(p)} \\\\\n",
    "p&=l(x)\n",
    "\n",
    "\\end{align}\n",
    "$$\n",
    "\n",
    "以上可以得到单个格点的经过加权重采样的时间序列数据。接下来，将对其转化成三维数组：其中第一维是时间，其余两个维度定位格点数据。\n",
    "\n",
    "\n",
    "$$\n",
    "\\begin{align}\n",
    "\n",
    "\\overline{X}&= \\frac{X\\cdot P}{\\mathrm{sum}(P,\\mathrm{axis=}0)} \\\\\n",
    "P&=L(X)\n",
    "\n",
    "\\end{align}\n",
    "$$\n",
    "其中，$X$为三维数组，可以看作一系列蒸散量矩阵排列而成的数组；$P$与其类似，是权重矩阵数组。`axis=0`使得`numpy`只在时间维度上进行求和。"
   ]
  },
  {
   "cell_type": "markdown",
   "metadata": {},
   "source": []
  }
 ],
 "metadata": {
  "kernelspec": {
   "display_name": "gis",
   "language": "python",
   "name": "python3"
  },
  "language_info": {
   "name": "python",
   "version": "3.9.13"
  },
  "orig_nbformat": 4
 },
 "nbformat": 4,
 "nbformat_minor": 2
}

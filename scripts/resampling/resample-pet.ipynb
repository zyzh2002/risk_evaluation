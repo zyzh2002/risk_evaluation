{
 "cells": [
  {
   "attachments": {},
   "cell_type": "markdown",
   "metadata": {},
   "source": [
    "# MODIS16A2数据重采样\n",
    "\n",
    "尝试对MODIS16A2数据进行重采样。这里使用广泛被采用的最大值合成法。"
   ]
  },
  {
   "attachments": {},
   "cell_type": "markdown",
   "metadata": {},
   "source": [
    "## 最大值合成法\n",
    "\n",
    "记$\\{PET_i\\}$为一个栅格中的降雨量时间序列，则在该时间范围内，这一栅格中的降雨量值可以用序列中的最大值$\\mathrm{max}(\\{PET_i\\})$代替。\n",
    "\n",
    "$$ PET=\\mathrm{max}(\\{PET_i\\}) $$"
   ]
  },
  {
   "attachments": {},
   "cell_type": "markdown",
   "metadata": {},
   "source": [
    "扩展到二维形式，使用循环解决\n",
    "```python\n",
    "import numpy as np\n",
    "PET_sequence = np.array([[[PET_tij for j in range(0,j)]for i in range(0,i)]for t in range(0,t)])\n",
    "\n",
    "PET = []\n",
    "for t in range(0,t):\n",
    "    PET_ij = []\n",
    "    for i in range(0,i):\n",
    "        PET_i = []\n",
    "        for j in range(0,j):\n",
    "            PET_std = max([PET_sequence[i][j] for t in range(0,t)])\n",
    "            PET_i.append(PET_std)\n",
    "        PET_ij.append(PET_i)\n",
    "    PET.append(PET_ij)\n",
    "\n",
    "PET = np.array(PET)\n",
    "```\n",
    "使用了四重嵌套循环进行合成，效率相当的低。\n",
    "能否进行一些优化？"
   ]
  },
  {
   "attachments": {},
   "cell_type": "markdown",
   "metadata": {},
   "source": [
    "可以使用`xarray`库自带的方法取最大值。`numpy`好像也有?"
   ]
  },
  {
   "attachments": {},
   "cell_type": "markdown",
   "metadata": {},
   "source": [
    "比如\n",
    "\n",
    "~~~python\n",
    "import numpy as np\n",
    "a = np.array([[1, 2, 3], [4, 5, 6], [7, 8, 5]])\n",
    "b = np.array([[4, 5, 1], [2, 3, 6], [7, 8, 9]])\n",
    "\n",
    "np.amax([a, b], axis=0)\n",
    "~~~\n"
   ]
  },
  {
   "attachments": {},
   "cell_type": "markdown",
   "metadata": {},
   "source": [
    "MODIS数据是8天一个样品，有必要根据日进行划分\n",
    "根据时间间隔，将8天的采样频率平均划分给12个月，如下表：\n",
    "\n",
    "| **Month** | **Start_date** | **End_date** | **Length** | **Start_date_filename** | **End_date_filename** |\n",
    "|-----------|----------------|--------------|------------|-------------------------|------------------------|\n",
    "| **1**     | 1              | 32           | 31         | 1                       | 25                     |\n",
    "| **2**     | 33             | 56           | 23         | 33                      | 49                     |\n",
    "| **3**     | 57             | 88           | 31         | 57                      | 81                     |\n",
    "| **4**     | 89             | 120          | 31         | 89                      | 113                    |\n",
    "| **5**     | 121            | 152          | 31         | 121                     | 145                    |\n",
    "| **6**     | 153            | 184          | 31         | 153                     | 177                    |\n",
    "| **7**     | 185            | 216          | 31         | 185                     | 209                    |\n",
    "| **8**     | 209            | 240          | 31         | 209                     | 233                    |\n",
    "| **9**     | 241            | 272          | 31         | 241                     | 265                    |\n"
   ]
  },
  {
   "cell_type": "code",
   "execution_count": 21,
   "metadata": {},
   "outputs": [],
   "source": [
    "import numpy as np\n",
    "import scipy as sp\n",
    "import pandas as pd\n",
    "import geopandas as gpd\n",
    "import matplotlib.pyplot as plt\n",
    "import xarray as xr\n",
    "import shapely\n",
    "import rioxarray as rxr\n",
    "import rasterio\n",
    "from affine import Affine"
   ]
  },
  {
   "attachments": {},
   "cell_type": "markdown",
   "metadata": {},
   "source": [
    "定义生成文件名字典的函数"
   ]
  },
  {
   "cell_type": "code",
   "execution_count": 26,
   "metadata": {},
   "outputs": [],
   "source": [
    "def generate_filename_map(year:str)->dict:\n",
    "    \n",
    "    def generate_filename(year:str,date:str)->str:\n",
    "        preifx = 'MOD16A2GF.006_PET_500m_doy'\n",
    "        suffix = '_aid0001.tif'\n",
    "        return preifx+year+date+suffix\n",
    "    \n",
    "    def calc_days(start:int,end:int)->list:\n",
    "        length = end-start\n",
    "        counts = length//8\n",
    "        days = []\n",
    "        for i in range(counts):\n",
    "            days.append(start+i*8)\n",
    "        days.append(end)\n",
    "        return days\n",
    "    \n",
    "    months = [1,2,3,4,5,6,7,8,9,10,11,12]\n",
    "    months_start_date_lst = [1,33,57,89,121,153,185,209,241,273,305,337]\n",
    "    months_end_date_lst = [25,49,81,113,145,177,209,233,265,297,329,361]\n",
    "\n",
    "    filename_map = {}\n",
    "\n",
    "    for i in range(len(months)):\n",
    "        start = months_start_date_lst[i]\n",
    "        end = months_end_date_lst[i]\n",
    "        days = calc_days(start,end)\n",
    "        filename_map[months[i]] = []\n",
    "        for day in days:\n",
    "            filename_map[months[i]].append(generate_filename(year,str(day).zfill(3)))\n",
    "\n",
    "    return filename_map"
   ]
  },
  {
   "attachments": {},
   "cell_type": "markdown",
   "metadata": {},
   "source": [
    "分别读取每一年的对应数据，并且合成单独的文件"
   ]
  },
  {
   "cell_type": "code",
   "execution_count": 23,
   "metadata": {},
   "outputs": [],
   "source": [
    "base_dir = '../datas/MODIS/MODIS16A2GF/PET/'"
   ]
  }
 ],
 "metadata": {
  "kernelspec": {
   "display_name": "gis",
   "language": "python",
   "name": "python3"
  },
  "language_info": {
   "codemirror_mode": {
    "name": "ipython",
    "version": 3
   },
   "file_extension": ".py",
   "mimetype": "text/x-python",
   "name": "python",
   "nbconvert_exporter": "python",
   "pygments_lexer": "ipython3",
   "version": "3.9.13"
  },
  "orig_nbformat": 4
 },
 "nbformat": 4,
 "nbformat_minor": 2
}

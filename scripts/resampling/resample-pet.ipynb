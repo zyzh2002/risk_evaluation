{
 "cells": [
  {
   "attachments": {},
   "cell_type": "markdown",
   "metadata": {},
   "source": [
    "# MODIS16A2数据重采样\n",
    "\n",
    "尝试对MODIS16A2数据进行重采样。这里使用广泛被采用的最大值合成法。"
   ]
  },
  {
   "attachments": {},
   "cell_type": "markdown",
   "metadata": {},
   "source": [
    "## 最大值合成法\n",
    "\n",
    "记$\\{PET_i\\}$为一个栅格中的降雨量时间序列，则在该时间范围内，这一栅格中的降雨量值可以用序列中的最大值$\\mathrm{max}(\\{PET_i\\})$代替。\n",
    "\n",
    "$$ PET=\\mathrm{max}(\\{PET_i\\}) $$"
   ]
  },
  {
   "attachments": {},
   "cell_type": "markdown",
   "metadata": {},
   "source": [
    "扩展到二维形式，使用循环解决\n",
    "```python\n",
    "import numpy as np\n",
    "PET_sequence = np.array([[[PET_tij for j in range(0,j)]for i in range(0,i)]for t in range(0,t)])\n",
    "\n",
    "PET = []\n",
    "for t in range(0,t):\n",
    "    PET_ij = []\n",
    "    for i in range(0,i):\n",
    "        PET_i = []\n",
    "        for j in range(0,j):\n",
    "            PET_std = max([PET_sequence[i][j] for t in range(0,t)])\n",
    "            PET_i.append(PET_std)\n",
    "        PET_ij.append(PET_i)\n",
    "    PET.append(PET_ij)\n",
    "\n",
    "PET = np.array(PET)\n",
    "```\n",
    "使用了四重嵌套循环进行合成，效率相当的低。\n",
    "能否进行一些优化？"
   ]
  },
  {
   "attachments": {},
   "cell_type": "markdown",
   "metadata": {},
   "source": [
    "可以使用`xarray`库自带的方法取最大值。`numpy`好像也有?"
   ]
  },
  {
   "cell_type": "code",
   "execution_count": 1,
   "metadata": {},
   "outputs": [],
   "source": [
    "import numpy as np"
   ]
  },
  {
   "cell_type": "code",
   "execution_count": 9,
   "metadata": {},
   "outputs": [
    {
     "data": {
      "text/plain": [
       "array([[4, 5, 3],\n",
       "       [4, 5, 6],\n",
       "       [7, 8, 9]])"
      ]
     },
     "execution_count": 9,
     "metadata": {},
     "output_type": "execute_result"
    }
   ],
   "source": [
    "a = np.array([[1, 2, 3], [4, 5, 6], [7, 8, 5]])\n",
    "b = np.array([[4, 5, 1], [2, 3, 6], [7, 8, 9]])\n",
    "\n",
    "np.amax([a, b], axis=0)\n"
   ]
  }
 ],
 "metadata": {
  "kernelspec": {
   "display_name": "gis",
   "language": "python",
   "name": "python3"
  },
  "language_info": {
   "codemirror_mode": {
    "name": "ipython",
    "version": 3
   },
   "file_extension": ".py",
   "mimetype": "text/x-python",
   "name": "python",
   "nbconvert_exporter": "python",
   "pygments_lexer": "ipython3",
   "version": "3.9.13"
  },
  "orig_nbformat": 4
 },
 "nbformat": 4,
 "nbformat_minor": 2
}

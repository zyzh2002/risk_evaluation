{
 "cells": [
  {
   "cell_type": "code",
   "execution_count": 50,
   "metadata": {},
   "outputs": [],
   "source": [
    "import numpy as np\n",
    "import numba as nb\n",
    "import scipy as sp\n",
    "import math"
   ]
  },
  {
   "cell_type": "code",
   "execution_count": 70,
   "metadata": {},
   "outputs": [],
   "source": [
    "@nb.njit()\n",
    "def ufunc(x,nmom=5):\n",
    "    def comb(n,k):\n",
    "        return math.gamma(n+1) / (math.gamma(k+1) * math.gamma(n-k+1))\n",
    "    \n",
    "    x = np.asarray(x)\n",
    "    n = x.shape[0]\n",
    "    x.sort()\n",
    "    l1 = np.sum(x,axis=0) / comb(n, 1)\n",
    "    \n",
    "    if nmom == 1:\n",
    "        return l1\n",
    "    \n",
    "   # Second L-moment\n",
    "\n",
    "    comb1 = range(n)\n",
    "    coefl2 = 0.5 / comb(n,2)\n",
    "    sum_xtrans = sum([(comb1[i] - comb1[n - i - 1]) * x[i] for i in range(n)])\n",
    "    l2 = coefl2 * sum_xtrans\n",
    "\n",
    "    if nmom == 2:\n",
    "        return np.array([l1, l2])\n",
    "\n"
   ]
  },
  {
   "cell_type": "code",
   "execution_count": 53,
   "metadata": {},
   "outputs": [],
   "source": [
    "@nb.njit()\n",
    "def comb(n,k):\n",
    "    return math.gamma(n+1) / (math.gamma(k+1) * math.gamma(n-k+1))"
   ]
  },
  {
   "cell_type": "code",
   "execution_count": 54,
   "metadata": {},
   "outputs": [
    {
     "name": "stdout",
     "output_type": "stream",
     "text": [
      "631 ns ± 8.8 ns per loop (mean ± std. dev. of 7 runs, 1,000,000 loops each)\n"
     ]
    }
   ],
   "source": [
    "%timeit comb(100,50)"
   ]
  },
  {
   "cell_type": "code",
   "execution_count": 55,
   "metadata": {},
   "outputs": [
    {
     "name": "stdout",
     "output_type": "stream",
     "text": [
      "4.32 µs ± 66.9 ns per loop (mean ± std. dev. of 7 runs, 100,000 loops each)\n"
     ]
    }
   ],
   "source": [
    "%timeit sp.special.comb(100,50)"
   ]
  },
  {
   "cell_type": "code",
   "execution_count": 9,
   "metadata": {},
   "outputs": [],
   "source": [
    "testdata = np.random.rand(100,10,10)"
   ]
  },
  {
   "cell_type": "code",
   "execution_count": 71,
   "metadata": {},
   "outputs": [],
   "source": [
    "ufunc(testdata,nmom=2)"
   ]
  },
  {
   "cell_type": "code",
   "execution_count": null,
   "metadata": {},
   "outputs": [],
   "source": [
    "def get_lmoments(x, nmom=5) -> np.ndarray:\n",
    "    try:\n",
    "        x = np.asarray(x, dtype=np.float64)\n",
    "        n = x.shape[0]\n",
    "        x.sort(axis=0)\n",
    "    except ValueError:\n",
    "        raise ValueError(\"Input data to estimate L-moments must be numeric.\")\n",
    "\n",
    "    if nmom <= 0 or nmom > 5:\n",
    "        raise ValueError(\"Invalid number of sample L-moments\")\n",
    "\n",
    "    if n < nmom:\n",
    "        raise ValueError(\"Insufficient length of data for specified nmoments\")\n",
    "\n",
    "    # First L-moment\n",
    "\n",
    "    l1 = np.sum(x,axis=0) / sp.special.comb(n, 1, exact=True)\n",
    "\n",
    "    if nmom == 1:\n",
    "        return l1\n",
    "\n",
    "    # Second L-moment\n",
    "\n",
    "    comb1 = range(n)\n",
    "    coefl2 = 0.5 / sp.special.comb(n, 2, exact=True)\n",
    "    sum_xtrans = sum([(comb1[i] - comb1[n - i - 1]) * x[i] for i in range(n)])\n",
    "    l2 = coefl2 * sum_xtrans\n",
    "\n",
    "    if nmom == 2:\n",
    "        return np.array([l1, l2])\n",
    "\n",
    "    # Third L-moment\n",
    "\n",
    "    comb3 = [sp.special.comb(i, 2, exact=True) for i in range(n)]\n",
    "    coefl3 = 1.0 / 3.0 / sp.special.comb(n, 3, exact=True)\n",
    "    sum_xtrans = sum(\n",
    "        [\n",
    "            (comb3[i] - 2 * comb1[i] * comb1[n - i - 1] + comb3[n - i - 1]) * x[i]\n",
    "            for i in range(n)\n",
    "        ]\n",
    "    )\n",
    "    l3 = coefl3 * sum_xtrans / l2\n",
    "\n",
    "    if nmom == 3:\n",
    "        return np.array([l1, l2, l3])\n",
    "\n",
    "    # Fourth L-moment\n",
    "\n",
    "    comb5 = [sp.special.comb(i, 3, exact=True) for i in range(n)]\n",
    "    coefl4 = 0.25 / sp.special.comb(n, 4, exact=True)\n",
    "    sum_xtrans = sum(\n",
    "        [\n",
    "            (\n",
    "                comb5[i]\n",
    "                - 3 * comb3[i] * comb1[n - i - 1]\n",
    "                + 3 * comb1[i] * comb3[n - i - 1]\n",
    "                - comb5[n - i - 1]\n",
    "            )\n",
    "            * x[i]\n",
    "            for i in range(n)\n",
    "        ]\n",
    "    )\n",
    "    l4 = coefl4 * sum_xtrans / l2\n",
    "\n",
    "    if nmom == 4:\n",
    "        return np.array([l1, l2, l3, l4])\n",
    "\n",
    "    # Fifth L-moment\n",
    "\n",
    "    comb7 = [sp.special.comb(i, 4, exact=True) for i in range(n)]\n",
    "    coefl5 = 0.2 / sp.special.comb(n, 5, exact=True)\n",
    "    sum_xtrans = sum(\n",
    "        [\n",
    "            (\n",
    "                comb7[i]\n",
    "                - 4 * comb5[i] * comb1[n - i - 1]\n",
    "                + 6 * comb3[i] * comb3[n - i - 1]\n",
    "                - 4 * comb1[i] * comb5[n - i - 1]\n",
    "                + comb7[n - i - 1]\n",
    "            )\n",
    "            * x[i]\n",
    "            for i in range(n)\n",
    "        ]\n",
    "    )\n",
    "    l5 = coefl5 * sum_xtrans / l2\n",
    "\n",
    "    return np.array([l1, l2, l3, l4, l5])"
   ]
  }
 ],
 "metadata": {
  "kernelspec": {
   "display_name": "gis",
   "language": "python",
   "name": "python3"
  },
  "language_info": {
   "codemirror_mode": {
    "name": "ipython",
    "version": 3
   },
   "file_extension": ".py",
   "mimetype": "text/x-python",
   "name": "python",
   "nbconvert_exporter": "python",
   "pygments_lexer": "ipython3",
   "version": "3.10.12"
  },
  "orig_nbformat": 4
 },
 "nbformat": 4,
 "nbformat_minor": 2
}

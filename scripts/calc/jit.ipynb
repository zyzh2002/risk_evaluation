{
 "cells": [
  {
   "cell_type": "code",
   "execution_count": 1,
   "metadata": {},
   "outputs": [],
   "source": [
    "import numpy as np\n",
    "import numba as nb\n",
    "import scipy as sp\n",
    "import math\n",
    "import torch"
   ]
  },
  {
   "cell_type": "code",
   "execution_count": 2,
   "metadata": {},
   "outputs": [],
   "source": [
    "def get_lmoments(x, nmom=5) -> np.ndarray:\n",
    "    try:\n",
    "        x = np.asarray(x, dtype=np.float64)\n",
    "        n = x.shape[0]\n",
    "        x.sort(axis=0)\n",
    "    except ValueError:\n",
    "        raise ValueError(\"Input data to estimate L-moments must be numeric.\")\n",
    "\n",
    "    if nmom <= 0 or nmom > 5:\n",
    "        raise ValueError(\"Invalid number of sample L-moments\")\n",
    "\n",
    "    if n < nmom:\n",
    "        raise ValueError(\"Insufficient length of data for specified nmoments\")\n",
    "\n",
    "    # First L-moment\n",
    "\n",
    "    l1 = np.sum(x,axis=0) / sp.special.comb(n, 1, exact=True)\n",
    "\n",
    "    if nmom == 1:\n",
    "        return l1\n",
    "\n",
    "    # Second L-moment\n",
    "\n",
    "    comb1 = range(n)\n",
    "    coefl2 = 0.5 / sp.special.comb(n, 2, exact=True)\n",
    "    sum_xtrans = sum([(comb1[i] - comb1[n - i - 1]) * x[i] for i in range(n)])\n",
    "    l2 = coefl2 * sum_xtrans\n",
    "\n",
    "    if nmom == 2:\n",
    "        return np.array([l1, l2])\n",
    "\n",
    "    # Third L-moment\n",
    "\n",
    "    comb3 = [sp.special.comb(i, 2, exact=True) for i in range(n)]\n",
    "    coefl3 = 1.0 / 3.0 / sp.special.comb(n, 3, exact=True)\n",
    "    sum_xtrans = sum(\n",
    "        [\n",
    "            (comb3[i] - 2 * comb1[i] * comb1[n - i - 1] + comb3[n - i - 1]) * x[i]\n",
    "            for i in range(n)\n",
    "        ]\n",
    "    )\n",
    "    l3 = coefl3 * sum_xtrans / l2\n",
    "\n",
    "    if nmom == 3:\n",
    "        return np.array([l1, l2, l3])\n",
    "\n",
    "    # Fourth L-moment\n",
    "\n",
    "    comb5 = [sp.special.comb(i, 3, exact=True) for i in range(n)]\n",
    "    coefl4 = 0.25 / sp.special.comb(n, 4, exact=True)\n",
    "    sum_xtrans = sum(\n",
    "        [\n",
    "            (\n",
    "                comb5[i]\n",
    "                - 3 * comb3[i] * comb1[n - i - 1]\n",
    "                + 3 * comb1[i] * comb3[n - i - 1]\n",
    "                - comb5[n - i - 1]\n",
    "            )\n",
    "            * x[i]\n",
    "            for i in range(n)\n",
    "        ]\n",
    "    )\n",
    "    l4 = coefl4 * sum_xtrans / l2\n",
    "\n",
    "    if nmom == 4:\n",
    "        return np.array([l1, l2, l3, l4])\n",
    "\n",
    "    # Fifth L-moment\n",
    "\n",
    "    comb7 = [sp.special.comb(i, 4, exact=True) for i in range(n)]\n",
    "    coefl5 = 0.2 / sp.special.comb(n, 5, exact=True)\n",
    "    sum_xtrans = sum(\n",
    "        [\n",
    "            (\n",
    "                comb7[i]\n",
    "                - 4 * comb5[i] * comb1[n - i - 1]\n",
    "                + 6 * comb3[i] * comb3[n - i - 1]\n",
    "                - 4 * comb1[i] * comb5[n - i - 1]\n",
    "                + comb7[n - i - 1]\n",
    "            )\n",
    "            * x[i]\n",
    "            for i in range(n)\n",
    "        ]\n",
    "    )\n",
    "    l5 = coefl5 * sum_xtrans / l2\n",
    "\n",
    "    return np.array([l1, l2, l3, l4, l5])"
   ]
  },
  {
   "cell_type": "code",
   "execution_count": 42,
   "metadata": {},
   "outputs": [],
   "source": [
    "@nb.njit(parallel=True,cache=True)\n",
    "def get_lmoments_jit(x:np.ndarray, nmom:int=5) -> np.ndarray:\n",
    "\n",
    "    x = np.asarray(x, dtype=np.float64)\n",
    "    n = x.shape[0]\n",
    "\n",
    "    with nb.objmode(x='float64[:,:,:]'):\n",
    "        x = np.sort(x,axis=0)\n",
    "    \n",
    "    sum_xtrans = np.empty_like(x[0])\n",
    "\n",
    "    def comb(n, r):\n",
    "        if r < 0 or r > n:\n",
    "            return 0\n",
    "        if r == 0 or r == n:\n",
    "            return 1\n",
    "        c = 1\n",
    "        for i in range(1, r + 1):\n",
    "            c = c * (n - i + 1) // i\n",
    "        return c\n",
    "\n",
    "    # First L-moment\n",
    "\n",
    "    l1 = np.sum(x,axis=0) / comb(n, 1)\n",
    "\n",
    "    if nmom == 1:\n",
    "        return l1\n",
    "\n",
    "    # Second L-moment\n",
    "\n",
    "    comb1 = np.arange(n)\n",
    "    coefl2 = 0.5 / comb(n, 2)\n",
    "    sum_xtrans[:] = 0\n",
    "    for i in nb.prange(n):\n",
    "        sum_xtrans += (comb1[i] - comb1[n - 1 - i]) * x[i]\n",
    "    l2 = coefl2 * sum_xtrans\n",
    "\n",
    "    if nmom == 2:\n",
    "        return l2\n",
    "\n",
    "    # Third L-moment\n",
    "\n",
    "    comb3 = np.zeros(n)\n",
    "    for i in range(n):\n",
    "        comb3[i] = comb(i, 2)\n",
    "    coefl3 = 1.0 / 3.0 / comb(n, 3)\n",
    "    sum_xtrans[:] = 0\n",
    "    for i in nb.prange(n):\n",
    "        sum_xtrans += (\n",
    "            comb3[i] - 2 * comb1[i] * comb1[n - 1 - i] + comb3[n - 1 - i]\n",
    "        ) * x[i]\n",
    "    l3 = coefl3 * sum_xtrans / l2\n",
    "\n",
    "    if nmom == 3:\n",
    "        return l3\n",
    "\n",
    "    # Fourth L-moment\n",
    "\n",
    "    comb5 = np.zeros(n)\n",
    "    for i in range(n):\n",
    "        comb5[i] = comb(i, 3)\n",
    "    coefl4 = 0.25 / comb(n, 4)\n",
    "    sum_xtrans[:] = 0\n",
    "    for i in nb.prange(n):\n",
    "        sum_xtrans += (\n",
    "            comb5[i]\n",
    "            - 3 * comb3[i] * comb1[n - 1 - i]\n",
    "            + 3 * comb1[i] * comb3[n - 1 - i]\n",
    "            - comb5[n - 1 - i]\n",
    "        ) * x[i]\n",
    "    l4 = coefl4 * sum_xtrans / l2\n",
    "\n",
    "    if nmom == 4:\n",
    "        return l4\n",
    "\n",
    "    # Fifth L-moment\n",
    "\n",
    "    comb7 = np.zeros(n)\n",
    "    for i in range(n):\n",
    "        comb7[i] = comb(i, 4)\n",
    "    coefl5 = 0.2 / comb(n, 5)\n",
    "    sum_xtrans[:] = 0\n",
    "    for i in nb.prange(n):\n",
    "        sum_xtrans += (\n",
    "            comb7[i]\n",
    "            - 4 * comb5[i] * comb1[n - 1 - i]\n",
    "            + 6 * comb3[i] * comb3[n - 1 - i]\n",
    "            - 4 * comb1[i] * comb5[n - 1 - i]\n",
    "            + comb7[n - 1 - i]\n",
    "        ) * x[i]\n",
    "\n",
    "    l5 = coefl5 * sum_xtrans / l2\n",
    "\n",
    "    return l5"
   ]
  },
  {
   "cell_type": "code",
   "execution_count": 22,
   "metadata": {},
   "outputs": [],
   "source": [
    "testdata = np.random.rand(192,1000,1000)"
   ]
  },
  {
   "cell_type": "code",
   "execution_count": 23,
   "metadata": {},
   "outputs": [
    {
     "data": {
      "text/plain": [
       "array([[ 0.01249427,  0.00118409,  0.00218354, ...,  0.00743184,\n",
       "         0.00754632,  0.01475133],\n",
       "       [-0.02763869,  0.00173636,  0.00074973, ...,  0.00526861,\n",
       "        -0.00975529,  0.00676357],\n",
       "       [-0.01350876, -0.00120716,  0.01341589, ..., -0.00107287,\n",
       "        -0.00493901, -0.01149845],\n",
       "       ...,\n",
       "       [ 0.01836404, -0.00982705,  0.00175418, ..., -0.00675716,\n",
       "         0.00569623, -0.00643706],\n",
       "       [-0.00810628, -0.00389847, -0.01430677, ..., -0.01311679,\n",
       "        -0.0063086 , -0.00173842],\n",
       "       [-0.00242868,  0.02011434,  0.0005192 , ..., -0.00102343,\n",
       "        -0.02688147, -0.00956572]])"
      ]
     },
     "execution_count": 23,
     "metadata": {},
     "output_type": "execute_result"
    }
   ],
   "source": [
    "get_lmoments(testdata.copy(),nmom=5)[4]"
   ]
  },
  {
   "cell_type": "code",
   "execution_count": 44,
   "metadata": {},
   "outputs": [
    {
     "data": {
      "text/plain": [
       "array([[ 0.01249427,  0.00118409,  0.00218354, ...,  0.00743184,\n",
       "         0.00754632,  0.01475133],\n",
       "       [-0.02763869,  0.00173636,  0.00074973, ...,  0.00526861,\n",
       "        -0.00975529,  0.00676357],\n",
       "       [-0.01350876, -0.00120716,  0.01341589, ..., -0.00107287,\n",
       "        -0.00493901, -0.01149845],\n",
       "       ...,\n",
       "       [ 0.01836404, -0.00982705,  0.00175418, ..., -0.00675716,\n",
       "         0.00569623, -0.00643706],\n",
       "       [-0.00810628, -0.00389847, -0.01430677, ..., -0.01311679,\n",
       "        -0.0063086 , -0.00173842],\n",
       "       [-0.00242868,  0.02011434,  0.0005192 , ..., -0.00102343,\n",
       "        -0.02688147, -0.00956572]])"
      ]
     },
     "execution_count": 44,
     "metadata": {},
     "output_type": "execute_result"
    }
   ],
   "source": [
    "get_lmoments_jit(testdata.copy(),nmom=5)"
   ]
  },
  {
   "cell_type": "code",
   "execution_count": 47,
   "metadata": {},
   "outputs": [
    {
     "name": "stdout",
     "output_type": "stream",
     "text": [
      "4.7 s ± 31.4 ms per loop (mean ± std. dev. of 7 runs, 1 loop each)\n"
     ]
    }
   ],
   "source": [
    "%timeit get_lmoments_jit(testdata,nmom=5)"
   ]
  },
  {
   "cell_type": "code",
   "execution_count": 46,
   "metadata": {},
   "outputs": [
    {
     "name": "stdout",
     "output_type": "stream",
     "text": [
      "5.25 s ± 90.9 ms per loop (mean ± std. dev. of 7 runs, 1 loop each)\n"
     ]
    }
   ],
   "source": [
    "%timeit get_lmoments(testdata,nmom=5)"
   ]
  }
 ],
 "metadata": {
  "kernelspec": {
   "display_name": "gis",
   "language": "python",
   "name": "python3"
  },
  "language_info": {
   "codemirror_mode": {
    "name": "ipython",
    "version": 3
   },
   "file_extension": ".py",
   "mimetype": "text/x-python",
   "name": "python",
   "nbconvert_exporter": "python",
   "pygments_lexer": "ipython3",
   "version": "3.10.12"
  },
  "orig_nbformat": 4
 },
 "nbformat": 4,
 "nbformat_minor": 2
}

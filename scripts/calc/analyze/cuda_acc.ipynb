{
 "cells": [
  {
   "cell_type": "code",
   "execution_count": 6,
   "metadata": {},
   "outputs": [],
   "source": [
    "import numpy as np\n",
    "import cupy as cp"
   ]
  },
  {
   "cell_type": "code",
   "execution_count": 7,
   "metadata": {},
   "outputs": [],
   "source": [
    "a = np.random.rand(10000, 10000)\n",
    "b = np.random.rand(10000, 10000)"
   ]
  },
  {
   "cell_type": "code",
   "execution_count": 8,
   "metadata": {},
   "outputs": [],
   "source": [
    "a_cp = cp.asarray(a)\n",
    "b_cp = cp.asarray(b)"
   ]
  },
  {
   "cell_type": "code",
   "execution_count": 9,
   "metadata": {},
   "outputs": [
    {
     "data": {
      "text/plain": [
       "dtype('float64')"
      ]
     },
     "execution_count": 9,
     "metadata": {},
     "output_type": "execute_result"
    }
   ],
   "source": [
    "a_cp.dtype"
   ]
  },
  {
   "cell_type": "code",
   "execution_count": 10,
   "metadata": {},
   "outputs": [
    {
     "data": {
      "text/plain": [
       "array([[2491.62912246, 2490.58376723, 2480.23501531, ..., 2519.76503637,\n",
       "        2494.10484638, 2482.53009635],\n",
       "       [2508.26594542, 2493.82049798, 2496.90886644, ..., 2505.59996962,\n",
       "        2512.57084948, 2511.23909535],\n",
       "       [2500.56225949, 2515.75242297, 2501.29144179, ..., 2511.27357152,\n",
       "        2510.26958398, 2499.68394487],\n",
       "       ...,\n",
       "       [2506.22986642, 2496.48540103, 2487.26915338, ..., 2502.01777307,\n",
       "        2491.57361555, 2488.72464289],\n",
       "       [2504.83750696, 2490.22020682, 2489.32901008, ..., 2510.95131646,\n",
       "        2507.26414958, 2490.34082973],\n",
       "       [2535.58428012, 2523.76121651, 2514.22280507, ..., 2527.45903397,\n",
       "        2526.36138862, 2527.87084994]])"
      ]
     },
     "execution_count": 10,
     "metadata": {},
     "output_type": "execute_result"
    }
   ],
   "source": [
    "np.dot(a, b)"
   ]
  },
  {
   "cell_type": "code",
   "execution_count": 11,
   "metadata": {},
   "outputs": [
    {
     "data": {
      "text/plain": [
       "array([[2491.62912246, 2490.58376723, 2480.23501531, ..., 2519.76503637,\n",
       "        2494.10484638, 2482.53009635],\n",
       "       [2508.26594542, 2493.82049798, 2496.90886644, ..., 2505.59996962,\n",
       "        2512.57084948, 2511.23909535],\n",
       "       [2500.56225949, 2515.75242297, 2501.29144179, ..., 2511.27357152,\n",
       "        2510.26958398, 2499.68394487],\n",
       "       ...,\n",
       "       [2506.22986642, 2496.48540103, 2487.26915338, ..., 2502.01777307,\n",
       "        2491.57361555, 2488.72464289],\n",
       "       [2504.83750696, 2490.22020682, 2489.32901008, ..., 2510.95131646,\n",
       "        2507.26414958, 2490.34082973],\n",
       "       [2535.58428012, 2523.76121651, 2514.22280507, ..., 2527.45903397,\n",
       "        2526.36138862, 2527.87084994]])"
      ]
     },
     "execution_count": 11,
     "metadata": {},
     "output_type": "execute_result"
    }
   ],
   "source": [
    "cp.dot(a_cp, b_cp)"
   ]
  }
 ],
 "metadata": {
  "kernelspec": {
   "display_name": "gis",
   "language": "python",
   "name": "python3"
  },
  "language_info": {
   "codemirror_mode": {
    "name": "ipython",
    "version": 3
   },
   "file_extension": ".py",
   "mimetype": "text/x-python",
   "name": "python",
   "nbconvert_exporter": "python",
   "pygments_lexer": "ipython3",
   "version": "3.10.13"
  }
 },
 "nbformat": 4,
 "nbformat_minor": 2
}

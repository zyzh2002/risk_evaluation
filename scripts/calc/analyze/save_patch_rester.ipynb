{
 "cells": [
  {
   "cell_type": "code",
   "execution_count": 19,
   "metadata": {},
   "outputs": [],
   "source": [
    "import xarray as xr\n",
    "import numpy as np\n",
    "import scipy as sp\n",
    "import matplotlib.pyplot as plt\n",
    "import rioxarray"
   ]
  },
  {
   "cell_type": "code",
   "execution_count": 32,
   "metadata": {},
   "outputs": [],
   "source": [
    "def make_netcdf(filename,savepath):\n",
    "    mat=np.load(filename)\n",
    "    ds = xr.Dataset(\n",
    "    {\n",
    "        \"patch_number\":([\"y\",\"x\"],mat)\n",
    "    },\n",
    "    coords={\n",
    "        \"y\":np.linspace(43,28,num=mat.shape[0]),\n",
    "        \"x\":np.linspace(110,123,num=mat.shape[1])\n",
    "    }\n",
    "    )\n",
    "    ds.rio.write_crs(\"epsg:4326\", inplace=True).rio.set_spatial_dims(x_dim=\"x\", y_dim=\"y\", inplace=True).rio.write_coordinate_system(inplace=True)\n",
    "    return ds.to_netcdf(savepath)"
   ]
  },
  {
   "cell_type": "code",
   "execution_count": 35,
   "metadata": {},
   "outputs": [
    {
     "name": "stdout",
     "output_type": "stream",
     "text": [
      "Processing usage1.npy\n",
      "Processing usage2.npy\n",
      "Processing usage3.npy\n",
      "Processing usage4.npy\n",
      "Processing usage5.npy\n",
      "Processing usage6.npy\n",
      "Processing usage7.npy\n",
      "Processing usage8.npy\n",
      "Processing usage9.npy\n"
     ]
    }
   ],
   "source": [
    "for i in range(1,10):\n",
    "    print(\"Processing usage\"+str(i)+\".npy\")\n",
    "    filename = \"/home/zyzh0/coding/risk_evaluation/scripts/calc/analyze/\"+str(i)+\".npy\"\n",
    "    savepath = \"/home/zyzh0/coding/risk_evaluation/scripts/outputs/TYPE-PATCHES/usage\"+str(i)+\".nc\"\n",
    "    make_netcdf(filename,savepath)"
   ]
  }
 ],
 "metadata": {
  "kernelspec": {
   "display_name": "gis",
   "language": "python",
   "name": "python3"
  },
  "language_info": {
   "codemirror_mode": {
    "name": "ipython",
    "version": 3
   },
   "file_extension": ".py",
   "mimetype": "text/x-python",
   "name": "python",
   "nbconvert_exporter": "python",
   "pygments_lexer": "ipython3",
   "version": "3.10.12"
  },
  "orig_nbformat": 4
 },
 "nbformat": 4,
 "nbformat_minor": 2
}

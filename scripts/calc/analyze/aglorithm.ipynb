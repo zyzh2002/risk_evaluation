{
 "cells": [
  {
   "cell_type": "markdown",
   "metadata": {},
   "source": [
    "这是GPU计算SPEI的验证性质脚本"
   ]
  },
  {
   "cell_type": "code",
   "execution_count": 1,
   "metadata": {},
   "outputs": [],
   "source": [
    "import numpy as np\n",
    "import scipy as sp\n",
    "import pandas as pd\n",
    "import matplotlib.pyplot as plt\n",
    "import numba as nb\n",
    "import torch\n",
    "import xarray as xr\n",
    "import dask as dk\n",
    "import multiprocessing as mp\n",
    "import os\n",
    "import rasterio as rio\n",
    "import rioxarray as rxr\n",
    "import time\n",
    "from numpy import inf\n",
    "import lmoments3 as lm\n",
    "from lmoments3 import distr"
   ]
  },
  {
   "cell_type": "markdown",
   "metadata": {},
   "source": [
    "检测CUDA状态并设置默认设备"
   ]
  },
  {
   "cell_type": "code",
   "execution_count": 2,
   "metadata": {},
   "outputs": [],
   "source": [
    "if torch.cuda.is_available():\n",
    "    torch.set_default_device('cuda')\n",
    "else:\n",
    "    torch.set_default_device('cpu')"
   ]
  },
  {
   "cell_type": "markdown",
   "metadata": {},
   "source": [
    "读入示例数据"
   ]
  },
  {
   "cell_type": "code",
   "execution_count": 3,
   "metadata": {},
   "outputs": [],
   "source": [
    "\n",
    "def read_precip():\n",
    "    data_frame_list = []    \n",
    "    for i in os.listdir(os.path.join(\"..\",\"..\",\"..\",\"scripts/outputs/PRECIP\")):\n",
    "        filename  = os.path.join(\"..\",\"..\",\"..\",\"scripts/outputs/PRECIP\",i)\n",
    "        data_frame = xr.open_dataset(filename,decode_coords=\"all\").to_array()[0,:,:,:]\n",
    "        data_frame_list.append(data_frame)\n",
    "    return np.concatenate(data_frame_list,axis=0)\n",
    "\n",
    "def read_pet():\n",
    "    data_frame_list = []\n",
    "    for i in os.listdir(os.path.join(\"..\",\"..\",\"..\",\"scripts\",\"outputs\",\"PET\")):\n",
    "        data_frame_list.append(xr.open_dataset(os.path.join(\"..\",\"..\",\"..\",\"scripts\",\"outputs\",\"PET\",i),decode_coords=\"all\").to_array())\n",
    "    return np.concatenate(data_frame_list,axis=0)"
   ]
  },
  {
   "cell_type": "code",
   "execution_count": 4,
   "metadata": {},
   "outputs": [],
   "source": [
    "pre_frame = read_precip()[0:192,:,:]*0.1\n",
    "pet_frame = read_pet()"
   ]
  },
  {
   "cell_type": "code",
   "execution_count": 5,
   "metadata": {},
   "outputs": [
    {
     "name": "stdout",
     "output_type": "stream",
     "text": [
      "(192, 1800, 1560)\n",
      "(192, 1800, 1560)\n"
     ]
    }
   ],
   "source": [
    "print(pre_frame.shape)\n",
    "print(pet_frame.shape)"
   ]
  },
  {
   "cell_type": "code",
   "execution_count": 6,
   "metadata": {},
   "outputs": [],
   "source": [
    "d_frame=np.float64(pre_frame-pet_frame)"
   ]
  },
  {
   "cell_type": "code",
   "execution_count": 7,
   "metadata": {},
   "outputs": [],
   "source": [
    "d_seq  = d_frame[:,500,500]"
   ]
  },
  {
   "cell_type": "code",
   "execution_count": 8,
   "metadata": {},
   "outputs": [
    {
     "name": "stdout",
     "output_type": "stream",
     "text": [
      "Time used:  0.0007927417755126953\n"
     ]
    }
   ],
   "source": [
    "time_start = time.time()\n",
    "lm_gev_para = distr.gev.lmom_fit(d_seq)\n",
    "time_end = time.time()\n",
    "print(\"Time used: \",time_end-time_start)"
   ]
  },
  {
   "cell_type": "code",
   "execution_count": 9,
   "metadata": {},
   "outputs": [
    {
     "name": "stdout",
     "output_type": "stream",
     "text": [
      "OrderedDict([('c', 0.15344439237098156), ('loc', -173.07769371741585), ('scale', 80.47461026095075)])\n"
     ]
    }
   ],
   "source": [
    "print(lm_gev_para)"
   ]
  },
  {
   "cell_type": "code",
   "execution_count": 10,
   "metadata": {},
   "outputs": [],
   "source": [
    "lm_dist = distr.gev(**lm_gev_para)\n",
    "lm_ppf = np.linspace(lm_dist.ppf(0.01),lm_dist.ppf(0.99))"
   ]
  },
  {
   "cell_type": "code",
   "execution_count": 11,
   "metadata": {},
   "outputs": [
    {
     "data": {
      "text/plain": [
       "(-287.0, 114.0)"
      ]
     },
     "execution_count": 11,
     "metadata": {},
     "output_type": "execute_result"
    },
    {
     "data": {
      "image/png": "[encoded data removed]",
      "text/plain": [
       "<Figure size 640x480 with 1 Axes>"
      ]
     },
     "metadata": {},
     "output_type": "display_data"
    }
   ],
   "source": [
    "plt.plot(lm_ppf,lm_dist.cdf(lm_ppf),label=\"LM\")\n",
    "plt.hist(d_seq,bins=100,density=True,label=\"Data\",cumulative=True)\n",
    "plt.legend()\n",
    "plt.xlim(-287,114)\n",
    "#plt.ylim(0,0.1)"
   ]
  },
  {
   "cell_type": "code",
   "execution_count": 12,
   "metadata": {},
   "outputs": [
    {
     "name": "stdout",
     "output_type": "stream",
     "text": [
      "0.15290487059347815\n",
      "80.57746410978937\n",
      "-173.06582407576286\n",
      "totally cost 0.0010590553283691406\n"
     ]
    }
   ],
   "source": [
    "time_start=time.time()\n",
    "def get_lm_paras(d_seq):\n",
    "    lm_est = lm.lmom_ratios(d_seq,3)\n",
    "    kappa = (0.488138*lm_est[2]**1.70839)-(1.7631*lm_est[2]**0.981824)+0.285706\n",
    "    print(kappa)\n",
    "    alpha = (1.023602813*lm_est[2]**1.8850974-2.95087636*lm_est[2]**1.195591244+1.759614982)*lm_est[1]\n",
    "    print(alpha)\n",
    "    zeta = (-0.0937*lm_est[2]**4-0.2198*lm_est[2]**3+1.407*lm_est[2]**2-1.4825*lm_est[2]-0.6205)*lm_est[1]+lm_est[0]\n",
    "    print(zeta)\n",
    "    return [kappa,zeta,alpha]\n",
    "\n",
    "lm_para=get_lm_paras(d_seq)\n",
    "time_end=time.time()\n",
    "print('totally cost',time_end-time_start)"
   ]
  },
  {
   "cell_type": "code",
   "execution_count": 13,
   "metadata": {},
   "outputs": [],
   "source": [
    "def samlmusmall(x, nmom=5):\n",
    "    try:\n",
    "        x = np.asarray(x, dtype=np.float64)\n",
    "        n = x.shape[0]\n",
    "        x.sort(axis=0)\n",
    "    except ValueError:\n",
    "        raise ValueError(\"Input data to estimate L-moments must be numeric.\")\n",
    "\n",
    "    if nmom <= 0 or nmom > 5:\n",
    "        raise ValueError(\"Invalid number of sample L-moments\")\n",
    "\n",
    "    if n < nmom:\n",
    "        raise ValueError(\"Insufficient length of data for specified nmoments\")\n",
    "\n",
    "    # First L-moment\n",
    "\n",
    "    l1 = np.sum(x,axis=0) / sp.special.comb(n, 1, exact=True)\n",
    "\n",
    "    if nmom == 1:\n",
    "        return l1\n",
    "\n",
    "    # Second L-moment\n",
    "\n",
    "    comb1 = range(n)\n",
    "    coefl2 = 0.5 / sp.special.comb(n, 2, exact=True)\n",
    "    sum_xtrans = sum([(comb1[i] - comb1[n - i - 1]) * x[i] for i in range(n)])\n",
    "    l2 = coefl2 * sum_xtrans\n",
    "\n",
    "    if nmom == 2:\n",
    "        return [l1, l2]\n",
    "\n",
    "    # Third L-moment\n",
    "\n",
    "    comb3 = [sp.special.comb(i, 2, exact=True) for i in range(n)]\n",
    "    coefl3 = 1.0 / 3.0 / sp.special.comb(n, 3, exact=True)\n",
    "    sum_xtrans = sum(\n",
    "        [\n",
    "            (comb3[i] - 2 * comb1[i] * comb1[n - i - 1] + comb3[n - i - 1]) * x[i]\n",
    "            for i in range(n)\n",
    "        ]\n",
    "    )\n",
    "    l3 = coefl3 * sum_xtrans / l2\n",
    "\n",
    "    if nmom == 3:\n",
    "        return [l1, l2, l3]\n",
    "\n",
    "    # Fourth L-moment\n",
    "\n",
    "    comb5 = [sp.special.comb(i, 3, exact=True) for i in range(n)]\n",
    "    coefl4 = 0.25 / sp.special.comb(n, 4, exact=True)\n",
    "    sum_xtrans = sum(\n",
    "        [\n",
    "            (\n",
    "                comb5[i]\n",
    "                - 3 * comb3[i] * comb1[n - i - 1]\n",
    "                + 3 * comb1[i] * comb3[n - i - 1]\n",
    "                - comb5[n - i - 1]\n",
    "            )\n",
    "            * x[i]\n",
    "            for i in range(n)\n",
    "        ]\n",
    "    )\n",
    "    l4 = coefl4 * sum_xtrans / l2\n",
    "\n",
    "    if nmom == 4:\n",
    "        return [l1, l2, l3, l4]\n",
    "\n",
    "    # Fifth L-moment\n",
    "\n",
    "    comb7 = [sp.special.comb(i, 4, exact=True) for i in range(n)]\n",
    "    coefl5 = 0.2 / sp.special.comb(n, 5, exact=True)\n",
    "    sum_xtrans = sum(\n",
    "        [\n",
    "            (\n",
    "                comb7[i]\n",
    "                - 4 * comb5[i] * comb1[n - i - 1]\n",
    "                + 6 * comb3[i] * comb3[n - i - 1]\n",
    "                - 4 * comb1[i] * comb5[n - i - 1]\n",
    "                + comb7[n - i - 1]\n",
    "            )\n",
    "            * x[i]\n",
    "            for i in range(n)\n",
    "        ]\n",
    "    )\n",
    "    l5 = coefl5 * sum_xtrans / l2\n",
    "\n",
    "    return [l1, l2, l3, l4, l5]"
   ]
  },
  {
   "cell_type": "code",
   "execution_count": 16,
   "metadata": {},
   "outputs": [],
   "source": [
    "lm_est = samlmusmall(d_frame,3)"
   ]
  }
 ],
 "metadata": {
  "kernelspec": {
   "display_name": "gis",
   "language": "python",
   "name": "python3"
  },
  "language_info": {
   "codemirror_mode": {
    "name": "ipython",
    "version": 3
   },
   "file_extension": ".py",
   "mimetype": "text/x-python",
   "name": "python",
   "nbconvert_exporter": "python",
   "pygments_lexer": "ipython3",
   "version": "3.11.4"
  },
  "orig_nbformat": 4
 },
 "nbformat": 4,
 "nbformat_minor": 2
}

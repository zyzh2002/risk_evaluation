{
 "cells": [
  {
   "cell_type": "markdown",
   "metadata": {},
   "source": [
    "这是GPU计算SPEI的验证性质脚本"
   ]
  },
  {
   "cell_type": "code",
   "execution_count": 113,
   "metadata": {},
   "outputs": [],
   "source": [
    "import numpy as np\n",
    "import scipy as sp\n",
    "import pandas as pd\n",
    "import matplotlib.pyplot as plt\n",
    "import numba as nb\n",
    "import torch\n",
    "import xarray as xr\n",
    "import dask as dk\n",
    "import multiprocessing as mp\n",
    "import os\n",
    "import rasterio as rio\n",
    "import rioxarray as rxr\n",
    "import time\n",
    "from numpy import inf\n",
    "import lmoments3 as lm\n",
    "from lmoments3 import distr\n",
    "from numba_stats import norm"
   ]
  },
  {
   "cell_type": "markdown",
   "metadata": {},
   "source": [
    "检测CUDA状态并设置默认设备"
   ]
  },
  {
   "cell_type": "code",
   "execution_count": 3,
   "metadata": {},
   "outputs": [],
   "source": [
    "if torch.cuda.is_available():\n",
    "    torch.set_default_device('cuda')\n",
    "else:\n",
    "    torch.set_default_device('cpu')"
   ]
  },
  {
   "cell_type": "markdown",
   "metadata": {},
   "source": [
    "读入示例数据"
   ]
  },
  {
   "cell_type": "code",
   "execution_count": 4,
   "metadata": {},
   "outputs": [],
   "source": [
    "\n",
    "def read_precip():\n",
    "    data_frame_list = []    \n",
    "    for i in os.listdir(os.path.join(\"..\",\"..\",\"..\",\"scripts/outputs/PRECIP\")):\n",
    "        filename  = os.path.join(\"..\",\"..\",\"..\",\"scripts/outputs/PRECIP\",i)\n",
    "        data_frame = xr.open_dataset(filename,decode_coords=\"all\").to_array()[0,:,:,:]\n",
    "        data_frame_list.append(data_frame)\n",
    "    return np.concatenate(data_frame_list,axis=0)\n",
    "\n",
    "def read_pet():\n",
    "    data_frame_list = []\n",
    "    for i in os.listdir(os.path.join(\"..\",\"..\",\"..\",\"scripts\",\"outputs\",\"PET\")):\n",
    "        data_frame_list.append(xr.open_dataset(os.path.join(\"..\",\"..\",\"..\",\"scripts\",\"outputs\",\"PET\",i),decode_coords=\"all\").to_array())\n",
    "    return np.concatenate(data_frame_list,axis=0)"
   ]
  },
  {
   "cell_type": "code",
   "execution_count": 5,
   "metadata": {},
   "outputs": [],
   "source": [
    "pre_frame = read_precip()[0:192,:,:]*0.1\n",
    "pet_frame = read_pet()"
   ]
  },
  {
   "cell_type": "code",
   "execution_count": 6,
   "metadata": {},
   "outputs": [
    {
     "name": "stdout",
     "output_type": "stream",
     "text": [
      "(192, 1800, 1560)\n",
      "(192, 1800, 1560)\n"
     ]
    }
   ],
   "source": [
    "print(pre_frame.shape)\n",
    "print(pet_frame.shape)"
   ]
  },
  {
   "cell_type": "code",
   "execution_count": 7,
   "metadata": {},
   "outputs": [],
   "source": [
    "d_frame=np.float64(pre_frame-pet_frame)"
   ]
  },
  {
   "cell_type": "code",
   "execution_count": 8,
   "metadata": {},
   "outputs": [],
   "source": [
    "d_seq  = d_frame[:,500,500]"
   ]
  },
  {
   "cell_type": "code",
   "execution_count": 9,
   "metadata": {},
   "outputs": [
    {
     "name": "stdout",
     "output_type": "stream",
     "text": [
      "Time used:  0.002919435501098633\n"
     ]
    }
   ],
   "source": [
    "time_start = time.time()\n",
    "lm_gev_para = distr.gev.lmom_fit(d_seq)\n",
    "time_end = time.time()\n",
    "print(\"Time used: \",time_end-time_start)"
   ]
  },
  {
   "cell_type": "code",
   "execution_count": 10,
   "metadata": {},
   "outputs": [
    {
     "name": "stdout",
     "output_type": "stream",
     "text": [
      "OrderedDict([('c', 0.15344439237098156), ('loc', -173.07769371741585), ('scale', 80.47461026095075)])\n"
     ]
    }
   ],
   "source": [
    "print(lm_gev_para)"
   ]
  },
  {
   "cell_type": "code",
   "execution_count": 11,
   "metadata": {},
   "outputs": [],
   "source": [
    "lm_dist = distr.gev(**lm_gev_para)\n",
    "lm_ppf = np.linspace(lm_dist.ppf(0.01),lm_dist.ppf(0.99))"
   ]
  },
  {
   "cell_type": "code",
   "execution_count": 12,
   "metadata": {},
   "outputs": [
    {
     "name": "stdout",
     "output_type": "stream",
     "text": [
      "totally cost 0.0012366771697998047\n"
     ]
    }
   ],
   "source": [
    "time_start=time.time()\n",
    "def get_lm_paras(d_seq):\n",
    "    lm_est = lm.lmom_ratios(d_seq,3)\n",
    "    kappa = (0.488138*lm_est[2]**1.70839)-(1.7631*lm_est[2]**0.981824)+0.285706\n",
    "    alpha = (1.023602813*lm_est[2]**1.8850974-2.95087636*lm_est[2]**1.195591244+1.759614982)*lm_est[1]\n",
    "    zeta = (-0.0937*lm_est[2]**4-0.2198*lm_est[2]**3+1.407*lm_est[2]**2-1.4825*lm_est[2]-0.6205)*lm_est[1]+lm_est[0]\n",
    "    return [kappa,zeta,alpha]\n",
    "\n",
    "lm_para=get_lm_paras(d_seq)\n",
    "time_end=time.time()\n",
    "print('totally cost',time_end-time_start)"
   ]
  },
  {
   "cell_type": "code",
   "execution_count": 13,
   "metadata": {},
   "outputs": [
    {
     "name": "stdout",
     "output_type": "stream",
     "text": [
      "totally cost 0.11609911918640137\n"
     ]
    }
   ],
   "source": [
    "time_start=time.time()\n",
    "mle_paras = sp.stats.genextreme.fit(d_seq)\n",
    "time_end=time.time()\n",
    "print('totally cost',time_end-time_start)"
   ]
  },
  {
   "cell_type": "code",
   "execution_count": 14,
   "metadata": {},
   "outputs": [
    {
     "data": {
      "text/plain": [
       "(-287.0, 114.0)"
      ]
     },
     "execution_count": 14,
     "metadata": {},
     "output_type": "execute_result"
    },
    {
     "data": {
      "image/png": "[encoded data removed]",
      "text/plain": [
       "<Figure size 640x480 with 1 Axes>"
      ]
     },
     "metadata": {},
     "output_type": "display_data"
    }
   ],
   "source": [
    "plt.plot(lm_ppf,lm_dist.cdf(lm_ppf),label=\"L-moments\")\n",
    "plt.plot(lm_ppf,sp.stats.genextreme.cdf(lm_ppf,*mle_paras),label=\"SciPy, MLE\",linestyle=\"--\")\n",
    "plt.hist(d_seq,bins=100,density=True,label=\"Data\",cumulative=True,color=\"green\",alpha=0.5)\n",
    "plt.legend()\n",
    "plt.xlim(-287,114)"
   ]
  },
  {
   "cell_type": "code",
   "execution_count": 15,
   "metadata": {},
   "outputs": [],
   "source": [
    "def samlmusmall(x, nmom=5):\n",
    "    try:\n",
    "        x = np.asarray(x, dtype=np.float64)\n",
    "        n = x.shape[0]\n",
    "        x.sort(axis=0)\n",
    "    except ValueError:\n",
    "        raise ValueError(\"Input data to estimate L-moments must be numeric.\")\n",
    "\n",
    "    if nmom <= 0 or nmom > 5:\n",
    "        raise ValueError(\"Invalid number of sample L-moments\")\n",
    "\n",
    "    if n < nmom:\n",
    "        raise ValueError(\"Insufficient length of data for specified nmoments\")\n",
    "\n",
    "    # First L-moment\n",
    "\n",
    "    l1 = np.sum(x,axis=0) / sp.special.comb(n, 1, exact=True)\n",
    "\n",
    "    if nmom == 1:\n",
    "        return l1\n",
    "\n",
    "    # Second L-moment\n",
    "\n",
    "    comb1 = range(n)\n",
    "    coefl2 = 0.5 / sp.special.comb(n, 2, exact=True)\n",
    "    sum_xtrans = sum([(comb1[i] - comb1[n - i - 1]) * x[i] for i in range(n)])\n",
    "    l2 = coefl2 * sum_xtrans\n",
    "\n",
    "    if nmom == 2:\n",
    "        return [l1, l2]\n",
    "\n",
    "    # Third L-moment\n",
    "\n",
    "    comb3 = [sp.special.comb(i, 2, exact=True) for i in range(n)]\n",
    "    coefl3 = 1.0 / 3.0 / sp.special.comb(n, 3, exact=True)\n",
    "    sum_xtrans = sum(\n",
    "        [\n",
    "            (comb3[i] - 2 * comb1[i] * comb1[n - i - 1] + comb3[n - i - 1]) * x[i]\n",
    "            for i in range(n)\n",
    "        ]\n",
    "    )\n",
    "    l3 = coefl3 * sum_xtrans / l2\n",
    "\n",
    "    if nmom == 3:\n",
    "        return [l1, l2, l3]\n",
    "\n",
    "    # Fourth L-moment\n",
    "\n",
    "    comb5 = [sp.special.comb(i, 3, exact=True) for i in range(n)]\n",
    "    coefl4 = 0.25 / sp.special.comb(n, 4, exact=True)\n",
    "    sum_xtrans = sum(\n",
    "        [\n",
    "            (\n",
    "                comb5[i]\n",
    "                - 3 * comb3[i] * comb1[n - i - 1]\n",
    "                + 3 * comb1[i] * comb3[n - i - 1]\n",
    "                - comb5[n - i - 1]\n",
    "            )\n",
    "            * x[i]\n",
    "            for i in range(n)\n",
    "        ]\n",
    "    )\n",
    "    l4 = coefl4 * sum_xtrans / l2\n",
    "\n",
    "    if nmom == 4:\n",
    "        return [l1, l2, l3, l4]\n",
    "\n",
    "    # Fifth L-moment\n",
    "\n",
    "    comb7 = [sp.special.comb(i, 4, exact=True) for i in range(n)]\n",
    "    coefl5 = 0.2 / sp.special.comb(n, 5, exact=True)\n",
    "    sum_xtrans = sum(\n",
    "        [\n",
    "            (\n",
    "                comb7[i]\n",
    "                - 4 * comb5[i] * comb1[n - i - 1]\n",
    "                + 6 * comb3[i] * comb3[n - i - 1]\n",
    "                - 4 * comb1[i] * comb5[n - i - 1]\n",
    "                + comb7[n - i - 1]\n",
    "            )\n",
    "            * x[i]\n",
    "            for i in range(n)\n",
    "        ]\n",
    "    )\n",
    "    l5 = coefl5 * sum_xtrans / l2\n",
    "\n",
    "    return [l1, l2, l3, l4, l5]"
   ]
  },
  {
   "cell_type": "code",
   "execution_count": 16,
   "metadata": {},
   "outputs": [],
   "source": [
    "gev_paras = np.load(\"../../../scripts/outputs/para_mat.npy\")"
   ]
  },
  {
   "cell_type": "code",
   "execution_count": 17,
   "metadata": {},
   "outputs": [
    {
     "data": {
      "text/plain": [
       "array([ 1.52904871e-01, -1.73065824e+02,  8.05774641e+01])"
      ]
     },
     "execution_count": 17,
     "metadata": {},
     "output_type": "execute_result"
    }
   ],
   "source": [
    "gev_paras[:,500,500]"
   ]
  },
  {
   "cell_type": "code",
   "execution_count": 82,
   "metadata": {},
   "outputs": [],
   "source": [
    "def genextreme_pdf(x, c, loc=0, scale=1):\n",
    "    # Use the general formula\n",
    "    z = 1 - c * (x - loc) / scale\n",
    "    return np.exp(-z ** (1 / c)) * z ** (1 / c - 1) / scale"
   ]
  },
  {
   "cell_type": "code",
   "execution_count": 79,
   "metadata": {},
   "outputs": [
    {
     "data": {
      "text/plain": [
       "<matplotlib.legend.Legend at 0x7efb4065c410>"
      ]
     },
     "execution_count": 79,
     "metadata": {},
     "output_type": "execute_result"
    },
    {
     "data": {
      "image/png": "[encoded data removed]",
      "text/plain": [
       "<Figure size 640x480 with 1 Axes>"
      ]
     },
     "metadata": {},
     "output_type": "display_data"
    }
   ],
   "source": [
    "plt.plot(np.linspace(-100,0),genextreme_pdf(np.linspace(-100,0),*lm_para),label=\"handwrite\")\n",
    "plt.plot(np.linspace(-100,0),sp.stats.genextreme.pdf(np.linspace(-100,0),*lm_para),label=\"SciPy\",linestyle=\"--\")\n",
    "plt.legend()"
   ]
  },
  {
   "cell_type": "code",
   "execution_count": 83,
   "metadata": {},
   "outputs": [
    {
     "name": "stderr",
     "output_type": "stream",
     "text": [
      "/tmp/ipykernel_3155/3521746299.py:4: RuntimeWarning: invalid value encountered in power\n",
      "  return np.exp(-z ** (1 / c)) * z ** (1 / c - 1) / scale\n"
     ]
    }
   ],
   "source": [
    "ppf_mat = genextreme_pdf(d_frame,gev_paras[0],gev_paras[1],gev_paras[2])"
   ]
  },
  {
   "cell_type": "code",
   "execution_count": 84,
   "metadata": {},
   "outputs": [],
   "source": [
    "def genextreme_cdf(x, c, loc=0, scale=1):\n",
    "    # Use the general formula\n",
    "    z = 1 - c * (x - loc) / scale\n",
    "    return np.exp(-z ** (1 / c))"
   ]
  },
  {
   "cell_type": "code",
   "execution_count": 85,
   "metadata": {},
   "outputs": [
    {
     "name": "stderr",
     "output_type": "stream",
     "text": [
      "/tmp/ipykernel_3155/2821850209.py:4: RuntimeWarning: invalid value encountered in power\n",
      "  return np.exp(-z ** (1 / c))\n"
     ]
    }
   ],
   "source": [
    "cdf_mat = genextreme_cdf(d_frame,gev_paras[0],gev_paras[1],gev_paras[2])"
   ]
  },
  {
   "cell_type": "code",
   "execution_count": 118,
   "metadata": {},
   "outputs": [],
   "source": [
    "spei = norm.ppf(cdf_mat,0,1)"
   ]
  },
  {
   "cell_type": "code",
   "execution_count": 120,
   "metadata": {},
   "outputs": [
    {
     "data": {
      "text/plain": [
       "array([ 2.42937544, -1.09626517,  2.43068968, -0.02552229, -0.66162202,\n",
       "        0.36976163,  1.11419596,  0.8174691 ,  0.246193  , -0.6217393 ,\n",
       "       -0.40339395, -0.60609327, -0.94050187, -0.62554135, -1.13262159,\n",
       "       -0.71449689, -0.35527075,  2.44298167,  0.96088327,  0.65276132,\n",
       "        0.11798047, -0.39134231, -1.0151139 , -1.13553258, -1.11721272,\n",
       "       -0.82843156, -0.94788121, -0.52578297, -0.41763837,  0.19709435,\n",
       "        0.70574446,  0.39058065,  0.40839746, -0.57908211, -0.61231153,\n",
       "       -0.85376634, -0.55586553, -0.45794871, -0.65083738,  0.05553097,\n",
       "       -0.0380982 , -0.05620624,  0.62091449,  0.71256533,  0.19401068,\n",
       "       -0.23417715, -0.38274489, -0.56823676, -0.89317592, -0.40224369,\n",
       "       -1.18565607, -0.8919535 , -0.14184381,  0.368951  ,  1.14649227,\n",
       "        0.93485165, -0.08895117, -0.10352082, -0.62467919,  2.42988726,\n",
       "       -1.06783821, -0.94712111, -0.39000282, -0.71686308, -0.30343975,\n",
       "        0.24802187,  2.45001457,  0.97370918, -0.41850136, -0.42545438,\n",
       "       -0.84948979, -0.76860312,  2.43052394, -0.64958369, -0.54442438,\n",
       "       -0.58795469, -0.44701453,  0.23097155,  0.6813914 ,  2.44127588,\n",
       "        0.27802821, -0.07533004, -0.33826776, -1.04585584, -1.10565326,\n",
       "       -0.74159852, -1.03707946, -0.26939034, -0.09758002,  0.48706055,\n",
       "        0.76262327,  0.48141421,  0.24399932, -0.49716254, -0.73629548,\n",
       "       -0.89305048, -1.07121175, -0.77138051,  2.42966161, -0.31267858,\n",
       "        0.07608573,  0.37149564,  0.76766534,  0.83395748, -0.18546767,\n",
       "       -0.88511597, -1.15660992, -0.49732982, -1.1292874 , -0.61517515,\n",
       "       -0.46065758, -0.20542294, -0.32251513,  0.30891591,  0.76178111,\n",
       "        0.32692815, -0.1268264 , -0.56243434, -0.60858513, -0.94841031,\n",
       "       -0.73559771, -0.57787344, -0.45897112, -0.45784854, -0.23040179,\n",
       "       -0.12797945,  0.59579875,  0.95511968,  0.03242238, -0.44383263,\n",
       "        2.42936262, -0.63519762, -0.90494104, -0.74744586, -1.15496494,\n",
       "        2.43218318, -0.34979785, -0.02964389,  0.98414963,  0.48710961,\n",
       "        0.03084109, -0.71381438, -0.23178261, -0.76260269, -0.59944888,\n",
       "       -1.22786901, -1.02548851, -0.31254226, -0.3050601 ,  2.43220969,\n",
       "        0.46040394,  0.78427458, -0.41620187,  2.43396086,  2.43058742,\n",
       "       -0.59083834, -0.52502862, -0.58283193, -1.13101207, -0.58102376,\n",
       "       -0.77168649,  0.45610363,  0.5908176 ,  0.25853193, -0.43191569,\n",
       "       -0.41915394, -0.42919362, -1.01595991, -0.70972926, -0.98482429,\n",
       "       -0.86368316, -0.16812966,  2.4309216 ,  0.30415109,  0.47990409,\n",
       "        0.23666057,  0.03347107, -0.43697309, -0.78090992, -0.7374237 ,\n",
       "        2.42962659, -0.6405855 , -1.02858856,  2.43082638, -0.30268123,\n",
       "        0.13823069,  0.64466713,  0.67597166, -0.70145424, -0.82276615,\n",
       "       -0.50699941, -0.90319779])"
      ]
     },
     "execution_count": 120,
     "metadata": {},
     "output_type": "execute_result"
    }
   ],
   "source": [
    "spei[:,500,900]"
   ]
  }
 ],
 "metadata": {
  "kernelspec": {
   "display_name": "gis",
   "language": "python",
   "name": "python3"
  },
  "language_info": {
   "codemirror_mode": {
    "name": "ipython",
    "version": 3
   },
   "file_extension": ".py",
   "mimetype": "text/x-python",
   "name": "python",
   "nbconvert_exporter": "python",
   "pygments_lexer": "ipython3",
   "version": "3.11.4"
  },
  "orig_nbformat": 4
 },
 "nbformat": 4,
 "nbformat_minor": 2
}

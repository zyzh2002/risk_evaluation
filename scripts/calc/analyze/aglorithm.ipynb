{
 "cells": [
  {
   "cell_type": "markdown",
   "metadata": {},
   "source": [
    "这是GPU计算SPEI的验证性质脚本"
   ]
  },
  {
   "cell_type": "code",
   "execution_count": 2,
   "metadata": {},
   "outputs": [],
   "source": [
    "import numpy as np\n",
    "import scipy as sp\n",
    "import pandas as pd\n",
    "import matplotlib.pyplot as plt\n",
    "import numba as nb\n",
    "import torch\n",
    "import xarray as xr\n",
    "import dask as dk\n",
    "import multiprocessing as mp\n",
    "import os\n",
    "import rasterio as rio\n",
    "import rioxarray as rxr"
   ]
  },
  {
   "cell_type": "markdown",
   "metadata": {},
   "source": [
    "检测CUDA状态并设置默认设备"
   ]
  },
  {
   "cell_type": "code",
   "execution_count": 3,
   "metadata": {},
   "outputs": [],
   "source": [
    "if torch.cuda.is_available():\n",
    "    torch.set_default_device('cuda')\n",
    "else:\n",
    "    torch.set_default_device('cpu')"
   ]
  },
  {
   "cell_type": "markdown",
   "metadata": {},
   "source": [
    "读入示例数据"
   ]
  },
  {
   "cell_type": "code",
   "execution_count": 4,
   "metadata": {},
   "outputs": [],
   "source": [
    "def read_precip():\n",
    "    data_frame_list = []    \n",
    "    for i in os.listdir(os.path.join(\"..\",\"..\",\"..\",\"scripts/outputs/PRECIP\")):\n",
    "        filename  = os.path.join(\"..\",\"..\",\"..\",\"scripts/outputs/PRECIP\",i)\n",
    "        data_frame = xr.open_dataset(filename,decode_coords=\"all\").to_array()[0,:,:,:]\n",
    "        data_frame_list.append(data_frame)\n",
    "    return np.concatenate(data_frame_list,axis=0)\n",
    "\n",
    "def read_pet():\n",
    "    data_frame_list = []\n",
    "    for i in os.listdir(os.path.join(\"..\",\"..\",\"..\",\"scripts\",\"outputs\",\"PET\")):\n",
    "        data_frame_list.append(xr.open_dataset(os.path.join(\"..\",\"..\",\"..\",\"scripts\",\"outputs\",\"PET\",i),decode_coords=\"all\").to_array())\n",
    "    return np.concatenate(data_frame_list,axis=0)"
   ]
  },
  {
   "cell_type": "code",
   "execution_count": 16,
   "metadata": {},
   "outputs": [],
   "source": [
    "pre_frame = read_precip()[0:192,:,:]*0.1\n",
    "pet_frame = read_pet()"
   ]
  },
  {
   "cell_type": "code",
   "execution_count": 17,
   "metadata": {},
   "outputs": [],
   "source": [
    "pre_seq = pre_frame[:,1000,1000]\n",
    "pet_seq = pet_frame[:,1000,1000]"
   ]
  },
  {
   "cell_type": "code",
   "execution_count": 18,
   "metadata": {},
   "outputs": [
    {
     "data": {
      "text/plain": [
       "array([1.80000007e+00, 4.80000019e+00, 3.17000008e+01, 3.74000015e+01,\n",
       "       6.50000000e+00, 6.02999992e+01, 2.20300003e+02, 1.26599998e+02,\n",
       "       9.19000015e+01, 4.30000019e+00, 3.95000000e+01, 6.89000015e+01,\n",
       "       7.50000000e+00, 1.91000004e+01, 1.21999998e+01, 1.41999998e+01,\n",
       "       1.21099998e+02, 7.00000000e+01, 2.13400009e+02, 7.70000000e+01,\n",
       "       7.20999985e+01, 3.29999995e+00, 3.74000015e+01, 1.20000005e+00,\n",
       "       2.79999995e+00, 2.85000000e+01, 8.50000000e+00, 4.42000008e+01,\n",
       "       4.44000015e+01, 9.29000015e+01, 1.77100006e+02, 1.40500000e+02,\n",
       "       1.05500000e+02, 1.60000000e+01, 4.11000023e+01, 4.00000000e+00,\n",
       "       5.59999990e+00, 1.24000006e+01, 1.78999996e+01, 5.77999992e+01,\n",
       "       5.12000008e+01, 1.60000000e+02, 1.16099998e+02, 1.65199997e+02,\n",
       "       7.70000000e+01, 1.30000000e+01, 8.08000031e+01, 7.80000019e+00,\n",
       "       8.50000000e+00, 2.77000008e+01, 4.80000019e+00, 3.06000004e+01,\n",
       "       5.85000000e+01, 1.49100006e+02, 1.97900009e+02, 1.55500000e+02,\n",
       "       5.30000000e+01, 4.00000000e+01, 2.51000004e+01, 5.54000015e+01,\n",
       "       2.63000011e+01, 1.44000006e+01, 1.83000011e+01, 2.17000008e+01,\n",
       "       4.01000023e+01, 1.28199997e+02, 2.03600006e+02, 1.66900009e+02,\n",
       "       8.29000015e+01, 2.27000008e+01, 3.50000000e+00, 3.10000014e+00,\n",
       "       6.50000000e+00, 2.50000000e+01, 3.47999992e+01, 6.37999992e+01,\n",
       "       3.92999992e+01, 1.72800003e+02, 2.66899994e+02, 2.22900009e+02,\n",
       "       1.13200005e+02, 3.27999992e+01, 3.74000015e+01, 2.77000008e+01,\n",
       "       5.80000019e+00, 1.63000011e+01, 7.40000010e+00, 2.36000004e+01,\n",
       "       7.49000015e+01, 1.14400002e+02, 2.04699997e+02, 1.43600006e+02,\n",
       "       8.44000015e+01, 4.40000010e+00, 3.94000015e+01, 1.53000002e+01,\n",
       "       3.20000005e+00, 2.66000004e+01, 1.05000000e+01, 2.68999996e+01,\n",
       "       4.19000015e+01, 1.56800003e+02, 2.43100006e+02, 2.01300003e+02,\n",
       "       1.82300003e+02, 9.50000000e+00, 1.66000004e+01, 1.45000000e+01,\n",
       "       9.00000036e-01, 1.81000004e+01, 2.41000004e+01, 2.98000011e+01,\n",
       "       5.99000015e+01, 1.34000000e+02, 2.15500000e+02, 1.42600006e+02,\n",
       "       4.72999992e+01, 6.59999990e+00, 3.52000008e+01, 2.98000011e+01,\n",
       "       2.20000005e+00, 3.17000008e+01, 1.87000008e+01, 4.32999992e+01,\n",
       "       5.64000015e+01, 8.28000031e+01, 1.44100006e+02, 1.83600006e+02,\n",
       "       1.32300003e+02, 1.50000000e+00, 5.00000000e-01, 5.80000019e+00,\n",
       "       2.00000003e-01, 2.67000008e+01, 5.80000019e+00, 1.03000002e+01,\n",
       "       5.34000015e+01, 9.39000015e+01, 1.59900009e+02, 2.22400009e+02,\n",
       "       8.45000000e+01, 7.20000029e+00, 6.92000046e+01, 3.52000008e+01,\n",
       "       2.58999996e+01, 1.21000004e+01, 1.60000002e+00, 7.40000010e+00,\n",
       "       4.99000015e+01, 1.75199997e+02, 1.52300003e+02, 1.97100006e+02,\n",
       "       5.52999992e+01, 3.21000023e+01, 5.62999992e+01, 1.15000000e+01,\n",
       "       3.82000008e+01, 3.06000004e+01, 3.50000000e+00, 1.54000006e+01,\n",
       "       5.40000010e+00, 1.54800003e+02, 2.00699997e+02, 1.40800003e+02,\n",
       "       1.56999998e+01, 6.59999990e+00, 9.10000038e+00, 4.17000008e+01,\n",
       "       5.80000019e+00, 4.50000000e+00, 1.67000008e+01, 3.67999992e+01,\n",
       "       9.45000000e+01, 1.17700005e+02, 1.24500000e+02, 6.77000046e+01,\n",
       "       3.75000000e+01, 9.60000038e+00, 2.60000014e+00, 3.72000008e+01,\n",
       "       1.06999998e+01, 1.31999998e+01, 1.20000005e+00, 4.07000008e+01,\n",
       "       4.97000008e+01, 1.47800003e+02, 2.17699997e+02, 1.79000000e+02,\n",
       "       3.62999992e+01, 2.79999995e+00, 4.80000000e+01, 2.93000011e+01],\n",
       "      dtype=float32)"
      ]
     },
     "execution_count": 18,
     "metadata": {},
     "output_type": "execute_result"
    }
   ],
   "source": [
    "pre_seq"
   ]
  }
 ],
 "metadata": {
  "kernelspec": {
   "display_name": "gis",
   "language": "python",
   "name": "python3"
  },
  "language_info": {
   "codemirror_mode": {
    "name": "ipython",
    "version": 3
   },
   "file_extension": ".py",
   "mimetype": "text/x-python",
   "name": "python",
   "nbconvert_exporter": "python",
   "pygments_lexer": "ipython3",
   "version": "3.11.4"
  },
  "orig_nbformat": 4
 },
 "nbformat": 4,
 "nbformat_minor": 2
}
